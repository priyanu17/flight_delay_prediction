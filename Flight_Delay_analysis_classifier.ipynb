{
  "nbformat": 4,
  "nbformat_minor": 0,
  "metadata": {
    "colab": {
      "name": "7_20/5/20_Varun_Flight_Data.ipynb",
      "provenance": [],
      "collapsed_sections": [],
      "mount_file_id": "1wAiBONmxBeKwwzy-Up9obzM35Fi6Dque",
      "authorship_tag": "ABX9TyOjJ6fNwXo/oTS0Dwk/loNk",
      "include_colab_link": true
    },
    "kernelspec": {
      "name": "python3",
      "display_name": "Python 3"
    }
  },
  "cells": [
    {
      "cell_type": "markdown",
      "metadata": {
        "id": "view-in-github",
        "colab_type": "text"
      },
      "source": [
        "<a href=\"https://colab.research.google.com/github/priyanu17/flight_delay_prediction/blob/master/Flight_Delay_analysis_classifier.ipynb\" target=\"_parent\"><img src=\"https://colab.research.google.com/assets/colab-badge.svg\" alt=\"Open In Colab\"/></a>"
      ]
    },
    {
      "cell_type": "code",
      "metadata": {
        "id": "umVHJFUtx3dL",
        "colab_type": "code",
        "colab": {}
      },
      "source": [
        "import warnings\n",
        "warnings.filterwarnings(\"ignore\")"
      ],
      "execution_count": 1,
      "outputs": []
    },
    {
      "cell_type": "code",
      "metadata": {
        "id": "-PnbNju7VXEx",
        "colab_type": "code",
        "colab": {}
      },
      "source": [
        "import pandas as pd\n",
        "import numpy as np\n",
        "import matplotlib.pyplot as plt\n",
        "import seaborn as sns\n",
        "%matplotlib inline"
      ],
      "execution_count": 2,
      "outputs": []
    },
    {
      "cell_type": "code",
      "metadata": {
        "id": "ONDvwFmLgO71",
        "colab_type": "code",
        "colab": {}
      },
      "source": [
        "flight_2019 = pd.read_csv(\"drive/My Drive/Jan_2019_ontime.csv\")\n",
        "flight_2020 = pd.read_csv(\"drive/My Drive/Jan_2020_ontime.csv\")"
      ],
      "execution_count": 3,
      "outputs": []
    },
    {
      "cell_type": "code",
      "metadata": {
        "id": "lo94hsXwiTiD",
        "colab_type": "code",
        "colab": {}
      },
      "source": [
        "## PROBLEM STATEMENT:\n",
        "\n",
        "# Based on given data predict future flight delays for the month of January"
      ],
      "execution_count": 4,
      "outputs": []
    },
    {
      "cell_type": "code",
      "metadata": {
        "id": "lj9zwyHDgk39",
        "colab_type": "code",
        "colab": {
          "base_uri": "https://localhost:8080/",
          "height": 232
        },
        "outputId": "70ca8e3e-5fd0-409d-d782-195ebdeb68ef"
      },
      "source": [
        "flight_2019.head()"
      ],
      "execution_count": 5,
      "outputs": [
        {
          "output_type": "execute_result",
          "data": {
            "text/html": [
              "<div>\n",
              "<style scoped>\n",
              "    .dataframe tbody tr th:only-of-type {\n",
              "        vertical-align: middle;\n",
              "    }\n",
              "\n",
              "    .dataframe tbody tr th {\n",
              "        vertical-align: top;\n",
              "    }\n",
              "\n",
              "    .dataframe thead th {\n",
              "        text-align: right;\n",
              "    }\n",
              "</style>\n",
              "<table border=\"1\" class=\"dataframe\">\n",
              "  <thead>\n",
              "    <tr style=\"text-align: right;\">\n",
              "      <th></th>\n",
              "      <th>DAY_OF_MONTH</th>\n",
              "      <th>DAY_OF_WEEK</th>\n",
              "      <th>OP_UNIQUE_CARRIER</th>\n",
              "      <th>OP_CARRIER_AIRLINE_ID</th>\n",
              "      <th>OP_CARRIER</th>\n",
              "      <th>TAIL_NUM</th>\n",
              "      <th>OP_CARRIER_FL_NUM</th>\n",
              "      <th>ORIGIN_AIRPORT_ID</th>\n",
              "      <th>ORIGIN_AIRPORT_SEQ_ID</th>\n",
              "      <th>ORIGIN</th>\n",
              "      <th>DEST_AIRPORT_ID</th>\n",
              "      <th>DEST_AIRPORT_SEQ_ID</th>\n",
              "      <th>DEST</th>\n",
              "      <th>DEP_TIME</th>\n",
              "      <th>DEP_DEL15</th>\n",
              "      <th>DEP_TIME_BLK</th>\n",
              "      <th>ARR_TIME</th>\n",
              "      <th>ARR_DEL15</th>\n",
              "      <th>CANCELLED</th>\n",
              "      <th>DIVERTED</th>\n",
              "      <th>DISTANCE</th>\n",
              "      <th>Unnamed: 21</th>\n",
              "    </tr>\n",
              "  </thead>\n",
              "  <tbody>\n",
              "    <tr>\n",
              "      <th>0</th>\n",
              "      <td>1</td>\n",
              "      <td>2</td>\n",
              "      <td>9E</td>\n",
              "      <td>20363</td>\n",
              "      <td>9E</td>\n",
              "      <td>N8688C</td>\n",
              "      <td>3280</td>\n",
              "      <td>11953</td>\n",
              "      <td>1195302</td>\n",
              "      <td>GNV</td>\n",
              "      <td>10397</td>\n",
              "      <td>1039707</td>\n",
              "      <td>ATL</td>\n",
              "      <td>601.0</td>\n",
              "      <td>0.0</td>\n",
              "      <td>0600-0659</td>\n",
              "      <td>722.0</td>\n",
              "      <td>0.0</td>\n",
              "      <td>0.0</td>\n",
              "      <td>0.0</td>\n",
              "      <td>300.0</td>\n",
              "      <td>NaN</td>\n",
              "    </tr>\n",
              "    <tr>\n",
              "      <th>1</th>\n",
              "      <td>1</td>\n",
              "      <td>2</td>\n",
              "      <td>9E</td>\n",
              "      <td>20363</td>\n",
              "      <td>9E</td>\n",
              "      <td>N348PQ</td>\n",
              "      <td>3281</td>\n",
              "      <td>13487</td>\n",
              "      <td>1348702</td>\n",
              "      <td>MSP</td>\n",
              "      <td>11193</td>\n",
              "      <td>1119302</td>\n",
              "      <td>CVG</td>\n",
              "      <td>1359.0</td>\n",
              "      <td>0.0</td>\n",
              "      <td>1400-1459</td>\n",
              "      <td>1633.0</td>\n",
              "      <td>0.0</td>\n",
              "      <td>0.0</td>\n",
              "      <td>0.0</td>\n",
              "      <td>596.0</td>\n",
              "      <td>NaN</td>\n",
              "    </tr>\n",
              "    <tr>\n",
              "      <th>2</th>\n",
              "      <td>1</td>\n",
              "      <td>2</td>\n",
              "      <td>9E</td>\n",
              "      <td>20363</td>\n",
              "      <td>9E</td>\n",
              "      <td>N8896A</td>\n",
              "      <td>3282</td>\n",
              "      <td>11433</td>\n",
              "      <td>1143302</td>\n",
              "      <td>DTW</td>\n",
              "      <td>11193</td>\n",
              "      <td>1119302</td>\n",
              "      <td>CVG</td>\n",
              "      <td>1215.0</td>\n",
              "      <td>0.0</td>\n",
              "      <td>1200-1259</td>\n",
              "      <td>1329.0</td>\n",
              "      <td>0.0</td>\n",
              "      <td>0.0</td>\n",
              "      <td>0.0</td>\n",
              "      <td>229.0</td>\n",
              "      <td>NaN</td>\n",
              "    </tr>\n",
              "    <tr>\n",
              "      <th>3</th>\n",
              "      <td>1</td>\n",
              "      <td>2</td>\n",
              "      <td>9E</td>\n",
              "      <td>20363</td>\n",
              "      <td>9E</td>\n",
              "      <td>N8886A</td>\n",
              "      <td>3283</td>\n",
              "      <td>15249</td>\n",
              "      <td>1524906</td>\n",
              "      <td>TLH</td>\n",
              "      <td>10397</td>\n",
              "      <td>1039707</td>\n",
              "      <td>ATL</td>\n",
              "      <td>1521.0</td>\n",
              "      <td>0.0</td>\n",
              "      <td>1500-1559</td>\n",
              "      <td>1625.0</td>\n",
              "      <td>0.0</td>\n",
              "      <td>0.0</td>\n",
              "      <td>0.0</td>\n",
              "      <td>223.0</td>\n",
              "      <td>NaN</td>\n",
              "    </tr>\n",
              "    <tr>\n",
              "      <th>4</th>\n",
              "      <td>1</td>\n",
              "      <td>2</td>\n",
              "      <td>9E</td>\n",
              "      <td>20363</td>\n",
              "      <td>9E</td>\n",
              "      <td>N8974C</td>\n",
              "      <td>3284</td>\n",
              "      <td>10397</td>\n",
              "      <td>1039707</td>\n",
              "      <td>ATL</td>\n",
              "      <td>11778</td>\n",
              "      <td>1177801</td>\n",
              "      <td>FSM</td>\n",
              "      <td>1847.0</td>\n",
              "      <td>0.0</td>\n",
              "      <td>1900-1959</td>\n",
              "      <td>1940.0</td>\n",
              "      <td>0.0</td>\n",
              "      <td>0.0</td>\n",
              "      <td>0.0</td>\n",
              "      <td>579.0</td>\n",
              "      <td>NaN</td>\n",
              "    </tr>\n",
              "  </tbody>\n",
              "</table>\n",
              "</div>"
            ],
            "text/plain": [
              "   DAY_OF_MONTH  DAY_OF_WEEK OP_UNIQUE_CARRIER  ...  DIVERTED DISTANCE Unnamed: 21\n",
              "0             1            2                9E  ...       0.0    300.0         NaN\n",
              "1             1            2                9E  ...       0.0    596.0         NaN\n",
              "2             1            2                9E  ...       0.0    229.0         NaN\n",
              "3             1            2                9E  ...       0.0    223.0         NaN\n",
              "4             1            2                9E  ...       0.0    579.0         NaN\n",
              "\n",
              "[5 rows x 22 columns]"
            ]
          },
          "metadata": {
            "tags": []
          },
          "execution_count": 5
        }
      ]
    },
    {
      "cell_type": "code",
      "metadata": {
        "id": "yXxDht2ignuZ",
        "colab_type": "code",
        "colab": {
          "base_uri": "https://localhost:8080/",
          "height": 232
        },
        "outputId": "2d24e11a-d5d3-4010-d26d-628cfa7e9859"
      },
      "source": [
        "flight_2020.head()"
      ],
      "execution_count": 6,
      "outputs": [
        {
          "output_type": "execute_result",
          "data": {
            "text/html": [
              "<div>\n",
              "<style scoped>\n",
              "    .dataframe tbody tr th:only-of-type {\n",
              "        vertical-align: middle;\n",
              "    }\n",
              "\n",
              "    .dataframe tbody tr th {\n",
              "        vertical-align: top;\n",
              "    }\n",
              "\n",
              "    .dataframe thead th {\n",
              "        text-align: right;\n",
              "    }\n",
              "</style>\n",
              "<table border=\"1\" class=\"dataframe\">\n",
              "  <thead>\n",
              "    <tr style=\"text-align: right;\">\n",
              "      <th></th>\n",
              "      <th>DAY_OF_MONTH</th>\n",
              "      <th>DAY_OF_WEEK</th>\n",
              "      <th>OP_UNIQUE_CARRIER</th>\n",
              "      <th>OP_CARRIER_AIRLINE_ID</th>\n",
              "      <th>OP_CARRIER</th>\n",
              "      <th>TAIL_NUM</th>\n",
              "      <th>OP_CARRIER_FL_NUM</th>\n",
              "      <th>ORIGIN_AIRPORT_ID</th>\n",
              "      <th>ORIGIN_AIRPORT_SEQ_ID</th>\n",
              "      <th>ORIGIN</th>\n",
              "      <th>DEST_AIRPORT_ID</th>\n",
              "      <th>DEST_AIRPORT_SEQ_ID</th>\n",
              "      <th>DEST</th>\n",
              "      <th>DEP_TIME</th>\n",
              "      <th>DEP_DEL15</th>\n",
              "      <th>DEP_TIME_BLK</th>\n",
              "      <th>ARR_TIME</th>\n",
              "      <th>ARR_DEL15</th>\n",
              "      <th>CANCELLED</th>\n",
              "      <th>DIVERTED</th>\n",
              "      <th>DISTANCE</th>\n",
              "      <th>Unnamed: 21</th>\n",
              "    </tr>\n",
              "  </thead>\n",
              "  <tbody>\n",
              "    <tr>\n",
              "      <th>0</th>\n",
              "      <td>1</td>\n",
              "      <td>3</td>\n",
              "      <td>EV</td>\n",
              "      <td>20366</td>\n",
              "      <td>EV</td>\n",
              "      <td>N48901</td>\n",
              "      <td>4397</td>\n",
              "      <td>13930</td>\n",
              "      <td>1393007</td>\n",
              "      <td>ORD</td>\n",
              "      <td>11977</td>\n",
              "      <td>1197705</td>\n",
              "      <td>GRB</td>\n",
              "      <td>1003.0</td>\n",
              "      <td>0.0</td>\n",
              "      <td>1000-1059</td>\n",
              "      <td>1117.0</td>\n",
              "      <td>0.0</td>\n",
              "      <td>0.0</td>\n",
              "      <td>0.0</td>\n",
              "      <td>174.0</td>\n",
              "      <td>NaN</td>\n",
              "    </tr>\n",
              "    <tr>\n",
              "      <th>1</th>\n",
              "      <td>1</td>\n",
              "      <td>3</td>\n",
              "      <td>EV</td>\n",
              "      <td>20366</td>\n",
              "      <td>EV</td>\n",
              "      <td>N16976</td>\n",
              "      <td>4401</td>\n",
              "      <td>15370</td>\n",
              "      <td>1537002</td>\n",
              "      <td>TUL</td>\n",
              "      <td>13930</td>\n",
              "      <td>1393007</td>\n",
              "      <td>ORD</td>\n",
              "      <td>1027.0</td>\n",
              "      <td>0.0</td>\n",
              "      <td>1000-1059</td>\n",
              "      <td>1216.0</td>\n",
              "      <td>0.0</td>\n",
              "      <td>0.0</td>\n",
              "      <td>0.0</td>\n",
              "      <td>585.0</td>\n",
              "      <td>NaN</td>\n",
              "    </tr>\n",
              "    <tr>\n",
              "      <th>2</th>\n",
              "      <td>1</td>\n",
              "      <td>3</td>\n",
              "      <td>EV</td>\n",
              "      <td>20366</td>\n",
              "      <td>EV</td>\n",
              "      <td>N12167</td>\n",
              "      <td>4404</td>\n",
              "      <td>11618</td>\n",
              "      <td>1161802</td>\n",
              "      <td>EWR</td>\n",
              "      <td>15412</td>\n",
              "      <td>1541205</td>\n",
              "      <td>TYS</td>\n",
              "      <td>1848.0</td>\n",
              "      <td>0.0</td>\n",
              "      <td>1800-1859</td>\n",
              "      <td>2120.0</td>\n",
              "      <td>0.0</td>\n",
              "      <td>0.0</td>\n",
              "      <td>0.0</td>\n",
              "      <td>631.0</td>\n",
              "      <td>NaN</td>\n",
              "    </tr>\n",
              "    <tr>\n",
              "      <th>3</th>\n",
              "      <td>1</td>\n",
              "      <td>3</td>\n",
              "      <td>EV</td>\n",
              "      <td>20366</td>\n",
              "      <td>EV</td>\n",
              "      <td>N14902</td>\n",
              "      <td>4405</td>\n",
              "      <td>10781</td>\n",
              "      <td>1078105</td>\n",
              "      <td>BTR</td>\n",
              "      <td>12266</td>\n",
              "      <td>1226603</td>\n",
              "      <td>IAH</td>\n",
              "      <td>1846.0</td>\n",
              "      <td>0.0</td>\n",
              "      <td>1800-1859</td>\n",
              "      <td>2004.0</td>\n",
              "      <td>0.0</td>\n",
              "      <td>0.0</td>\n",
              "      <td>0.0</td>\n",
              "      <td>253.0</td>\n",
              "      <td>NaN</td>\n",
              "    </tr>\n",
              "    <tr>\n",
              "      <th>4</th>\n",
              "      <td>1</td>\n",
              "      <td>3</td>\n",
              "      <td>EV</td>\n",
              "      <td>20366</td>\n",
              "      <td>EV</td>\n",
              "      <td>N606UX</td>\n",
              "      <td>4407</td>\n",
              "      <td>14524</td>\n",
              "      <td>1452401</td>\n",
              "      <td>RIC</td>\n",
              "      <td>12266</td>\n",
              "      <td>1226603</td>\n",
              "      <td>IAH</td>\n",
              "      <td>1038.0</td>\n",
              "      <td>0.0</td>\n",
              "      <td>1000-1059</td>\n",
              "      <td>1330.0</td>\n",
              "      <td>0.0</td>\n",
              "      <td>0.0</td>\n",
              "      <td>0.0</td>\n",
              "      <td>1157.0</td>\n",
              "      <td>NaN</td>\n",
              "    </tr>\n",
              "  </tbody>\n",
              "</table>\n",
              "</div>"
            ],
            "text/plain": [
              "   DAY_OF_MONTH  DAY_OF_WEEK OP_UNIQUE_CARRIER  ...  DIVERTED DISTANCE Unnamed: 21\n",
              "0             1            3                EV  ...       0.0    174.0         NaN\n",
              "1             1            3                EV  ...       0.0    585.0         NaN\n",
              "2             1            3                EV  ...       0.0    631.0         NaN\n",
              "3             1            3                EV  ...       0.0    253.0         NaN\n",
              "4             1            3                EV  ...       0.0   1157.0         NaN\n",
              "\n",
              "[5 rows x 22 columns]"
            ]
          },
          "metadata": {
            "tags": []
          },
          "execution_count": 6
        }
      ]
    },
    {
      "cell_type": "code",
      "metadata": {
        "id": "W8RMb_fsgsVc",
        "colab_type": "code",
        "colab": {}
      },
      "source": [
        "# Shape of datasets"
      ],
      "execution_count": 7,
      "outputs": []
    },
    {
      "cell_type": "code",
      "metadata": {
        "id": "lduws31MhP-O",
        "colab_type": "code",
        "colab": {
          "base_uri": "https://localhost:8080/",
          "height": 34
        },
        "outputId": "5ce3b610-1dbf-4401-f530-1fb05ef1ed96"
      },
      "source": [
        "flight_2019.shape"
      ],
      "execution_count": 8,
      "outputs": [
        {
          "output_type": "execute_result",
          "data": {
            "text/plain": [
              "(583985, 22)"
            ]
          },
          "metadata": {
            "tags": []
          },
          "execution_count": 8
        }
      ]
    },
    {
      "cell_type": "code",
      "metadata": {
        "id": "mx7cl0RahP5i",
        "colab_type": "code",
        "colab": {
          "base_uri": "https://localhost:8080/",
          "height": 34
        },
        "outputId": "2ef00a52-8e72-48e5-ab1a-4371e61aaa83"
      },
      "source": [
        "flight_2020.shape"
      ],
      "execution_count": 9,
      "outputs": [
        {
          "output_type": "execute_result",
          "data": {
            "text/plain": [
              "(607346, 22)"
            ]
          },
          "metadata": {
            "tags": []
          },
          "execution_count": 9
        }
      ]
    },
    {
      "cell_type": "code",
      "metadata": {
        "id": "ZrRnnN6chbem",
        "colab_type": "code",
        "colab": {}
      },
      "source": [
        "# Info on datasets:"
      ],
      "execution_count": 10,
      "outputs": []
    },
    {
      "cell_type": "code",
      "metadata": {
        "id": "A9RsDqxRhd3g",
        "colab_type": "code",
        "colab": {
          "base_uri": "https://localhost:8080/",
          "height": 504
        },
        "outputId": "140b9627-d858-4d5f-d09d-dd342753fe2b"
      },
      "source": [
        "flight_2019.info()"
      ],
      "execution_count": 11,
      "outputs": [
        {
          "output_type": "stream",
          "text": [
            "<class 'pandas.core.frame.DataFrame'>\n",
            "RangeIndex: 583985 entries, 0 to 583984\n",
            "Data columns (total 22 columns):\n",
            " #   Column                 Non-Null Count   Dtype  \n",
            "---  ------                 --------------   -----  \n",
            " 0   DAY_OF_MONTH           583985 non-null  int64  \n",
            " 1   DAY_OF_WEEK            583985 non-null  int64  \n",
            " 2   OP_UNIQUE_CARRIER      583985 non-null  object \n",
            " 3   OP_CARRIER_AIRLINE_ID  583985 non-null  int64  \n",
            " 4   OP_CARRIER             583985 non-null  object \n",
            " 5   TAIL_NUM               581442 non-null  object \n",
            " 6   OP_CARRIER_FL_NUM      583985 non-null  int64  \n",
            " 7   ORIGIN_AIRPORT_ID      583985 non-null  int64  \n",
            " 8   ORIGIN_AIRPORT_SEQ_ID  583985 non-null  int64  \n",
            " 9   ORIGIN                 583985 non-null  object \n",
            " 10  DEST_AIRPORT_ID        583985 non-null  int64  \n",
            " 11  DEST_AIRPORT_SEQ_ID    583985 non-null  int64  \n",
            " 12  DEST                   583985 non-null  object \n",
            " 13  DEP_TIME               567633 non-null  float64\n",
            " 14  DEP_DEL15              567630 non-null  float64\n",
            " 15  DEP_TIME_BLK           583985 non-null  object \n",
            " 16  ARR_TIME               566924 non-null  float64\n",
            " 17  ARR_DEL15              565963 non-null  float64\n",
            " 18  CANCELLED              583985 non-null  float64\n",
            " 19  DIVERTED               583985 non-null  float64\n",
            " 20  DISTANCE               583985 non-null  float64\n",
            " 21  Unnamed: 21            0 non-null       float64\n",
            "dtypes: float64(8), int64(8), object(6)\n",
            "memory usage: 98.0+ MB\n"
          ],
          "name": "stdout"
        }
      ]
    },
    {
      "cell_type": "code",
      "metadata": {
        "id": "JTVCxOjHhfvR",
        "colab_type": "code",
        "colab": {
          "base_uri": "https://localhost:8080/",
          "height": 504
        },
        "outputId": "d36070a2-8a4d-49c4-e84e-70cd71cc176b"
      },
      "source": [
        "flight_2020.info()"
      ],
      "execution_count": 12,
      "outputs": [
        {
          "output_type": "stream",
          "text": [
            "<class 'pandas.core.frame.DataFrame'>\n",
            "RangeIndex: 607346 entries, 0 to 607345\n",
            "Data columns (total 22 columns):\n",
            " #   Column                 Non-Null Count   Dtype  \n",
            "---  ------                 --------------   -----  \n",
            " 0   DAY_OF_MONTH           607346 non-null  int64  \n",
            " 1   DAY_OF_WEEK            607346 non-null  int64  \n",
            " 2   OP_UNIQUE_CARRIER      607346 non-null  object \n",
            " 3   OP_CARRIER_AIRLINE_ID  607346 non-null  int64  \n",
            " 4   OP_CARRIER             607346 non-null  object \n",
            " 5   TAIL_NUM               606648 non-null  object \n",
            " 6   OP_CARRIER_FL_NUM      607346 non-null  int64  \n",
            " 7   ORIGIN_AIRPORT_ID      607346 non-null  int64  \n",
            " 8   ORIGIN_AIRPORT_SEQ_ID  607346 non-null  int64  \n",
            " 9   ORIGIN                 607346 non-null  object \n",
            " 10  DEST_AIRPORT_ID        607346 non-null  int64  \n",
            " 11  DEST_AIRPORT_SEQ_ID    607346 non-null  int64  \n",
            " 12  DEST                   607346 non-null  object \n",
            " 13  DEP_TIME               600682 non-null  float64\n",
            " 14  DEP_DEL15              600647 non-null  float64\n",
            " 15  DEP_TIME_BLK           607346 non-null  object \n",
            " 16  ARR_TIME               600271 non-null  float64\n",
            " 17  ARR_DEL15              599268 non-null  float64\n",
            " 18  CANCELLED              607346 non-null  float64\n",
            " 19  DIVERTED               607346 non-null  float64\n",
            " 20  DISTANCE               607346 non-null  float64\n",
            " 21  Unnamed: 21            0 non-null       float64\n",
            "dtypes: float64(8), int64(8), object(6)\n",
            "memory usage: 101.9+ MB\n"
          ],
          "name": "stdout"
        }
      ]
    },
    {
      "cell_type": "code",
      "metadata": {
        "id": "5bee8hphhiqA",
        "colab_type": "code",
        "colab": {}
      },
      "source": [
        "# Describe on datasets:"
      ],
      "execution_count": 13,
      "outputs": []
    },
    {
      "cell_type": "code",
      "metadata": {
        "id": "PuMg75tJhq1R",
        "colab_type": "code",
        "colab": {
          "base_uri": "https://localhost:8080/",
          "height": 521
        },
        "outputId": "acc30a29-52d7-4953-bfcd-13947c63ca51"
      },
      "source": [
        "flight_2019.describe().transpose()"
      ],
      "execution_count": 14,
      "outputs": [
        {
          "output_type": "execute_result",
          "data": {
            "text/html": [
              "<div>\n",
              "<style scoped>\n",
              "    .dataframe tbody tr th:only-of-type {\n",
              "        vertical-align: middle;\n",
              "    }\n",
              "\n",
              "    .dataframe tbody tr th {\n",
              "        vertical-align: top;\n",
              "    }\n",
              "\n",
              "    .dataframe thead th {\n",
              "        text-align: right;\n",
              "    }\n",
              "</style>\n",
              "<table border=\"1\" class=\"dataframe\">\n",
              "  <thead>\n",
              "    <tr style=\"text-align: right;\">\n",
              "      <th></th>\n",
              "      <th>count</th>\n",
              "      <th>mean</th>\n",
              "      <th>std</th>\n",
              "      <th>min</th>\n",
              "      <th>25%</th>\n",
              "      <th>50%</th>\n",
              "      <th>75%</th>\n",
              "      <th>max</th>\n",
              "    </tr>\n",
              "  </thead>\n",
              "  <tbody>\n",
              "    <tr>\n",
              "      <th>DAY_OF_MONTH</th>\n",
              "      <td>583985.0</td>\n",
              "      <td>1.596009e+01</td>\n",
              "      <td>8.987942</td>\n",
              "      <td>1.0</td>\n",
              "      <td>8.0</td>\n",
              "      <td>16.0</td>\n",
              "      <td>24.0</td>\n",
              "      <td>31.0</td>\n",
              "    </tr>\n",
              "    <tr>\n",
              "      <th>DAY_OF_WEEK</th>\n",
              "      <td>583985.0</td>\n",
              "      <td>3.835626e+00</td>\n",
              "      <td>1.921899</td>\n",
              "      <td>1.0</td>\n",
              "      <td>2.0</td>\n",
              "      <td>4.0</td>\n",
              "      <td>5.0</td>\n",
              "      <td>7.0</td>\n",
              "    </tr>\n",
              "    <tr>\n",
              "      <th>OP_CARRIER_AIRLINE_ID</th>\n",
              "      <td>583985.0</td>\n",
              "      <td>1.998321e+04</td>\n",
              "      <td>377.724638</td>\n",
              "      <td>19393.0</td>\n",
              "      <td>19790.0</td>\n",
              "      <td>19977.0</td>\n",
              "      <td>20368.0</td>\n",
              "      <td>20452.0</td>\n",
              "    </tr>\n",
              "    <tr>\n",
              "      <th>OP_CARRIER_FL_NUM</th>\n",
              "      <td>583985.0</td>\n",
              "      <td>2.537869e+03</td>\n",
              "      <td>1821.736145</td>\n",
              "      <td>1.0</td>\n",
              "      <td>979.0</td>\n",
              "      <td>2114.0</td>\n",
              "      <td>3902.0</td>\n",
              "      <td>7439.0</td>\n",
              "    </tr>\n",
              "    <tr>\n",
              "      <th>ORIGIN_AIRPORT_ID</th>\n",
              "      <td>583985.0</td>\n",
              "      <td>1.265970e+04</td>\n",
              "      <td>1519.405493</td>\n",
              "      <td>10135.0</td>\n",
              "      <td>11292.0</td>\n",
              "      <td>12889.0</td>\n",
              "      <td>13931.0</td>\n",
              "      <td>16218.0</td>\n",
              "    </tr>\n",
              "    <tr>\n",
              "      <th>ORIGIN_AIRPORT_SEQ_ID</th>\n",
              "      <td>583985.0</td>\n",
              "      <td>1.265974e+06</td>\n",
              "      <td>151940.299913</td>\n",
              "      <td>1013505.0</td>\n",
              "      <td>1129202.0</td>\n",
              "      <td>1288903.0</td>\n",
              "      <td>1393102.0</td>\n",
              "      <td>1621802.0</td>\n",
              "    </tr>\n",
              "    <tr>\n",
              "      <th>DEST_AIRPORT_ID</th>\n",
              "      <td>583985.0</td>\n",
              "      <td>1.265947e+04</td>\n",
              "      <td>1519.336466</td>\n",
              "      <td>10135.0</td>\n",
              "      <td>11292.0</td>\n",
              "      <td>12889.0</td>\n",
              "      <td>13931.0</td>\n",
              "      <td>16218.0</td>\n",
              "    </tr>\n",
              "    <tr>\n",
              "      <th>DEST_AIRPORT_SEQ_ID</th>\n",
              "      <td>583985.0</td>\n",
              "      <td>1.265951e+06</td>\n",
              "      <td>151933.397101</td>\n",
              "      <td>1013505.0</td>\n",
              "      <td>1129202.0</td>\n",
              "      <td>1288903.0</td>\n",
              "      <td>1393102.0</td>\n",
              "      <td>1621802.0</td>\n",
              "    </tr>\n",
              "    <tr>\n",
              "      <th>DEP_TIME</th>\n",
              "      <td>567633.0</td>\n",
              "      <td>1.331958e+03</td>\n",
              "      <td>495.404020</td>\n",
              "      <td>1.0</td>\n",
              "      <td>921.0</td>\n",
              "      <td>1328.0</td>\n",
              "      <td>1738.0</td>\n",
              "      <td>2400.0</td>\n",
              "    </tr>\n",
              "    <tr>\n",
              "      <th>DEP_DEL15</th>\n",
              "      <td>567630.0</td>\n",
              "      <td>1.742808e-01</td>\n",
              "      <td>0.379351</td>\n",
              "      <td>0.0</td>\n",
              "      <td>0.0</td>\n",
              "      <td>0.0</td>\n",
              "      <td>0.0</td>\n",
              "      <td>1.0</td>\n",
              "    </tr>\n",
              "    <tr>\n",
              "      <th>ARR_TIME</th>\n",
              "      <td>566924.0</td>\n",
              "      <td>1.484316e+03</td>\n",
              "      <td>523.162855</td>\n",
              "      <td>1.0</td>\n",
              "      <td>1104.0</td>\n",
              "      <td>1517.0</td>\n",
              "      <td>1919.0</td>\n",
              "      <td>2400.0</td>\n",
              "    </tr>\n",
              "    <tr>\n",
              "      <th>ARR_DEL15</th>\n",
              "      <td>565963.0</td>\n",
              "      <td>1.859167e-01</td>\n",
              "      <td>0.389040</td>\n",
              "      <td>0.0</td>\n",
              "      <td>0.0</td>\n",
              "      <td>0.0</td>\n",
              "      <td>0.0</td>\n",
              "      <td>1.0</td>\n",
              "    </tr>\n",
              "    <tr>\n",
              "      <th>CANCELLED</th>\n",
              "      <td>583985.0</td>\n",
              "      <td>2.864115e-02</td>\n",
              "      <td>0.166796</td>\n",
              "      <td>0.0</td>\n",
              "      <td>0.0</td>\n",
              "      <td>0.0</td>\n",
              "      <td>0.0</td>\n",
              "      <td>1.0</td>\n",
              "    </tr>\n",
              "    <tr>\n",
              "      <th>DIVERTED</th>\n",
              "      <td>583985.0</td>\n",
              "      <td>2.219235e-03</td>\n",
              "      <td>0.047056</td>\n",
              "      <td>0.0</td>\n",
              "      <td>0.0</td>\n",
              "      <td>0.0</td>\n",
              "      <td>0.0</td>\n",
              "      <td>1.0</td>\n",
              "    </tr>\n",
              "    <tr>\n",
              "      <th>DISTANCE</th>\n",
              "      <td>583985.0</td>\n",
              "      <td>7.977428e+02</td>\n",
              "      <td>589.999261</td>\n",
              "      <td>31.0</td>\n",
              "      <td>363.0</td>\n",
              "      <td>640.0</td>\n",
              "      <td>1037.0</td>\n",
              "      <td>4983.0</td>\n",
              "    </tr>\n",
              "    <tr>\n",
              "      <th>Unnamed: 21</th>\n",
              "      <td>0.0</td>\n",
              "      <td>NaN</td>\n",
              "      <td>NaN</td>\n",
              "      <td>NaN</td>\n",
              "      <td>NaN</td>\n",
              "      <td>NaN</td>\n",
              "      <td>NaN</td>\n",
              "      <td>NaN</td>\n",
              "    </tr>\n",
              "  </tbody>\n",
              "</table>\n",
              "</div>"
            ],
            "text/plain": [
              "                          count          mean  ...        75%        max\n",
              "DAY_OF_MONTH           583985.0  1.596009e+01  ...       24.0       31.0\n",
              "DAY_OF_WEEK            583985.0  3.835626e+00  ...        5.0        7.0\n",
              "OP_CARRIER_AIRLINE_ID  583985.0  1.998321e+04  ...    20368.0    20452.0\n",
              "OP_CARRIER_FL_NUM      583985.0  2.537869e+03  ...     3902.0     7439.0\n",
              "ORIGIN_AIRPORT_ID      583985.0  1.265970e+04  ...    13931.0    16218.0\n",
              "ORIGIN_AIRPORT_SEQ_ID  583985.0  1.265974e+06  ...  1393102.0  1621802.0\n",
              "DEST_AIRPORT_ID        583985.0  1.265947e+04  ...    13931.0    16218.0\n",
              "DEST_AIRPORT_SEQ_ID    583985.0  1.265951e+06  ...  1393102.0  1621802.0\n",
              "DEP_TIME               567633.0  1.331958e+03  ...     1738.0     2400.0\n",
              "DEP_DEL15              567630.0  1.742808e-01  ...        0.0        1.0\n",
              "ARR_TIME               566924.0  1.484316e+03  ...     1919.0     2400.0\n",
              "ARR_DEL15              565963.0  1.859167e-01  ...        0.0        1.0\n",
              "CANCELLED              583985.0  2.864115e-02  ...        0.0        1.0\n",
              "DIVERTED               583985.0  2.219235e-03  ...        0.0        1.0\n",
              "DISTANCE               583985.0  7.977428e+02  ...     1037.0     4983.0\n",
              "Unnamed: 21                 0.0           NaN  ...        NaN        NaN\n",
              "\n",
              "[16 rows x 8 columns]"
            ]
          },
          "metadata": {
            "tags": []
          },
          "execution_count": 14
        }
      ]
    },
    {
      "cell_type": "code",
      "metadata": {
        "id": "TB01WJdhhuvu",
        "colab_type": "code",
        "colab": {
          "base_uri": "https://localhost:8080/",
          "height": 521
        },
        "outputId": "c1518607-3ba0-4de0-eebe-98b8389276ff"
      },
      "source": [
        "flight_2020.describe().transpose()"
      ],
      "execution_count": 15,
      "outputs": [
        {
          "output_type": "execute_result",
          "data": {
            "text/html": [
              "<div>\n",
              "<style scoped>\n",
              "    .dataframe tbody tr th:only-of-type {\n",
              "        vertical-align: middle;\n",
              "    }\n",
              "\n",
              "    .dataframe tbody tr th {\n",
              "        vertical-align: top;\n",
              "    }\n",
              "\n",
              "    .dataframe thead th {\n",
              "        text-align: right;\n",
              "    }\n",
              "</style>\n",
              "<table border=\"1\" class=\"dataframe\">\n",
              "  <thead>\n",
              "    <tr style=\"text-align: right;\">\n",
              "      <th></th>\n",
              "      <th>count</th>\n",
              "      <th>mean</th>\n",
              "      <th>std</th>\n",
              "      <th>min</th>\n",
              "      <th>25%</th>\n",
              "      <th>50%</th>\n",
              "      <th>75%</th>\n",
              "      <th>max</th>\n",
              "    </tr>\n",
              "  </thead>\n",
              "  <tbody>\n",
              "    <tr>\n",
              "      <th>DAY_OF_MONTH</th>\n",
              "      <td>607346.0</td>\n",
              "      <td>1.601435e+01</td>\n",
              "      <td>8.990719</td>\n",
              "      <td>1.0</td>\n",
              "      <td>8.0</td>\n",
              "      <td>16.0</td>\n",
              "      <td>24.0</td>\n",
              "      <td>31.0</td>\n",
              "    </tr>\n",
              "    <tr>\n",
              "      <th>DAY_OF_WEEK</th>\n",
              "      <td>607346.0</td>\n",
              "      <td>3.955735e+00</td>\n",
              "      <td>1.910205</td>\n",
              "      <td>1.0</td>\n",
              "      <td>2.0</td>\n",
              "      <td>4.0</td>\n",
              "      <td>5.0</td>\n",
              "      <td>7.0</td>\n",
              "    </tr>\n",
              "    <tr>\n",
              "      <th>OP_CARRIER_AIRLINE_ID</th>\n",
              "      <td>607346.0</td>\n",
              "      <td>1.999414e+04</td>\n",
              "      <td>375.754232</td>\n",
              "      <td>19393.0</td>\n",
              "      <td>19790.0</td>\n",
              "      <td>19977.0</td>\n",
              "      <td>20378.0</td>\n",
              "      <td>20452.0</td>\n",
              "    </tr>\n",
              "    <tr>\n",
              "      <th>OP_CARRIER_FL_NUM</th>\n",
              "      <td>607346.0</td>\n",
              "      <td>2.622365e+03</td>\n",
              "      <td>1822.545302</td>\n",
              "      <td>1.0</td>\n",
              "      <td>1070.0</td>\n",
              "      <td>2177.0</td>\n",
              "      <td>4108.0</td>\n",
              "      <td>6860.0</td>\n",
              "    </tr>\n",
              "    <tr>\n",
              "      <th>ORIGIN_AIRPORT_ID</th>\n",
              "      <td>607346.0</td>\n",
              "      <td>1.265739e+04</td>\n",
              "      <td>1524.407203</td>\n",
              "      <td>10135.0</td>\n",
              "      <td>11292.0</td>\n",
              "      <td>12889.0</td>\n",
              "      <td>14027.0</td>\n",
              "      <td>16869.0</td>\n",
              "    </tr>\n",
              "    <tr>\n",
              "      <th>ORIGIN_AIRPORT_SEQ_ID</th>\n",
              "      <td>607346.0</td>\n",
              "      <td>1.265743e+06</td>\n",
              "      <td>152440.467783</td>\n",
              "      <td>1013506.0</td>\n",
              "      <td>1129202.0</td>\n",
              "      <td>1288903.0</td>\n",
              "      <td>1402702.0</td>\n",
              "      <td>1686901.0</td>\n",
              "    </tr>\n",
              "    <tr>\n",
              "      <th>DEST_AIRPORT_ID</th>\n",
              "      <td>607346.0</td>\n",
              "      <td>1.265720e+04</td>\n",
              "      <td>1524.279269</td>\n",
              "      <td>10135.0</td>\n",
              "      <td>11292.0</td>\n",
              "      <td>12889.0</td>\n",
              "      <td>14027.0</td>\n",
              "      <td>16869.0</td>\n",
              "    </tr>\n",
              "    <tr>\n",
              "      <th>DEST_AIRPORT_SEQ_ID</th>\n",
              "      <td>607346.0</td>\n",
              "      <td>1.265724e+06</td>\n",
              "      <td>152427.674791</td>\n",
              "      <td>1013506.0</td>\n",
              "      <td>1129202.0</td>\n",
              "      <td>1288903.0</td>\n",
              "      <td>1402702.0</td>\n",
              "      <td>1686901.0</td>\n",
              "    </tr>\n",
              "    <tr>\n",
              "      <th>DEP_TIME</th>\n",
              "      <td>600682.0</td>\n",
              "      <td>1.331513e+03</td>\n",
              "      <td>497.095168</td>\n",
              "      <td>1.0</td>\n",
              "      <td>919.0</td>\n",
              "      <td>1326.0</td>\n",
              "      <td>1739.0</td>\n",
              "      <td>2400.0</td>\n",
              "    </tr>\n",
              "    <tr>\n",
              "      <th>DEP_DEL15</th>\n",
              "      <td>600647.0</td>\n",
              "      <td>1.363263e-01</td>\n",
              "      <td>0.343135</td>\n",
              "      <td>0.0</td>\n",
              "      <td>0.0</td>\n",
              "      <td>0.0</td>\n",
              "      <td>0.0</td>\n",
              "      <td>1.0</td>\n",
              "    </tr>\n",
              "    <tr>\n",
              "      <th>ARR_TIME</th>\n",
              "      <td>600271.0</td>\n",
              "      <td>1.477969e+03</td>\n",
              "      <td>525.543294</td>\n",
              "      <td>1.0</td>\n",
              "      <td>1058.0</td>\n",
              "      <td>1513.0</td>\n",
              "      <td>1918.0</td>\n",
              "      <td>2400.0</td>\n",
              "    </tr>\n",
              "    <tr>\n",
              "      <th>ARR_DEL15</th>\n",
              "      <td>599268.0</td>\n",
              "      <td>1.373092e-01</td>\n",
              "      <td>0.344174</td>\n",
              "      <td>0.0</td>\n",
              "      <td>0.0</td>\n",
              "      <td>0.0</td>\n",
              "      <td>0.0</td>\n",
              "      <td>1.0</td>\n",
              "    </tr>\n",
              "    <tr>\n",
              "      <th>CANCELLED</th>\n",
              "      <td>607346.0</td>\n",
              "      <td>1.140701e-02</td>\n",
              "      <td>0.106193</td>\n",
              "      <td>0.0</td>\n",
              "      <td>0.0</td>\n",
              "      <td>0.0</td>\n",
              "      <td>0.0</td>\n",
              "      <td>1.0</td>\n",
              "    </tr>\n",
              "    <tr>\n",
              "      <th>DIVERTED</th>\n",
              "      <td>607346.0</td>\n",
              "      <td>1.893484e-03</td>\n",
              "      <td>0.043473</td>\n",
              "      <td>0.0</td>\n",
              "      <td>0.0</td>\n",
              "      <td>0.0</td>\n",
              "      <td>0.0</td>\n",
              "      <td>1.0</td>\n",
              "    </tr>\n",
              "    <tr>\n",
              "      <th>DISTANCE</th>\n",
              "      <td>607346.0</td>\n",
              "      <td>7.980223e+02</td>\n",
              "      <td>587.282639</td>\n",
              "      <td>31.0</td>\n",
              "      <td>369.0</td>\n",
              "      <td>641.0</td>\n",
              "      <td>1037.0</td>\n",
              "      <td>5095.0</td>\n",
              "    </tr>\n",
              "    <tr>\n",
              "      <th>Unnamed: 21</th>\n",
              "      <td>0.0</td>\n",
              "      <td>NaN</td>\n",
              "      <td>NaN</td>\n",
              "      <td>NaN</td>\n",
              "      <td>NaN</td>\n",
              "      <td>NaN</td>\n",
              "      <td>NaN</td>\n",
              "      <td>NaN</td>\n",
              "    </tr>\n",
              "  </tbody>\n",
              "</table>\n",
              "</div>"
            ],
            "text/plain": [
              "                          count          mean  ...        75%        max\n",
              "DAY_OF_MONTH           607346.0  1.601435e+01  ...       24.0       31.0\n",
              "DAY_OF_WEEK            607346.0  3.955735e+00  ...        5.0        7.0\n",
              "OP_CARRIER_AIRLINE_ID  607346.0  1.999414e+04  ...    20378.0    20452.0\n",
              "OP_CARRIER_FL_NUM      607346.0  2.622365e+03  ...     4108.0     6860.0\n",
              "ORIGIN_AIRPORT_ID      607346.0  1.265739e+04  ...    14027.0    16869.0\n",
              "ORIGIN_AIRPORT_SEQ_ID  607346.0  1.265743e+06  ...  1402702.0  1686901.0\n",
              "DEST_AIRPORT_ID        607346.0  1.265720e+04  ...    14027.0    16869.0\n",
              "DEST_AIRPORT_SEQ_ID    607346.0  1.265724e+06  ...  1402702.0  1686901.0\n",
              "DEP_TIME               600682.0  1.331513e+03  ...     1739.0     2400.0\n",
              "DEP_DEL15              600647.0  1.363263e-01  ...        0.0        1.0\n",
              "ARR_TIME               600271.0  1.477969e+03  ...     1918.0     2400.0\n",
              "ARR_DEL15              599268.0  1.373092e-01  ...        0.0        1.0\n",
              "CANCELLED              607346.0  1.140701e-02  ...        0.0        1.0\n",
              "DIVERTED               607346.0  1.893484e-03  ...        0.0        1.0\n",
              "DISTANCE               607346.0  7.980223e+02  ...     1037.0     5095.0\n",
              "Unnamed: 21                 0.0           NaN  ...        NaN        NaN\n",
              "\n",
              "[16 rows x 8 columns]"
            ]
          },
          "metadata": {
            "tags": []
          },
          "execution_count": 15
        }
      ]
    },
    {
      "cell_type": "code",
      "metadata": {
        "id": "VuLLUYqsZ1_E",
        "colab_type": "code",
        "colab": {}
      },
      "source": [
        "# Dataset columns:"
      ],
      "execution_count": 16,
      "outputs": []
    },
    {
      "cell_type": "code",
      "metadata": {
        "id": "cDHQhyw-h_PC",
        "colab_type": "code",
        "colab": {
          "base_uri": "https://localhost:8080/",
          "height": 134
        },
        "outputId": "9bfc5010-ffe1-4029-f235-9f065dd3f09d"
      },
      "source": [
        "flight_2019.columns"
      ],
      "execution_count": 17,
      "outputs": [
        {
          "output_type": "execute_result",
          "data": {
            "text/plain": [
              "Index(['DAY_OF_MONTH', 'DAY_OF_WEEK', 'OP_UNIQUE_CARRIER',\n",
              "       'OP_CARRIER_AIRLINE_ID', 'OP_CARRIER', 'TAIL_NUM', 'OP_CARRIER_FL_NUM',\n",
              "       'ORIGIN_AIRPORT_ID', 'ORIGIN_AIRPORT_SEQ_ID', 'ORIGIN',\n",
              "       'DEST_AIRPORT_ID', 'DEST_AIRPORT_SEQ_ID', 'DEST', 'DEP_TIME',\n",
              "       'DEP_DEL15', 'DEP_TIME_BLK', 'ARR_TIME', 'ARR_DEL15', 'CANCELLED',\n",
              "       'DIVERTED', 'DISTANCE', 'Unnamed: 21'],\n",
              "      dtype='object')"
            ]
          },
          "metadata": {
            "tags": []
          },
          "execution_count": 17
        }
      ]
    },
    {
      "cell_type": "code",
      "metadata": {
        "id": "kCDuAtjZiC74",
        "colab_type": "code",
        "colab": {
          "base_uri": "https://localhost:8080/",
          "height": 134
        },
        "outputId": "03529827-91de-479f-cd37-41bfc438a546"
      },
      "source": [
        "flight_2020.columns"
      ],
      "execution_count": 18,
      "outputs": [
        {
          "output_type": "execute_result",
          "data": {
            "text/plain": [
              "Index(['DAY_OF_MONTH', 'DAY_OF_WEEK', 'OP_UNIQUE_CARRIER',\n",
              "       'OP_CARRIER_AIRLINE_ID', 'OP_CARRIER', 'TAIL_NUM', 'OP_CARRIER_FL_NUM',\n",
              "       'ORIGIN_AIRPORT_ID', 'ORIGIN_AIRPORT_SEQ_ID', 'ORIGIN',\n",
              "       'DEST_AIRPORT_ID', 'DEST_AIRPORT_SEQ_ID', 'DEST', 'DEP_TIME',\n",
              "       'DEP_DEL15', 'DEP_TIME_BLK', 'ARR_TIME', 'ARR_DEL15', 'CANCELLED',\n",
              "       'DIVERTED', 'DISTANCE', 'Unnamed: 21'],\n",
              "      dtype='object')"
            ]
          },
          "metadata": {
            "tags": []
          },
          "execution_count": 18
        }
      ]
    },
    {
      "cell_type": "code",
      "metadata": {
        "id": "R9QztpEDiEap",
        "colab_type": "code",
        "colab": {}
      },
      "source": [
        "# Both datasets have the same columns "
      ],
      "execution_count": 19,
      "outputs": []
    },
    {
      "cell_type": "code",
      "metadata": {
        "id": "gXo0PMnniHlg",
        "colab_type": "code",
        "colab": {}
      },
      "source": [
        "# Checking for duplicate entries in dataset"
      ],
      "execution_count": 20,
      "outputs": []
    },
    {
      "cell_type": "code",
      "metadata": {
        "id": "XgkU1vcziNFY",
        "colab_type": "code",
        "colab": {
          "base_uri": "https://localhost:8080/",
          "height": 50
        },
        "outputId": "20c85e57-1782-4795-b732-34ee42d26803"
      },
      "source": [
        "flight_2019.duplicated(keep = \"first\").value_counts()"
      ],
      "execution_count": 21,
      "outputs": [
        {
          "output_type": "execute_result",
          "data": {
            "text/plain": [
              "False    583985\n",
              "dtype: int64"
            ]
          },
          "metadata": {
            "tags": []
          },
          "execution_count": 21
        }
      ]
    },
    {
      "cell_type": "code",
      "metadata": {
        "id": "cV6REq3LkK4J",
        "colab_type": "code",
        "colab": {
          "base_uri": "https://localhost:8080/",
          "height": 50
        },
        "outputId": "9492793e-3b81-431f-b574-aac4b39c9bb1"
      },
      "source": [
        "flight_2020.duplicated(keep = \"first\").value_counts()"
      ],
      "execution_count": 22,
      "outputs": [
        {
          "output_type": "execute_result",
          "data": {
            "text/plain": [
              "False    607346\n",
              "dtype: int64"
            ]
          },
          "metadata": {
            "tags": []
          },
          "execution_count": 22
        }
      ]
    },
    {
      "cell_type": "code",
      "metadata": {
        "id": "7Bk95JQR_9oe",
        "colab_type": "code",
        "colab": {}
      },
      "source": [
        ""
      ],
      "execution_count": 22,
      "outputs": []
    },
    {
      "cell_type": "code",
      "metadata": {
        "id": "RrdNrgYH_9k9",
        "colab_type": "code",
        "colab": {}
      },
      "source": [
        "# Data Cleaning"
      ],
      "execution_count": 23,
      "outputs": []
    },
    {
      "cell_type": "code",
      "metadata": {
        "id": "mhiGVWCAxBY3",
        "colab_type": "code",
        "colab": {}
      },
      "source": [
        "# Adding new \"YEAR\" parameter to the two datasets:\n",
        "flight_2019[\"YEAR\"] = 2019\n",
        "flight_2020[\"YEAR\"] = 2020"
      ],
      "execution_count": 24,
      "outputs": []
    },
    {
      "cell_type": "code",
      "metadata": {
        "id": "m_t13WWixBWt",
        "colab_type": "code",
        "colab": {}
      },
      "source": [
        "# Adding new \"MONTH\" parameter to the two datasets:\n",
        "# \"MONTH\" will be 1 as data is for the month of \"JANUARY\"\n",
        "flight_2019[\"MONTH\"] = 1\n",
        "flight_2020[\"MONTH\"] = 1"
      ],
      "execution_count": 25,
      "outputs": []
    },
    {
      "cell_type": "code",
      "metadata": {
        "id": "hHUzgUpKxBSw",
        "colab_type": "code",
        "colab": {}
      },
      "source": [
        "# Thus, now we have \"YEAR\" , \"MONTH\" , \"DAY_OF_MONTH\", \"DAY_OF_WEEK\" : dates of the flight"
      ],
      "execution_count": 26,
      "outputs": []
    },
    {
      "cell_type": "code",
      "metadata": {
        "id": "Ylwq1ZKT3Tk0",
        "colab_type": "code",
        "colab": {}
      },
      "source": [
        "#  Renaming \"DAY_OF_MONTH\" as \"DAY\"\n",
        "flight_2019.rename(columns = {\"DAY_OF_MONTH\" : \"DAY\"}, inplace= True)\n",
        "flight_2020.rename(columns = {\"DAY_OF_MONTH\" : \"DAY\"}, inplace= True)\n",
        "\n"
      ],
      "execution_count": 27,
      "outputs": []
    },
    {
      "cell_type": "code",
      "metadata": {
        "id": "rctefcwDxBOl",
        "colab_type": "code",
        "colab": {}
      },
      "source": [
        "flight_2019['DATE'] = pd.to_datetime(flight_2019[['YEAR','MONTH', 'DAY']])"
      ],
      "execution_count": 28,
      "outputs": []
    },
    {
      "cell_type": "code",
      "metadata": {
        "id": "6SffzomNxA6a",
        "colab_type": "code",
        "colab": {}
      },
      "source": [
        "flight_2020['DATE'] = pd.to_datetime(flight_2020[['YEAR','MONTH', 'DAY']])"
      ],
      "execution_count": 29,
      "outputs": []
    },
    {
      "cell_type": "code",
      "metadata": {
        "id": "4QeoBQvyxA4t",
        "colab_type": "code",
        "colab": {
          "base_uri": "https://localhost:8080/",
          "height": 286
        },
        "outputId": "457de315-e7c6-4f96-a9b0-91b5bdb31fdb"
      },
      "source": [
        "flight_2019[\"DATE\"].unique()"
      ],
      "execution_count": 30,
      "outputs": [
        {
          "output_type": "execute_result",
          "data": {
            "text/plain": [
              "array(['2019-01-01T00:00:00.000000000', '2019-01-02T00:00:00.000000000',\n",
              "       '2019-01-03T00:00:00.000000000', '2019-01-04T00:00:00.000000000',\n",
              "       '2019-01-05T00:00:00.000000000', '2019-01-06T00:00:00.000000000',\n",
              "       '2019-01-07T00:00:00.000000000', '2019-01-08T00:00:00.000000000',\n",
              "       '2019-01-09T00:00:00.000000000', '2019-01-10T00:00:00.000000000',\n",
              "       '2019-01-11T00:00:00.000000000', '2019-01-12T00:00:00.000000000',\n",
              "       '2019-01-13T00:00:00.000000000', '2019-01-14T00:00:00.000000000',\n",
              "       '2019-01-15T00:00:00.000000000', '2019-01-16T00:00:00.000000000',\n",
              "       '2019-01-17T00:00:00.000000000', '2019-01-18T00:00:00.000000000',\n",
              "       '2019-01-19T00:00:00.000000000', '2019-01-20T00:00:00.000000000',\n",
              "       '2019-01-21T00:00:00.000000000', '2019-01-22T00:00:00.000000000',\n",
              "       '2019-01-23T00:00:00.000000000', '2019-01-24T00:00:00.000000000',\n",
              "       '2019-01-25T00:00:00.000000000', '2019-01-26T00:00:00.000000000',\n",
              "       '2019-01-27T00:00:00.000000000', '2019-01-28T00:00:00.000000000',\n",
              "       '2019-01-29T00:00:00.000000000', '2019-01-30T00:00:00.000000000',\n",
              "       '2019-01-31T00:00:00.000000000'], dtype='datetime64[ns]')"
            ]
          },
          "metadata": {
            "tags": []
          },
          "execution_count": 30
        }
      ]
    },
    {
      "cell_type": "code",
      "metadata": {
        "id": "sSDE6NP5xA2f",
        "colab_type": "code",
        "colab": {
          "base_uri": "https://localhost:8080/",
          "height": 286
        },
        "outputId": "52872270-4062-4623-972f-42d0b54b46c9"
      },
      "source": [
        "flight_2020[\"DATE\"].unique()"
      ],
      "execution_count": 31,
      "outputs": [
        {
          "output_type": "execute_result",
          "data": {
            "text/plain": [
              "array(['2020-01-01T00:00:00.000000000', '2020-01-02T00:00:00.000000000',\n",
              "       '2020-01-03T00:00:00.000000000', '2020-01-04T00:00:00.000000000',\n",
              "       '2020-01-05T00:00:00.000000000', '2020-01-06T00:00:00.000000000',\n",
              "       '2020-01-07T00:00:00.000000000', '2020-01-08T00:00:00.000000000',\n",
              "       '2020-01-09T00:00:00.000000000', '2020-01-10T00:00:00.000000000',\n",
              "       '2020-01-11T00:00:00.000000000', '2020-01-12T00:00:00.000000000',\n",
              "       '2020-01-13T00:00:00.000000000', '2020-01-14T00:00:00.000000000',\n",
              "       '2020-01-15T00:00:00.000000000', '2020-01-16T00:00:00.000000000',\n",
              "       '2020-01-17T00:00:00.000000000', '2020-01-18T00:00:00.000000000',\n",
              "       '2020-01-19T00:00:00.000000000', '2020-01-20T00:00:00.000000000',\n",
              "       '2020-01-21T00:00:00.000000000', '2020-01-22T00:00:00.000000000',\n",
              "       '2020-01-23T00:00:00.000000000', '2020-01-24T00:00:00.000000000',\n",
              "       '2020-01-25T00:00:00.000000000', '2020-01-26T00:00:00.000000000',\n",
              "       '2020-01-27T00:00:00.000000000', '2020-01-28T00:00:00.000000000',\n",
              "       '2020-01-29T00:00:00.000000000', '2020-01-30T00:00:00.000000000',\n",
              "       '2020-01-31T00:00:00.000000000'], dtype='datetime64[ns]')"
            ]
          },
          "metadata": {
            "tags": []
          },
          "execution_count": 31
        }
      ]
    },
    {
      "cell_type": "code",
      "metadata": {
        "id": "2YB4Tyu2xAy4",
        "colab_type": "code",
        "colab": {
          "base_uri": "https://localhost:8080/",
          "height": 134
        },
        "outputId": "78f72571-5c34-4212-f5e4-aa9fc7c8e1f5"
      },
      "source": [
        "flight_2019.columns"
      ],
      "execution_count": 32,
      "outputs": [
        {
          "output_type": "execute_result",
          "data": {
            "text/plain": [
              "Index(['DAY', 'DAY_OF_WEEK', 'OP_UNIQUE_CARRIER', 'OP_CARRIER_AIRLINE_ID',\n",
              "       'OP_CARRIER', 'TAIL_NUM', 'OP_CARRIER_FL_NUM', 'ORIGIN_AIRPORT_ID',\n",
              "       'ORIGIN_AIRPORT_SEQ_ID', 'ORIGIN', 'DEST_AIRPORT_ID',\n",
              "       'DEST_AIRPORT_SEQ_ID', 'DEST', 'DEP_TIME', 'DEP_DEL15', 'DEP_TIME_BLK',\n",
              "       'ARR_TIME', 'ARR_DEL15', 'CANCELLED', 'DIVERTED', 'DISTANCE',\n",
              "       'Unnamed: 21', 'YEAR', 'MONTH', 'DATE'],\n",
              "      dtype='object')"
            ]
          },
          "metadata": {
            "tags": []
          },
          "execution_count": 32
        }
      ]
    },
    {
      "cell_type": "code",
      "metadata": {
        "id": "3rRnzMHNxAwD",
        "colab_type": "code",
        "colab": {}
      },
      "source": [
        "# Handling \"DEP_TIME\" and \"ARR_TIME\" in both datasets:\n",
        "\n",
        "# They are mentioned in \"float64\" format "
      ],
      "execution_count": 33,
      "outputs": []
    },
    {
      "cell_type": "code",
      "metadata": {
        "id": "Jid8lCOl9mAB",
        "colab_type": "code",
        "colab": {}
      },
      "source": [
        "import datetime"
      ],
      "execution_count": 34,
      "outputs": []
    },
    {
      "cell_type": "code",
      "metadata": {
        "id": "0mtJOZmbxAst",
        "colab_type": "code",
        "colab": {}
      },
      "source": [
        "def format_time(t):\n",
        "    if pd.isnull(t):\n",
        "        return np.nan\n",
        "    else:\n",
        "        if t == 2400: t = 0\n",
        "        t = \"{0:04d}\".format(int(t))\n",
        "        result = datetime.time(int(t[0:2]), int(t[2:4]))\n",
        "        return result"
      ],
      "execution_count": 35,
      "outputs": []
    },
    {
      "cell_type": "code",
      "metadata": {
        "id": "W4q9AKAP3LQd",
        "colab_type": "code",
        "colab": {}
      },
      "source": [
        "# Change format of arrival time and departure time in both datasets :"
      ],
      "execution_count": 36,
      "outputs": []
    },
    {
      "cell_type": "code",
      "metadata": {
        "id": "o2wb8QB04l2J",
        "colab_type": "code",
        "colab": {}
      },
      "source": [
        "flight_2019['DEP_TIME'] = flight_2019['DEP_TIME'].apply(format_time)\n",
        "flight_2020['DEP_TIME'] = flight_2020['DEP_TIME'].apply(format_time)\n",
        "flight_2019['ARR_TIME'] = flight_2019['ARR_TIME'].apply(format_time)\n",
        "flight_2020['ARR_TIME'] = flight_2020['ARR_TIME'].apply(format_time)\n"
      ],
      "execution_count": 37,
      "outputs": []
    },
    {
      "cell_type": "code",
      "metadata": {
        "id": "aG-flXb64lsG",
        "colab_type": "code",
        "colab": {}
      },
      "source": [
        "# columns in changed format"
      ],
      "execution_count": 38,
      "outputs": []
    },
    {
      "cell_type": "code",
      "metadata": {
        "id": "kmwEY4jc4lnR",
        "colab_type": "code",
        "colab": {
          "base_uri": "https://localhost:8080/",
          "height": 218
        },
        "outputId": "0bab4bf9-5cce-4c28-bd42-0162d80c97c9"
      },
      "source": [
        "flight_2019[\"DEP_TIME\"]"
      ],
      "execution_count": 39,
      "outputs": [
        {
          "output_type": "execute_result",
          "data": {
            "text/plain": [
              "0         06:01:00\n",
              "1         13:59:00\n",
              "2         12:15:00\n",
              "3         15:21:00\n",
              "4         18:47:00\n",
              "            ...   \n",
              "583980    07:49:00\n",
              "583981    07:17:00\n",
              "583982    08:57:00\n",
              "583983    18:20:00\n",
              "583984    16:36:00\n",
              "Name: DEP_TIME, Length: 583985, dtype: object"
            ]
          },
          "metadata": {
            "tags": []
          },
          "execution_count": 39
        }
      ]
    },
    {
      "cell_type": "code",
      "metadata": {
        "id": "bmutQyAm4llb",
        "colab_type": "code",
        "colab": {
          "base_uri": "https://localhost:8080/",
          "height": 218
        },
        "outputId": "aab2f9bf-1a5e-4a17-8815-75ab17a926b8"
      },
      "source": [
        "flight_2019[\"ARR_TIME\"]"
      ],
      "execution_count": 40,
      "outputs": [
        {
          "output_type": "execute_result",
          "data": {
            "text/plain": [
              "0         07:22:00\n",
              "1         16:33:00\n",
              "2         13:29:00\n",
              "3         16:25:00\n",
              "4         19:40:00\n",
              "            ...   \n",
              "583980    18:32:00\n",
              "583981    07:59:00\n",
              "583982    09:33:00\n",
              "583983    18:54:00\n",
              "583984    17:19:00\n",
              "Name: ARR_TIME, Length: 583985, dtype: object"
            ]
          },
          "metadata": {
            "tags": []
          },
          "execution_count": 40
        }
      ]
    },
    {
      "cell_type": "code",
      "metadata": {
        "id": "190dqWQc4ljH",
        "colab_type": "code",
        "colab": {
          "base_uri": "https://localhost:8080/",
          "height": 218
        },
        "outputId": "9fb89761-8aa3-46a3-e233-c152e544ec96"
      },
      "source": [
        "flight_2020[\"DEP_TIME\"]"
      ],
      "execution_count": 41,
      "outputs": [
        {
          "output_type": "execute_result",
          "data": {
            "text/plain": [
              "0         10:03:00\n",
              "1         10:27:00\n",
              "2         18:48:00\n",
              "3         18:46:00\n",
              "4         10:38:00\n",
              "            ...   \n",
              "607341    10:02:00\n",
              "607342    17:47:00\n",
              "607343    05:54:00\n",
              "607344    17:14:00\n",
              "607345    18:41:00\n",
              "Name: DEP_TIME, Length: 607346, dtype: object"
            ]
          },
          "metadata": {
            "tags": []
          },
          "execution_count": 41
        }
      ]
    },
    {
      "cell_type": "code",
      "metadata": {
        "id": "-fP-F4x94lhV",
        "colab_type": "code",
        "colab": {
          "base_uri": "https://localhost:8080/",
          "height": 218
        },
        "outputId": "d77a8689-2d3f-4c2e-f415-375ec9e05ee5"
      },
      "source": [
        "flight_2020[\"ARR_TIME\"]"
      ],
      "execution_count": 42,
      "outputs": [
        {
          "output_type": "execute_result",
          "data": {
            "text/plain": [
              "0         11:17:00\n",
              "1         12:16:00\n",
              "2         21:20:00\n",
              "3         20:04:00\n",
              "4         13:30:00\n",
              "            ...   \n",
              "607341    11:28:00\n",
              "607342    19:33:00\n",
              "607343    07:52:00\n",
              "607344    18:11:00\n",
              "607345    21:28:00\n",
              "Name: ARR_TIME, Length: 607346, dtype: object"
            ]
          },
          "metadata": {
            "tags": []
          },
          "execution_count": 42
        }
      ]
    },
    {
      "cell_type": "code",
      "metadata": {
        "id": "bvJdVO9M4lfO",
        "colab_type": "code",
        "colab": {
          "base_uri": "https://localhost:8080/",
          "height": 316
        },
        "outputId": "a3e563f8-deae-4cdb-c9d8-4bb6759ae0b1"
      },
      "source": [
        "flight_2019.head()"
      ],
      "execution_count": 43,
      "outputs": [
        {
          "output_type": "execute_result",
          "data": {
            "text/html": [
              "<div>\n",
              "<style scoped>\n",
              "    .dataframe tbody tr th:only-of-type {\n",
              "        vertical-align: middle;\n",
              "    }\n",
              "\n",
              "    .dataframe tbody tr th {\n",
              "        vertical-align: top;\n",
              "    }\n",
              "\n",
              "    .dataframe thead th {\n",
              "        text-align: right;\n",
              "    }\n",
              "</style>\n",
              "<table border=\"1\" class=\"dataframe\">\n",
              "  <thead>\n",
              "    <tr style=\"text-align: right;\">\n",
              "      <th></th>\n",
              "      <th>DAY</th>\n",
              "      <th>DAY_OF_WEEK</th>\n",
              "      <th>OP_UNIQUE_CARRIER</th>\n",
              "      <th>OP_CARRIER_AIRLINE_ID</th>\n",
              "      <th>OP_CARRIER</th>\n",
              "      <th>TAIL_NUM</th>\n",
              "      <th>OP_CARRIER_FL_NUM</th>\n",
              "      <th>ORIGIN_AIRPORT_ID</th>\n",
              "      <th>ORIGIN_AIRPORT_SEQ_ID</th>\n",
              "      <th>ORIGIN</th>\n",
              "      <th>DEST_AIRPORT_ID</th>\n",
              "      <th>DEST_AIRPORT_SEQ_ID</th>\n",
              "      <th>DEST</th>\n",
              "      <th>DEP_TIME</th>\n",
              "      <th>DEP_DEL15</th>\n",
              "      <th>DEP_TIME_BLK</th>\n",
              "      <th>ARR_TIME</th>\n",
              "      <th>ARR_DEL15</th>\n",
              "      <th>CANCELLED</th>\n",
              "      <th>DIVERTED</th>\n",
              "      <th>DISTANCE</th>\n",
              "      <th>Unnamed: 21</th>\n",
              "      <th>YEAR</th>\n",
              "      <th>MONTH</th>\n",
              "      <th>DATE</th>\n",
              "    </tr>\n",
              "  </thead>\n",
              "  <tbody>\n",
              "    <tr>\n",
              "      <th>0</th>\n",
              "      <td>1</td>\n",
              "      <td>2</td>\n",
              "      <td>9E</td>\n",
              "      <td>20363</td>\n",
              "      <td>9E</td>\n",
              "      <td>N8688C</td>\n",
              "      <td>3280</td>\n",
              "      <td>11953</td>\n",
              "      <td>1195302</td>\n",
              "      <td>GNV</td>\n",
              "      <td>10397</td>\n",
              "      <td>1039707</td>\n",
              "      <td>ATL</td>\n",
              "      <td>06:01:00</td>\n",
              "      <td>0.0</td>\n",
              "      <td>0600-0659</td>\n",
              "      <td>07:22:00</td>\n",
              "      <td>0.0</td>\n",
              "      <td>0.0</td>\n",
              "      <td>0.0</td>\n",
              "      <td>300.0</td>\n",
              "      <td>NaN</td>\n",
              "      <td>2019</td>\n",
              "      <td>1</td>\n",
              "      <td>2019-01-01</td>\n",
              "    </tr>\n",
              "    <tr>\n",
              "      <th>1</th>\n",
              "      <td>1</td>\n",
              "      <td>2</td>\n",
              "      <td>9E</td>\n",
              "      <td>20363</td>\n",
              "      <td>9E</td>\n",
              "      <td>N348PQ</td>\n",
              "      <td>3281</td>\n",
              "      <td>13487</td>\n",
              "      <td>1348702</td>\n",
              "      <td>MSP</td>\n",
              "      <td>11193</td>\n",
              "      <td>1119302</td>\n",
              "      <td>CVG</td>\n",
              "      <td>13:59:00</td>\n",
              "      <td>0.0</td>\n",
              "      <td>1400-1459</td>\n",
              "      <td>16:33:00</td>\n",
              "      <td>0.0</td>\n",
              "      <td>0.0</td>\n",
              "      <td>0.0</td>\n",
              "      <td>596.0</td>\n",
              "      <td>NaN</td>\n",
              "      <td>2019</td>\n",
              "      <td>1</td>\n",
              "      <td>2019-01-01</td>\n",
              "    </tr>\n",
              "    <tr>\n",
              "      <th>2</th>\n",
              "      <td>1</td>\n",
              "      <td>2</td>\n",
              "      <td>9E</td>\n",
              "      <td>20363</td>\n",
              "      <td>9E</td>\n",
              "      <td>N8896A</td>\n",
              "      <td>3282</td>\n",
              "      <td>11433</td>\n",
              "      <td>1143302</td>\n",
              "      <td>DTW</td>\n",
              "      <td>11193</td>\n",
              "      <td>1119302</td>\n",
              "      <td>CVG</td>\n",
              "      <td>12:15:00</td>\n",
              "      <td>0.0</td>\n",
              "      <td>1200-1259</td>\n",
              "      <td>13:29:00</td>\n",
              "      <td>0.0</td>\n",
              "      <td>0.0</td>\n",
              "      <td>0.0</td>\n",
              "      <td>229.0</td>\n",
              "      <td>NaN</td>\n",
              "      <td>2019</td>\n",
              "      <td>1</td>\n",
              "      <td>2019-01-01</td>\n",
              "    </tr>\n",
              "    <tr>\n",
              "      <th>3</th>\n",
              "      <td>1</td>\n",
              "      <td>2</td>\n",
              "      <td>9E</td>\n",
              "      <td>20363</td>\n",
              "      <td>9E</td>\n",
              "      <td>N8886A</td>\n",
              "      <td>3283</td>\n",
              "      <td>15249</td>\n",
              "      <td>1524906</td>\n",
              "      <td>TLH</td>\n",
              "      <td>10397</td>\n",
              "      <td>1039707</td>\n",
              "      <td>ATL</td>\n",
              "      <td>15:21:00</td>\n",
              "      <td>0.0</td>\n",
              "      <td>1500-1559</td>\n",
              "      <td>16:25:00</td>\n",
              "      <td>0.0</td>\n",
              "      <td>0.0</td>\n",
              "      <td>0.0</td>\n",
              "      <td>223.0</td>\n",
              "      <td>NaN</td>\n",
              "      <td>2019</td>\n",
              "      <td>1</td>\n",
              "      <td>2019-01-01</td>\n",
              "    </tr>\n",
              "    <tr>\n",
              "      <th>4</th>\n",
              "      <td>1</td>\n",
              "      <td>2</td>\n",
              "      <td>9E</td>\n",
              "      <td>20363</td>\n",
              "      <td>9E</td>\n",
              "      <td>N8974C</td>\n",
              "      <td>3284</td>\n",
              "      <td>10397</td>\n",
              "      <td>1039707</td>\n",
              "      <td>ATL</td>\n",
              "      <td>11778</td>\n",
              "      <td>1177801</td>\n",
              "      <td>FSM</td>\n",
              "      <td>18:47:00</td>\n",
              "      <td>0.0</td>\n",
              "      <td>1900-1959</td>\n",
              "      <td>19:40:00</td>\n",
              "      <td>0.0</td>\n",
              "      <td>0.0</td>\n",
              "      <td>0.0</td>\n",
              "      <td>579.0</td>\n",
              "      <td>NaN</td>\n",
              "      <td>2019</td>\n",
              "      <td>1</td>\n",
              "      <td>2019-01-01</td>\n",
              "    </tr>\n",
              "  </tbody>\n",
              "</table>\n",
              "</div>"
            ],
            "text/plain": [
              "   DAY  DAY_OF_WEEK OP_UNIQUE_CARRIER  ...  YEAR MONTH       DATE\n",
              "0    1            2                9E  ...  2019     1 2019-01-01\n",
              "1    1            2                9E  ...  2019     1 2019-01-01\n",
              "2    1            2                9E  ...  2019     1 2019-01-01\n",
              "3    1            2                9E  ...  2019     1 2019-01-01\n",
              "4    1            2                9E  ...  2019     1 2019-01-01\n",
              "\n",
              "[5 rows x 25 columns]"
            ]
          },
          "metadata": {
            "tags": []
          },
          "execution_count": 43
        }
      ]
    },
    {
      "cell_type": "code",
      "metadata": {
        "id": "9pEq8aU_4ldF",
        "colab_type": "code",
        "colab": {
          "base_uri": "https://localhost:8080/",
          "height": 316
        },
        "outputId": "7fe3e6aa-f22d-4ac5-cabd-714b44d0fd82"
      },
      "source": [
        "flight_2020.head()"
      ],
      "execution_count": 44,
      "outputs": [
        {
          "output_type": "execute_result",
          "data": {
            "text/html": [
              "<div>\n",
              "<style scoped>\n",
              "    .dataframe tbody tr th:only-of-type {\n",
              "        vertical-align: middle;\n",
              "    }\n",
              "\n",
              "    .dataframe tbody tr th {\n",
              "        vertical-align: top;\n",
              "    }\n",
              "\n",
              "    .dataframe thead th {\n",
              "        text-align: right;\n",
              "    }\n",
              "</style>\n",
              "<table border=\"1\" class=\"dataframe\">\n",
              "  <thead>\n",
              "    <tr style=\"text-align: right;\">\n",
              "      <th></th>\n",
              "      <th>DAY</th>\n",
              "      <th>DAY_OF_WEEK</th>\n",
              "      <th>OP_UNIQUE_CARRIER</th>\n",
              "      <th>OP_CARRIER_AIRLINE_ID</th>\n",
              "      <th>OP_CARRIER</th>\n",
              "      <th>TAIL_NUM</th>\n",
              "      <th>OP_CARRIER_FL_NUM</th>\n",
              "      <th>ORIGIN_AIRPORT_ID</th>\n",
              "      <th>ORIGIN_AIRPORT_SEQ_ID</th>\n",
              "      <th>ORIGIN</th>\n",
              "      <th>DEST_AIRPORT_ID</th>\n",
              "      <th>DEST_AIRPORT_SEQ_ID</th>\n",
              "      <th>DEST</th>\n",
              "      <th>DEP_TIME</th>\n",
              "      <th>DEP_DEL15</th>\n",
              "      <th>DEP_TIME_BLK</th>\n",
              "      <th>ARR_TIME</th>\n",
              "      <th>ARR_DEL15</th>\n",
              "      <th>CANCELLED</th>\n",
              "      <th>DIVERTED</th>\n",
              "      <th>DISTANCE</th>\n",
              "      <th>Unnamed: 21</th>\n",
              "      <th>YEAR</th>\n",
              "      <th>MONTH</th>\n",
              "      <th>DATE</th>\n",
              "    </tr>\n",
              "  </thead>\n",
              "  <tbody>\n",
              "    <tr>\n",
              "      <th>0</th>\n",
              "      <td>1</td>\n",
              "      <td>3</td>\n",
              "      <td>EV</td>\n",
              "      <td>20366</td>\n",
              "      <td>EV</td>\n",
              "      <td>N48901</td>\n",
              "      <td>4397</td>\n",
              "      <td>13930</td>\n",
              "      <td>1393007</td>\n",
              "      <td>ORD</td>\n",
              "      <td>11977</td>\n",
              "      <td>1197705</td>\n",
              "      <td>GRB</td>\n",
              "      <td>10:03:00</td>\n",
              "      <td>0.0</td>\n",
              "      <td>1000-1059</td>\n",
              "      <td>11:17:00</td>\n",
              "      <td>0.0</td>\n",
              "      <td>0.0</td>\n",
              "      <td>0.0</td>\n",
              "      <td>174.0</td>\n",
              "      <td>NaN</td>\n",
              "      <td>2020</td>\n",
              "      <td>1</td>\n",
              "      <td>2020-01-01</td>\n",
              "    </tr>\n",
              "    <tr>\n",
              "      <th>1</th>\n",
              "      <td>1</td>\n",
              "      <td>3</td>\n",
              "      <td>EV</td>\n",
              "      <td>20366</td>\n",
              "      <td>EV</td>\n",
              "      <td>N16976</td>\n",
              "      <td>4401</td>\n",
              "      <td>15370</td>\n",
              "      <td>1537002</td>\n",
              "      <td>TUL</td>\n",
              "      <td>13930</td>\n",
              "      <td>1393007</td>\n",
              "      <td>ORD</td>\n",
              "      <td>10:27:00</td>\n",
              "      <td>0.0</td>\n",
              "      <td>1000-1059</td>\n",
              "      <td>12:16:00</td>\n",
              "      <td>0.0</td>\n",
              "      <td>0.0</td>\n",
              "      <td>0.0</td>\n",
              "      <td>585.0</td>\n",
              "      <td>NaN</td>\n",
              "      <td>2020</td>\n",
              "      <td>1</td>\n",
              "      <td>2020-01-01</td>\n",
              "    </tr>\n",
              "    <tr>\n",
              "      <th>2</th>\n",
              "      <td>1</td>\n",
              "      <td>3</td>\n",
              "      <td>EV</td>\n",
              "      <td>20366</td>\n",
              "      <td>EV</td>\n",
              "      <td>N12167</td>\n",
              "      <td>4404</td>\n",
              "      <td>11618</td>\n",
              "      <td>1161802</td>\n",
              "      <td>EWR</td>\n",
              "      <td>15412</td>\n",
              "      <td>1541205</td>\n",
              "      <td>TYS</td>\n",
              "      <td>18:48:00</td>\n",
              "      <td>0.0</td>\n",
              "      <td>1800-1859</td>\n",
              "      <td>21:20:00</td>\n",
              "      <td>0.0</td>\n",
              "      <td>0.0</td>\n",
              "      <td>0.0</td>\n",
              "      <td>631.0</td>\n",
              "      <td>NaN</td>\n",
              "      <td>2020</td>\n",
              "      <td>1</td>\n",
              "      <td>2020-01-01</td>\n",
              "    </tr>\n",
              "    <tr>\n",
              "      <th>3</th>\n",
              "      <td>1</td>\n",
              "      <td>3</td>\n",
              "      <td>EV</td>\n",
              "      <td>20366</td>\n",
              "      <td>EV</td>\n",
              "      <td>N14902</td>\n",
              "      <td>4405</td>\n",
              "      <td>10781</td>\n",
              "      <td>1078105</td>\n",
              "      <td>BTR</td>\n",
              "      <td>12266</td>\n",
              "      <td>1226603</td>\n",
              "      <td>IAH</td>\n",
              "      <td>18:46:00</td>\n",
              "      <td>0.0</td>\n",
              "      <td>1800-1859</td>\n",
              "      <td>20:04:00</td>\n",
              "      <td>0.0</td>\n",
              "      <td>0.0</td>\n",
              "      <td>0.0</td>\n",
              "      <td>253.0</td>\n",
              "      <td>NaN</td>\n",
              "      <td>2020</td>\n",
              "      <td>1</td>\n",
              "      <td>2020-01-01</td>\n",
              "    </tr>\n",
              "    <tr>\n",
              "      <th>4</th>\n",
              "      <td>1</td>\n",
              "      <td>3</td>\n",
              "      <td>EV</td>\n",
              "      <td>20366</td>\n",
              "      <td>EV</td>\n",
              "      <td>N606UX</td>\n",
              "      <td>4407</td>\n",
              "      <td>14524</td>\n",
              "      <td>1452401</td>\n",
              "      <td>RIC</td>\n",
              "      <td>12266</td>\n",
              "      <td>1226603</td>\n",
              "      <td>IAH</td>\n",
              "      <td>10:38:00</td>\n",
              "      <td>0.0</td>\n",
              "      <td>1000-1059</td>\n",
              "      <td>13:30:00</td>\n",
              "      <td>0.0</td>\n",
              "      <td>0.0</td>\n",
              "      <td>0.0</td>\n",
              "      <td>1157.0</td>\n",
              "      <td>NaN</td>\n",
              "      <td>2020</td>\n",
              "      <td>1</td>\n",
              "      <td>2020-01-01</td>\n",
              "    </tr>\n",
              "  </tbody>\n",
              "</table>\n",
              "</div>"
            ],
            "text/plain": [
              "   DAY  DAY_OF_WEEK OP_UNIQUE_CARRIER  ...  YEAR MONTH       DATE\n",
              "0    1            3                EV  ...  2020     1 2020-01-01\n",
              "1    1            3                EV  ...  2020     1 2020-01-01\n",
              "2    1            3                EV  ...  2020     1 2020-01-01\n",
              "3    1            3                EV  ...  2020     1 2020-01-01\n",
              "4    1            3                EV  ...  2020     1 2020-01-01\n",
              "\n",
              "[5 rows x 25 columns]"
            ]
          },
          "metadata": {
            "tags": []
          },
          "execution_count": 44
        }
      ]
    },
    {
      "cell_type": "code",
      "metadata": {
        "id": "iWLM2n7b4lJ6",
        "colab_type": "code",
        "colab": {}
      },
      "source": [
        ""
      ],
      "execution_count": 44,
      "outputs": []
    },
    {
      "cell_type": "code",
      "metadata": {
        "id": "h6bpTo4kkNdl",
        "colab_type": "code",
        "colab": {}
      },
      "source": [
        "## Concatenate the two datasets:\n",
        "\n",
        "flight = pd.concat([flight_2019, flight_2020])"
      ],
      "execution_count": 45,
      "outputs": []
    },
    {
      "cell_type": "code",
      "metadata": {
        "id": "Ys6AmO6KkWP0",
        "colab_type": "code",
        "colab": {
          "base_uri": "https://localhost:8080/",
          "height": 34
        },
        "outputId": "7303f303-ac40-42cc-d38c-42d3111e5a1a"
      },
      "source": [
        "flight.shape"
      ],
      "execution_count": 46,
      "outputs": [
        {
          "output_type": "execute_result",
          "data": {
            "text/plain": [
              "(1191331, 25)"
            ]
          },
          "metadata": {
            "tags": []
          },
          "execution_count": 46
        }
      ]
    },
    {
      "cell_type": "code",
      "metadata": {
        "id": "y5GAwzAiWl3F",
        "colab_type": "code",
        "colab": {
          "base_uri": "https://localhost:8080/",
          "height": 554
        },
        "outputId": "80523337-b098-4475-a0db-6b7c1f782d35"
      },
      "source": [
        "# info on flight data\n",
        "flight.info()"
      ],
      "execution_count": 47,
      "outputs": [
        {
          "output_type": "stream",
          "text": [
            "<class 'pandas.core.frame.DataFrame'>\n",
            "Int64Index: 1191331 entries, 0 to 607345\n",
            "Data columns (total 25 columns):\n",
            " #   Column                 Non-Null Count    Dtype         \n",
            "---  ------                 --------------    -----         \n",
            " 0   DAY                    1191331 non-null  int64         \n",
            " 1   DAY_OF_WEEK            1191331 non-null  int64         \n",
            " 2   OP_UNIQUE_CARRIER      1191331 non-null  object        \n",
            " 3   OP_CARRIER_AIRLINE_ID  1191331 non-null  int64         \n",
            " 4   OP_CARRIER             1191331 non-null  object        \n",
            " 5   TAIL_NUM               1188090 non-null  object        \n",
            " 6   OP_CARRIER_FL_NUM      1191331 non-null  int64         \n",
            " 7   ORIGIN_AIRPORT_ID      1191331 non-null  int64         \n",
            " 8   ORIGIN_AIRPORT_SEQ_ID  1191331 non-null  int64         \n",
            " 9   ORIGIN                 1191331 non-null  object        \n",
            " 10  DEST_AIRPORT_ID        1191331 non-null  int64         \n",
            " 11  DEST_AIRPORT_SEQ_ID    1191331 non-null  int64         \n",
            " 12  DEST                   1191331 non-null  object        \n",
            " 13  DEP_TIME               1168315 non-null  object        \n",
            " 14  DEP_DEL15              1168277 non-null  float64       \n",
            " 15  DEP_TIME_BLK           1191331 non-null  object        \n",
            " 16  ARR_TIME               1167195 non-null  object        \n",
            " 17  ARR_DEL15              1165231 non-null  float64       \n",
            " 18  CANCELLED              1191331 non-null  float64       \n",
            " 19  DIVERTED               1191331 non-null  float64       \n",
            " 20  DISTANCE               1191331 non-null  float64       \n",
            " 21  Unnamed: 21            0 non-null        float64       \n",
            " 22  YEAR                   1191331 non-null  int64         \n",
            " 23  MONTH                  1191331 non-null  int64         \n",
            " 24  DATE                   1191331 non-null  datetime64[ns]\n",
            "dtypes: datetime64[ns](1), float64(6), int64(10), object(8)\n",
            "memory usage: 236.3+ MB\n"
          ],
          "name": "stdout"
        }
      ]
    },
    {
      "cell_type": "code",
      "metadata": {
        "id": "O32RXBLCWxJo",
        "colab_type": "code",
        "colab": {
          "base_uri": "https://localhost:8080/",
          "height": 321
        },
        "outputId": "aaaa4b7a-c005-47c7-cdc9-d996404ebcda"
      },
      "source": [
        "# describe on flight data\n",
        "flight.describe()"
      ],
      "execution_count": 48,
      "outputs": [
        {
          "output_type": "execute_result",
          "data": {
            "text/html": [
              "<div>\n",
              "<style scoped>\n",
              "    .dataframe tbody tr th:only-of-type {\n",
              "        vertical-align: middle;\n",
              "    }\n",
              "\n",
              "    .dataframe tbody tr th {\n",
              "        vertical-align: top;\n",
              "    }\n",
              "\n",
              "    .dataframe thead th {\n",
              "        text-align: right;\n",
              "    }\n",
              "</style>\n",
              "<table border=\"1\" class=\"dataframe\">\n",
              "  <thead>\n",
              "    <tr style=\"text-align: right;\">\n",
              "      <th></th>\n",
              "      <th>DAY</th>\n",
              "      <th>DAY_OF_WEEK</th>\n",
              "      <th>OP_CARRIER_AIRLINE_ID</th>\n",
              "      <th>OP_CARRIER_FL_NUM</th>\n",
              "      <th>ORIGIN_AIRPORT_ID</th>\n",
              "      <th>ORIGIN_AIRPORT_SEQ_ID</th>\n",
              "      <th>DEST_AIRPORT_ID</th>\n",
              "      <th>DEST_AIRPORT_SEQ_ID</th>\n",
              "      <th>DEP_DEL15</th>\n",
              "      <th>ARR_DEL15</th>\n",
              "      <th>CANCELLED</th>\n",
              "      <th>DIVERTED</th>\n",
              "      <th>DISTANCE</th>\n",
              "      <th>Unnamed: 21</th>\n",
              "      <th>YEAR</th>\n",
              "      <th>MONTH</th>\n",
              "    </tr>\n",
              "  </thead>\n",
              "  <tbody>\n",
              "    <tr>\n",
              "      <th>count</th>\n",
              "      <td>1.191331e+06</td>\n",
              "      <td>1.191331e+06</td>\n",
              "      <td>1.191331e+06</td>\n",
              "      <td>1.191331e+06</td>\n",
              "      <td>1.191331e+06</td>\n",
              "      <td>1.191331e+06</td>\n",
              "      <td>1.191331e+06</td>\n",
              "      <td>1.191331e+06</td>\n",
              "      <td>1.168277e+06</td>\n",
              "      <td>1.165231e+06</td>\n",
              "      <td>1.191331e+06</td>\n",
              "      <td>1.191331e+06</td>\n",
              "      <td>1.191331e+06</td>\n",
              "      <td>0.0</td>\n",
              "      <td>1.191331e+06</td>\n",
              "      <td>1191331.0</td>\n",
              "    </tr>\n",
              "    <tr>\n",
              "      <th>mean</th>\n",
              "      <td>1.598775e+01</td>\n",
              "      <td>3.896858e+00</td>\n",
              "      <td>1.998878e+04</td>\n",
              "      <td>2.580946e+03</td>\n",
              "      <td>1.265852e+04</td>\n",
              "      <td>1.265856e+06</td>\n",
              "      <td>1.265831e+04</td>\n",
              "      <td>1.265835e+06</td>\n",
              "      <td>1.547672e-01</td>\n",
              "      <td>1.609183e-01</td>\n",
              "      <td>1.985510e-02</td>\n",
              "      <td>2.053166e-03</td>\n",
              "      <td>7.978853e+02</td>\n",
              "      <td>NaN</td>\n",
              "      <td>2.019510e+03</td>\n",
              "      <td>1.0</td>\n",
              "    </tr>\n",
              "    <tr>\n",
              "      <th>std</th>\n",
              "      <td>8.989395e+00</td>\n",
              "      <td>1.916886e+00</td>\n",
              "      <td>3.767608e+02</td>\n",
              "      <td>1.822637e+03</td>\n",
              "      <td>1.521957e+03</td>\n",
              "      <td>1.521955e+05</td>\n",
              "      <td>1.521858e+03</td>\n",
              "      <td>1.521856e+05</td>\n",
              "      <td>3.616828e-01</td>\n",
              "      <td>3.674557e-01</td>\n",
              "      <td>1.395023e-01</td>\n",
              "      <td>4.526535e-02</td>\n",
              "      <td>5.886157e+02</td>\n",
              "      <td>NaN</td>\n",
              "      <td>4.999041e-01</td>\n",
              "      <td>0.0</td>\n",
              "    </tr>\n",
              "    <tr>\n",
              "      <th>min</th>\n",
              "      <td>1.000000e+00</td>\n",
              "      <td>1.000000e+00</td>\n",
              "      <td>1.939300e+04</td>\n",
              "      <td>1.000000e+00</td>\n",
              "      <td>1.013500e+04</td>\n",
              "      <td>1.013505e+06</td>\n",
              "      <td>1.013500e+04</td>\n",
              "      <td>1.013505e+06</td>\n",
              "      <td>0.000000e+00</td>\n",
              "      <td>0.000000e+00</td>\n",
              "      <td>0.000000e+00</td>\n",
              "      <td>0.000000e+00</td>\n",
              "      <td>3.100000e+01</td>\n",
              "      <td>NaN</td>\n",
              "      <td>2.019000e+03</td>\n",
              "      <td>1.0</td>\n",
              "    </tr>\n",
              "    <tr>\n",
              "      <th>25%</th>\n",
              "      <td>8.000000e+00</td>\n",
              "      <td>2.000000e+00</td>\n",
              "      <td>1.979000e+04</td>\n",
              "      <td>1.027000e+03</td>\n",
              "      <td>1.129200e+04</td>\n",
              "      <td>1.129202e+06</td>\n",
              "      <td>1.129200e+04</td>\n",
              "      <td>1.129202e+06</td>\n",
              "      <td>0.000000e+00</td>\n",
              "      <td>0.000000e+00</td>\n",
              "      <td>0.000000e+00</td>\n",
              "      <td>0.000000e+00</td>\n",
              "      <td>3.660000e+02</td>\n",
              "      <td>NaN</td>\n",
              "      <td>2.019000e+03</td>\n",
              "      <td>1.0</td>\n",
              "    </tr>\n",
              "    <tr>\n",
              "      <th>50%</th>\n",
              "      <td>1.600000e+01</td>\n",
              "      <td>4.000000e+00</td>\n",
              "      <td>1.997700e+04</td>\n",
              "      <td>2.142000e+03</td>\n",
              "      <td>1.288900e+04</td>\n",
              "      <td>1.288903e+06</td>\n",
              "      <td>1.288900e+04</td>\n",
              "      <td>1.288903e+06</td>\n",
              "      <td>0.000000e+00</td>\n",
              "      <td>0.000000e+00</td>\n",
              "      <td>0.000000e+00</td>\n",
              "      <td>0.000000e+00</td>\n",
              "      <td>6.400000e+02</td>\n",
              "      <td>NaN</td>\n",
              "      <td>2.020000e+03</td>\n",
              "      <td>1.0</td>\n",
              "    </tr>\n",
              "    <tr>\n",
              "      <th>75%</th>\n",
              "      <td>2.400000e+01</td>\n",
              "      <td>5.000000e+00</td>\n",
              "      <td>2.036800e+04</td>\n",
              "      <td>4.009000e+03</td>\n",
              "      <td>1.402700e+04</td>\n",
              "      <td>1.402702e+06</td>\n",
              "      <td>1.402700e+04</td>\n",
              "      <td>1.402702e+06</td>\n",
              "      <td>0.000000e+00</td>\n",
              "      <td>0.000000e+00</td>\n",
              "      <td>0.000000e+00</td>\n",
              "      <td>0.000000e+00</td>\n",
              "      <td>1.037000e+03</td>\n",
              "      <td>NaN</td>\n",
              "      <td>2.020000e+03</td>\n",
              "      <td>1.0</td>\n",
              "    </tr>\n",
              "    <tr>\n",
              "      <th>max</th>\n",
              "      <td>3.100000e+01</td>\n",
              "      <td>7.000000e+00</td>\n",
              "      <td>2.045200e+04</td>\n",
              "      <td>7.439000e+03</td>\n",
              "      <td>1.686900e+04</td>\n",
              "      <td>1.686901e+06</td>\n",
              "      <td>1.686900e+04</td>\n",
              "      <td>1.686901e+06</td>\n",
              "      <td>1.000000e+00</td>\n",
              "      <td>1.000000e+00</td>\n",
              "      <td>1.000000e+00</td>\n",
              "      <td>1.000000e+00</td>\n",
              "      <td>5.095000e+03</td>\n",
              "      <td>NaN</td>\n",
              "      <td>2.020000e+03</td>\n",
              "      <td>1.0</td>\n",
              "    </tr>\n",
              "  </tbody>\n",
              "</table>\n",
              "</div>"
            ],
            "text/plain": [
              "                DAY   DAY_OF_WEEK  ...          YEAR      MONTH\n",
              "count  1.191331e+06  1.191331e+06  ...  1.191331e+06  1191331.0\n",
              "mean   1.598775e+01  3.896858e+00  ...  2.019510e+03        1.0\n",
              "std    8.989395e+00  1.916886e+00  ...  4.999041e-01        0.0\n",
              "min    1.000000e+00  1.000000e+00  ...  2.019000e+03        1.0\n",
              "25%    8.000000e+00  2.000000e+00  ...  2.019000e+03        1.0\n",
              "50%    1.600000e+01  4.000000e+00  ...  2.020000e+03        1.0\n",
              "75%    2.400000e+01  5.000000e+00  ...  2.020000e+03        1.0\n",
              "max    3.100000e+01  7.000000e+00  ...  2.020000e+03        1.0\n",
              "\n",
              "[8 rows x 16 columns]"
            ]
          },
          "metadata": {
            "tags": []
          },
          "execution_count": 48
        }
      ]
    },
    {
      "cell_type": "code",
      "metadata": {
        "id": "n2ZLHOVZYHVS",
        "colab_type": "code",
        "colab": {
          "base_uri": "https://localhost:8080/",
          "height": 454
        },
        "outputId": "b0a490dd-7c14-4797-e134-ddedade88442"
      },
      "source": [
        "# check null values\n",
        "flight.isna().sum()"
      ],
      "execution_count": 49,
      "outputs": [
        {
          "output_type": "execute_result",
          "data": {
            "text/plain": [
              "DAY                            0\n",
              "DAY_OF_WEEK                    0\n",
              "OP_UNIQUE_CARRIER              0\n",
              "OP_CARRIER_AIRLINE_ID          0\n",
              "OP_CARRIER                     0\n",
              "TAIL_NUM                    3241\n",
              "OP_CARRIER_FL_NUM              0\n",
              "ORIGIN_AIRPORT_ID              0\n",
              "ORIGIN_AIRPORT_SEQ_ID          0\n",
              "ORIGIN                         0\n",
              "DEST_AIRPORT_ID                0\n",
              "DEST_AIRPORT_SEQ_ID            0\n",
              "DEST                           0\n",
              "DEP_TIME                   23016\n",
              "DEP_DEL15                  23054\n",
              "DEP_TIME_BLK                   0\n",
              "ARR_TIME                   24136\n",
              "ARR_DEL15                  26100\n",
              "CANCELLED                      0\n",
              "DIVERTED                       0\n",
              "DISTANCE                       0\n",
              "Unnamed: 21              1191331\n",
              "YEAR                           0\n",
              "MONTH                          0\n",
              "DATE                           0\n",
              "dtype: int64"
            ]
          },
          "metadata": {
            "tags": []
          },
          "execution_count": 49
        }
      ]
    },
    {
      "cell_type": "code",
      "metadata": {
        "id": "F3ieIlzJYnzy",
        "colab_type": "code",
        "colab": {
          "base_uri": "https://localhost:8080/",
          "height": 454
        },
        "outputId": "bcac9690-4b4d-4ff9-e900-34e6ab6bf52f"
      },
      "source": [
        "# null values in percentage \n",
        "\n",
        "((flight.isna().sum()/len(flight))*100).round(2)"
      ],
      "execution_count": 50,
      "outputs": [
        {
          "output_type": "execute_result",
          "data": {
            "text/plain": [
              "DAY                        0.00\n",
              "DAY_OF_WEEK                0.00\n",
              "OP_UNIQUE_CARRIER          0.00\n",
              "OP_CARRIER_AIRLINE_ID      0.00\n",
              "OP_CARRIER                 0.00\n",
              "TAIL_NUM                   0.27\n",
              "OP_CARRIER_FL_NUM          0.00\n",
              "ORIGIN_AIRPORT_ID          0.00\n",
              "ORIGIN_AIRPORT_SEQ_ID      0.00\n",
              "ORIGIN                     0.00\n",
              "DEST_AIRPORT_ID            0.00\n",
              "DEST_AIRPORT_SEQ_ID        0.00\n",
              "DEST                       0.00\n",
              "DEP_TIME                   1.93\n",
              "DEP_DEL15                  1.94\n",
              "DEP_TIME_BLK               0.00\n",
              "ARR_TIME                   2.03\n",
              "ARR_DEL15                  2.19\n",
              "CANCELLED                  0.00\n",
              "DIVERTED                   0.00\n",
              "DISTANCE                   0.00\n",
              "Unnamed: 21              100.00\n",
              "YEAR                       0.00\n",
              "MONTH                      0.00\n",
              "DATE                       0.00\n",
              "dtype: float64"
            ]
          },
          "metadata": {
            "tags": []
          },
          "execution_count": 50
        }
      ]
    },
    {
      "cell_type": "code",
      "metadata": {
        "id": "quzPFiGnebdM",
        "colab_type": "code",
        "colab": {}
      },
      "source": [
        "## Dropping \"Unnamed: 21\" as all its entries are empty\n",
        "flight = flight.drop(columns = [\"Unnamed: 21\"])"
      ],
      "execution_count": 51,
      "outputs": []
    },
    {
      "cell_type": "code",
      "metadata": {
        "id": "7Uwmw_BKZArQ",
        "colab_type": "code",
        "colab": {}
      },
      "source": [
        "# Dropping rows for which columns have very less percentage of null values ( < 3%)\n",
        "flight = flight.dropna()"
      ],
      "execution_count": 52,
      "outputs": []
    },
    {
      "cell_type": "code",
      "metadata": {
        "id": "vzJmggw2ZtGG",
        "colab_type": "code",
        "colab": {}
      },
      "source": [
        "## Now our data has no null entries"
      ],
      "execution_count": 53,
      "outputs": []
    },
    {
      "cell_type": "code",
      "metadata": {
        "id": "EZTJ_iqZ4Mdu",
        "colab_type": "code",
        "colab": {
          "base_uri": "https://localhost:8080/",
          "height": 437
        },
        "outputId": "6673c455-da3b-45ea-ba00-2c8f2c330008"
      },
      "source": [
        "flight.nunique()"
      ],
      "execution_count": 54,
      "outputs": [
        {
          "output_type": "execute_result",
          "data": {
            "text/plain": [
              "DAY                        31\n",
              "DAY_OF_WEEK                 7\n",
              "OP_UNIQUE_CARRIER          17\n",
              "OP_CARRIER_AIRLINE_ID      17\n",
              "OP_CARRIER                 17\n",
              "TAIL_NUM                 5854\n",
              "OP_CARRIER_FL_NUM        6997\n",
              "ORIGIN_AIRPORT_ID         353\n",
              "ORIGIN_AIRPORT_SEQ_ID     373\n",
              "ORIGIN                    353\n",
              "DEST_AIRPORT_ID           353\n",
              "DEST_AIRPORT_SEQ_ID       373\n",
              "DEST                      353\n",
              "DEP_TIME                 1440\n",
              "DEP_DEL15                   2\n",
              "DEP_TIME_BLK               19\n",
              "ARR_TIME                 1440\n",
              "ARR_DEL15                   2\n",
              "CANCELLED                   1\n",
              "DIVERTED                    1\n",
              "DISTANCE                 1511\n",
              "YEAR                        2\n",
              "MONTH                       1\n",
              "DATE                       62\n",
              "dtype: int64"
            ]
          },
          "metadata": {
            "tags": []
          },
          "execution_count": 54
        }
      ]
    },
    {
      "cell_type": "code",
      "metadata": {
        "id": "oczQgnb34ROA",
        "colab_type": "code",
        "colab": {
          "base_uri": "https://localhost:8080/",
          "height": 34
        },
        "outputId": "d0d9f0b7-3f1f-4876-a681-84218728c115"
      },
      "source": [
        "# find and remove nunique == 1\n",
        "flight.nunique()[flight.nunique() == 1].index.to_list()"
      ],
      "execution_count": 55,
      "outputs": [
        {
          "output_type": "execute_result",
          "data": {
            "text/plain": [
              "['CANCELLED', 'DIVERTED', 'MONTH']"
            ]
          },
          "metadata": {
            "tags": []
          },
          "execution_count": 55
        }
      ]
    },
    {
      "cell_type": "code",
      "metadata": {
        "id": "ZAcJ92rJe7a5",
        "colab_type": "code",
        "colab": {}
      },
      "source": [
        "# Two constant feature columns found : \"CANCELLED\" and \"DIVERTED\"\n",
        "flight = flight.drop(columns = [\"CANCELLED\", \"DIVERTED\"])"
      ],
      "execution_count": 56,
      "outputs": []
    },
    {
      "cell_type": "code",
      "metadata": {
        "id": "BQUBfpm4e7VF",
        "colab_type": "code",
        "colab": {
          "base_uri": "https://localhost:8080/",
          "height": 34
        },
        "outputId": "c89a8811-bfa5-459c-be01-fbaee78ffdfb"
      },
      "source": [
        "flight.columns.size"
      ],
      "execution_count": 57,
      "outputs": [
        {
          "output_type": "execute_result",
          "data": {
            "text/plain": [
              "22"
            ]
          },
          "metadata": {
            "tags": []
          },
          "execution_count": 57
        }
      ]
    },
    {
      "cell_type": "code",
      "metadata": {
        "id": "U043Dyjje7T3",
        "colab_type": "code",
        "colab": {}
      },
      "source": [
        ""
      ],
      "execution_count": 57,
      "outputs": []
    },
    {
      "cell_type": "code",
      "metadata": {
        "id": "8LV4kQmraAtw",
        "colab_type": "code",
        "colab": {
          "base_uri": "https://localhost:8080/",
          "height": 1000
        },
        "outputId": "ee825a25-b7ae-448e-a0f6-5ddfd19e5bdc"
      },
      "source": [
        "# value_counts() for columns[0:10]\n",
        "i=0\n",
        "for col in flight.columns[:10]:\n",
        "  print(\"Columns no is: \" + str(i))\n",
        "  i = i+1\n",
        "  print(\"Column is : \" + col)\n",
        "  print(flight[col].value_counts())\n",
        "  print()\n",
        "  print()"
      ],
      "execution_count": 58,
      "outputs": [
        {
          "output_type": "stream",
          "text": [
            "Columns no is: 0\n",
            "Column is : DAY\n",
            "2     40664\n",
            "6     39972\n",
            "24    39912\n",
            "3     39818\n",
            "9     39776\n",
            "10    39686\n",
            "16    39258\n",
            "23    39067\n",
            "17    38929\n",
            "7     38915\n",
            "31    38852\n",
            "14    38571\n",
            "27    38557\n",
            "13    38150\n",
            "8     38131\n",
            "15    37955\n",
            "21    37894\n",
            "30    37581\n",
            "28    37463\n",
            "4     37436\n",
            "5     37168\n",
            "29    37096\n",
            "22    36974\n",
            "20    35853\n",
            "1     35813\n",
            "25    35726\n",
            "26    35035\n",
            "12    34607\n",
            "11    34603\n",
            "18    34423\n",
            "19    31346\n",
            "Name: DAY, dtype: int64\n",
            "\n",
            "\n",
            "Columns no is: 1\n",
            "Column is : DAY_OF_WEEK\n",
            "4    199476\n",
            "3    189630\n",
            "5    179378\n",
            "2    165720\n",
            "1    158477\n",
            "7    148870\n",
            "6    123680\n",
            "Name: DAY_OF_WEEK, dtype: int64\n",
            "\n",
            "\n",
            "Columns no is: 2\n",
            "Column is : OP_UNIQUE_CARRIER\n",
            "WN    214943\n",
            "DL    153331\n",
            "AA    150826\n",
            "OO    131271\n",
            "UA     94145\n",
            "YX     53395\n",
            "MQ     48994\n",
            "B6     48016\n",
            "OH     46368\n",
            "9E     42776\n",
            "AS     40987\n",
            "YV     35302\n",
            "NK     32342\n",
            "EV     22576\n",
            "F9     21802\n",
            "G4     14357\n",
            "HA     13800\n",
            "Name: OP_UNIQUE_CARRIER, dtype: int64\n",
            "\n",
            "\n",
            "Columns no is: 3\n",
            "Column is : OP_CARRIER_AIRLINE_ID\n",
            "19393    214943\n",
            "19790    153331\n",
            "19805    150826\n",
            "20304    131271\n",
            "19977     94145\n",
            "20452     53395\n",
            "20398     48994\n",
            "20409     48016\n",
            "20397     46368\n",
            "20363     42776\n",
            "19930     40987\n",
            "20378     35302\n",
            "20416     32342\n",
            "20366     22576\n",
            "20436     21802\n",
            "20368     14357\n",
            "19690     13800\n",
            "Name: OP_CARRIER_AIRLINE_ID, dtype: int64\n",
            "\n",
            "\n",
            "Columns no is: 4\n",
            "Column is : OP_CARRIER\n",
            "WN    214943\n",
            "DL    153331\n",
            "AA    150826\n",
            "OO    131271\n",
            "UA     94145\n",
            "YX     53395\n",
            "MQ     48994\n",
            "B6     48016\n",
            "OH     46368\n",
            "9E     42776\n",
            "AS     40987\n",
            "YV     35302\n",
            "NK     32342\n",
            "EV     22576\n",
            "F9     21802\n",
            "G4     14357\n",
            "HA     13800\n",
            "Name: OP_CARRIER, dtype: int64\n",
            "\n",
            "\n",
            "Columns no is: 5\n",
            "Column is : TAIL_NUM\n",
            "N488HA    694\n",
            "N483HA    644\n",
            "N481HA    640\n",
            "N489HA    637\n",
            "N492HA    586\n",
            "         ... \n",
            "N2534U      1\n",
            "N864DA      1\n",
            "N35953      1\n",
            "N2846U      1\n",
            "N867DA      1\n",
            "Name: TAIL_NUM, Length: 5854, dtype: int64\n",
            "\n",
            "\n",
            "Columns no is: 6\n",
            "Column is : OP_CARRIER_FL_NUM\n",
            "403     620\n",
            "478     564\n",
            "546     546\n",
            "1926    545\n",
            "410     536\n",
            "       ... \n",
            "6916      1\n",
            "6692      1\n",
            "6421      1\n",
            "6426      1\n",
            "6824      1\n",
            "Name: OP_CARRIER_FL_NUM, Length: 6997, dtype: int64\n",
            "\n",
            "\n",
            "Columns no is: 7\n",
            "Column is : ORIGIN_AIRPORT_ID\n",
            "10397    62807\n",
            "13930    48102\n",
            "11298    46523\n",
            "11057    38641\n",
            "11292    38373\n",
            "         ...  \n",
            "14222       20\n",
            "10165       18\n",
            "13983       18\n",
            "13829       17\n",
            "10562       13\n",
            "Name: ORIGIN_AIRPORT_ID, Length: 353, dtype: int64\n",
            "\n",
            "\n",
            "Columns no is: 8\n",
            "Column is : ORIGIN_AIRPORT_SEQ_ID\n",
            "1039707    62807\n",
            "1393007    48102\n",
            "1129806    46523\n",
            "1105703    38641\n",
            "1129202    38373\n",
            "           ...  \n",
            "1056202       13\n",
            "1422206       11\n",
            "1382903        9\n",
            "1422207        9\n",
            "1382902        8\n",
            "Name: ORIGIN_AIRPORT_SEQ_ID, Length: 373, dtype: int64\n",
            "\n",
            "\n",
            "Columns no is: 9\n",
            "Column is : ORIGIN\n",
            "ATL    62807\n",
            "ORD    48102\n",
            "DFW    46523\n",
            "CLT    38641\n",
            "DEN    38373\n",
            "       ...  \n",
            "PPG       20\n",
            "OWB       18\n",
            "ADK       18\n",
            "OGD       17\n",
            "BFM       13\n",
            "Name: ORIGIN, Length: 353, dtype: int64\n",
            "\n",
            "\n"
          ],
          "name": "stdout"
        }
      ]
    },
    {
      "cell_type": "code",
      "metadata": {
        "id": "3XqVolhkaFGV",
        "colab_type": "code",
        "colab": {
          "base_uri": "https://localhost:8080/",
          "height": 1000
        },
        "outputId": "f3d2e946-5969-4a4c-8359-cea218a957b3"
      },
      "source": [
        "# value_counts() for columns[10:19]\n",
        "for col in flight.columns[10:]:\n",
        "  print(\"Column no is: \" + str(i))\n",
        "  i = i+1\n",
        "  print(\"Column is : \" + col)\n",
        "  print(flight[col].value_counts())\n",
        "  print()\n",
        "  print()"
      ],
      "execution_count": 59,
      "outputs": [
        {
          "output_type": "stream",
          "text": [
            "Column no is: 10\n",
            "Column is : DEST_AIRPORT_ID\n",
            "10397    62859\n",
            "13930    47982\n",
            "11298    46465\n",
            "11057    38631\n",
            "11292    38365\n",
            "         ...  \n",
            "14222       20\n",
            "10165       18\n",
            "13983       18\n",
            "13829       17\n",
            "10562       13\n",
            "Name: DEST_AIRPORT_ID, Length: 353, dtype: int64\n",
            "\n",
            "\n",
            "Column no is: 11\n",
            "Column is : DEST_AIRPORT_SEQ_ID\n",
            "1039707    62859\n",
            "1393007    47982\n",
            "1129806    46465\n",
            "1105703    38631\n",
            "1129202    38365\n",
            "           ...  \n",
            "1056202       13\n",
            "1422206       11\n",
            "1382903        9\n",
            "1422207        9\n",
            "1382902        8\n",
            "Name: DEST_AIRPORT_SEQ_ID, Length: 373, dtype: int64\n",
            "\n",
            "\n",
            "Column no is: 12\n",
            "Column is : DEST\n",
            "ATL    62859\n",
            "ORD    47982\n",
            "DFW    46465\n",
            "CLT    38631\n",
            "DEN    38365\n",
            "       ...  \n",
            "PPG       20\n",
            "OWB       18\n",
            "ADK       18\n",
            "OGD       17\n",
            "BFM       13\n",
            "Name: DEST, Length: 353, dtype: int64\n",
            "\n",
            "\n",
            "Column no is: 13\n",
            "Column is : DEP_TIME\n",
            "05:55:00    3111\n",
            "05:56:00    2760\n",
            "05:57:00    2716\n",
            "05:54:00    2574\n",
            "05:58:00    2485\n",
            "            ... \n",
            "04:07:00       3\n",
            "02:57:00       3\n",
            "04:29:00       2\n",
            "02:52:00       2\n",
            "04:01:00       1\n",
            "Name: DEP_TIME, Length: 1440, dtype: int64\n",
            "\n",
            "\n",
            "Column no is: 14\n",
            "Column is : DEP_DEL15\n",
            "0.0    985479\n",
            "1.0    179752\n",
            "Name: DEP_DEL15, dtype: int64\n",
            "\n",
            "\n",
            "Column no is: 15\n",
            "Column is : DEP_TIME_BLK\n",
            "0600-0659    84358\n",
            "0700-0759    77553\n",
            "0800-0859    76889\n",
            "1700-1759    75290\n",
            "1200-1259    73476\n",
            "1100-1159    73471\n",
            "1500-1559    70574\n",
            "1000-1059    70303\n",
            "1400-1459    70070\n",
            "0900-0959    69828\n",
            "1600-1659    69825\n",
            "1800-1859    67906\n",
            "1300-1359    66655\n",
            "1900-1959    63318\n",
            "2000-2059    54034\n",
            "2100-2159    35827\n",
            "0001-0559    31413\n",
            "2200-2259    26653\n",
            "2300-2359     7788\n",
            "Name: DEP_TIME_BLK, dtype: int64\n",
            "\n",
            "\n",
            "Column no is: 16\n",
            "Column is : ARR_TIME\n",
            "16:45:00    1370\n",
            "19:19:00    1319\n",
            "19:10:00    1307\n",
            "17:00:00    1306\n",
            "16:50:00    1304\n",
            "            ... \n",
            "03:23:00       7\n",
            "03:26:00       7\n",
            "03:47:00       6\n",
            "03:45:00       5\n",
            "03:39:00       4\n",
            "Name: ARR_TIME, Length: 1440, dtype: int64\n",
            "\n",
            "\n",
            "Column no is: 17\n",
            "Column is : ARR_DEL15\n",
            "0.0    977724\n",
            "1.0    187507\n",
            "Name: ARR_DEL15, dtype: int64\n",
            "\n",
            "\n",
            "Column no is: 18\n",
            "Column is : DISTANCE\n",
            "337.0     7798\n",
            "296.0     5910\n",
            "733.0     5076\n",
            "399.0     4796\n",
            "214.0     4733\n",
            "          ... \n",
            "1248.0       2\n",
            "2557.0       1\n",
            "881.0        1\n",
            "1479.0       1\n",
            "133.0        1\n",
            "Name: DISTANCE, Length: 1511, dtype: int64\n",
            "\n",
            "\n",
            "Column no is: 19\n",
            "Column is : YEAR\n",
            "2020    599268\n",
            "2019    565963\n",
            "Name: YEAR, dtype: int64\n",
            "\n",
            "\n",
            "Column no is: 20\n",
            "Column is : MONTH\n",
            "1    1165231\n",
            "Name: MONTH, dtype: int64\n",
            "\n",
            "\n",
            "Column no is: 21\n",
            "Column is : DATE\n",
            "2020-01-06    20876\n",
            "2020-01-09    20731\n",
            "2020-01-31    20692\n",
            "2020-01-30    20667\n",
            "2020-01-23    20609\n",
            "              ...  \n",
            "2019-01-26    15178\n",
            "2019-01-12    14943\n",
            "2020-01-18    14889\n",
            "2020-01-11    14776\n",
            "2019-01-19    13382\n",
            "Name: DATE, Length: 62, dtype: int64\n",
            "\n",
            "\n"
          ],
          "name": "stdout"
        }
      ]
    },
    {
      "cell_type": "code",
      "metadata": {
        "id": "JmIHtXK-lIkN",
        "colab_type": "code",
        "colab": {}
      },
      "source": [
        "## Here, from above we can conclude the following:\n",
        "\n",
        "# \"OP_CARRIER\" and \"OP_UNIQUE_CARRIER\" refect the same category of information\n",
        "# -- one of them can be dropped\n",
        "# \"OP_CARRIER\" and \"OP_CARRIER_AIRLINE_ID\" also represent the same information\n",
        "# -- all categories and their counts are same for both columns\n",
        "\n",
        "## \"ORIGIN_AIRPORT_ID\" and \"ORIGIN\" also represent same information \n",
        "# It is inherently categorical in nature -- hence, we drop \"ORIGIN_AIRPORT_ID\"\n",
        "\n",
        "## \"DEST_AIRPORT_ID\" and \"DEST\" also represent same information\n",
        "# It is also inherently categorical in nature -- hence, we drop \"DEST_AIRPORT_ID\""
      ],
      "execution_count": 60,
      "outputs": []
    },
    {
      "cell_type": "code",
      "metadata": {
        "id": "POI1LTVKEnM_",
        "colab_type": "code",
        "colab": {
          "base_uri": "https://localhost:8080/",
          "height": 101
        },
        "outputId": "d30e918f-81e2-41b2-da56-07f697d7740a"
      },
      "source": [
        "flight = flight.drop(columns = [\"OP_UNIQUE_CARRIER\", \"OP_CARRIER_AIRLINE_ID\", \"ORIGIN_AIRPORT_ID\", \"DEST_AIRPORT_ID\"])\n",
        "\n",
        "flight.columns"
      ],
      "execution_count": 61,
      "outputs": [
        {
          "output_type": "execute_result",
          "data": {
            "text/plain": [
              "Index(['DAY', 'DAY_OF_WEEK', 'OP_CARRIER', 'TAIL_NUM', 'OP_CARRIER_FL_NUM',\n",
              "       'ORIGIN_AIRPORT_SEQ_ID', 'ORIGIN', 'DEST_AIRPORT_SEQ_ID', 'DEST',\n",
              "       'DEP_TIME', 'DEP_DEL15', 'DEP_TIME_BLK', 'ARR_TIME', 'ARR_DEL15',\n",
              "       'DISTANCE', 'YEAR', 'MONTH', 'DATE'],\n",
              "      dtype='object')"
            ]
          },
          "metadata": {
            "tags": []
          },
          "execution_count": 61
        }
      ]
    },
    {
      "cell_type": "code",
      "metadata": {
        "id": "DXtN6ct3jxJr",
        "colab_type": "code",
        "colab": {}
      },
      "source": [
        "## \"MONTH\" , \"YEAR\", \"DAY\" are not required\n",
        "\n",
        "flight = flight.drop(columns = [\"MONTH\", \"YEAR\", \"DAY\"])"
      ],
      "execution_count": 62,
      "outputs": []
    },
    {
      "cell_type": "code",
      "metadata": {
        "id": "rJN3nL-QjxEO",
        "colab_type": "code",
        "colab": {}
      },
      "source": [
        "# Renaming :\n",
        "\n",
        "flight.rename(columns = {\"DEP_DEL15\" : \"DEP_DELAY\"}, inplace= True)\n",
        "flight.rename(columns = {\"ARR_DEL15\" : \"ARR_DELAY\"}, inplace= True)\n"
      ],
      "execution_count": 63,
      "outputs": []
    },
    {
      "cell_type": "code",
      "metadata": {
        "id": "nryMVFBLMai2",
        "colab_type": "code",
        "colab": {}
      },
      "source": [
        "## Removing \"ARR_TIME\" and \"ARR_DELAY\" as \"DEP_DELAY\" is considered as TARGET variable"
      ],
      "execution_count": 64,
      "outputs": []
    },
    {
      "cell_type": "code",
      "metadata": {
        "id": "t58hc3UJMahu",
        "colab_type": "code",
        "colab": {}
      },
      "source": [
        "flight = flight.drop(columns= [\"ARR_DELAY\", \"ARR_TIME\"])"
      ],
      "execution_count": 65,
      "outputs": []
    },
    {
      "cell_type": "code",
      "metadata": {
        "id": "KsuvFg6cjw0l",
        "colab_type": "code",
        "colab": {}
      },
      "source": [
        ""
      ],
      "execution_count": 65,
      "outputs": []
    },
    {
      "cell_type": "code",
      "metadata": {
        "id": "C1nFjZvDGlMH",
        "colab_type": "code",
        "colab": {}
      },
      "source": [
        "## DATA VISUALIZATION:"
      ],
      "execution_count": 66,
      "outputs": []
    },
    {
      "cell_type": "code",
      "metadata": {
        "id": "tM5sxaas2-VI",
        "colab_type": "code",
        "colab": {}
      },
      "source": [
        ""
      ],
      "execution_count": 66,
      "outputs": []
    },
    {
      "cell_type": "code",
      "metadata": {
        "id": "ttSwrmunGlK8",
        "colab_type": "code",
        "colab": {
          "base_uri": "https://localhost:8080/",
          "height": 67
        },
        "outputId": "2616f812-ab4e-4d3d-9f60-60a85c3deddd"
      },
      "source": [
        "## Analysis of target variable\n",
        "\n",
        "flight[\"DEP_DELAY\"].value_counts()"
      ],
      "execution_count": 67,
      "outputs": [
        {
          "output_type": "execute_result",
          "data": {
            "text/plain": [
              "0.0    985479\n",
              "1.0    179752\n",
              "Name: DEP_DELAY, dtype: int64"
            ]
          },
          "metadata": {
            "tags": []
          },
          "execution_count": 67
        }
      ]
    },
    {
      "cell_type": "code",
      "metadata": {
        "id": "Ucw6RE1VGlFQ",
        "colab_type": "code",
        "colab": {
          "base_uri": "https://localhost:8080/",
          "height": 410
        },
        "outputId": "0850571b-dc99-4c97-aa67-b853ad78c6a8"
      },
      "source": [
        "# Plot to visualize the target variable in the dataset:\n",
        "\n",
        "sns.set(style=\"darkgrid\")\n",
        "\n",
        "plt.figure(figsize=(10,6))\n",
        "ax = sns.countplot(x=\"DEP_DELAY\", data=flight)\n",
        "plt.title('Distribution of target variable')\n",
        "plt.xlabel('0 - NO DEPARTURE DELAY  |  1 -DEPARTURE DELAY')\n",
        "plt.ylabel('Frequency')\n",
        "\n",
        "for p in ax.patches:\n",
        "        ax.annotate('{:.0f}'.format(p.get_height()), (p.get_x()+0.1, p.get_height()+50))"
      ],
      "execution_count": 68,
      "outputs": [
        {
          "output_type": "display_data",
          "data": {
            "image/png": "[encoded data removed]",
            "text/plain": [
              "<Figure size 720x432 with 1 Axes>"
            ]
          },
          "metadata": {
            "tags": []
          }
        }
      ]
    },
    {
      "cell_type": "code",
      "metadata": {
        "id": "spWB6x-1KYdd",
        "colab_type": "code",
        "colab": {
          "base_uri": "https://localhost:8080/",
          "height": 101
        },
        "outputId": "3490c1b9-76d1-468f-d0f5-26cf3ed2cd60"
      },
      "source": [
        "# Percentage of True/False for Target Variable\n",
        "\n",
        "print(\"Percentage of No Departure Delay\")\n",
        "print(((flight[\"DEP_DELAY\"].value_counts()[0]/flight.shape[0])*100).round(2))\n",
        "print()\n",
        "print(\"Percentage of Departure Delay\")\n",
        "print(((flight[\"DEP_DELAY\"].value_counts()[1]/flight.shape[0])*100).round(2))"
      ],
      "execution_count": 69,
      "outputs": [
        {
          "output_type": "stream",
          "text": [
            "Percentage of No Departure Delay\n",
            "84.57\n",
            "\n",
            "Percentage of Departure Delay\n",
            "15.43\n"
          ],
          "name": "stdout"
        }
      ]
    },
    {
      "cell_type": "code",
      "metadata": {
        "id": "6Q-dbneJKykM",
        "colab_type": "code",
        "colab": {
          "base_uri": "https://localhost:8080/",
          "height": 411
        },
        "outputId": "6d6f8a07-fcaa-45e0-a4d7-0073aa752054"
      },
      "source": [
        "# Pie chart for the TARGET variable \"DEP_DELAY\"\n",
        "\n",
        "plt.figure(figsize = (7, 7))\n",
        "flight[\"DEP_DELAY\"].value_counts().plot.pie()\n",
        "plt.show()\n",
        "\n",
        "# 0 -> NO DELAY \n",
        "# 1 -> DELAY"
      ],
      "execution_count": 70,
      "outputs": [
        {
          "output_type": "display_data",
          "data": {
            "image/png": "[encoded data removed]",
            "text/plain": [
              "<Figure size 504x504 with 1 Axes>"
            ]
          },
          "metadata": {
            "tags": []
          }
        }
      ]
    },
    {
      "cell_type": "code",
      "metadata": {
        "id": "CUyK6pC1d1r2",
        "colab_type": "code",
        "colab": {
          "base_uri": "https://localhost:8080/",
          "height": 225
        },
        "outputId": "c94c2d5a-4662-4775-87c9-8874cca50769"
      },
      "source": [
        "flight.corr()"
      ],
      "execution_count": 71,
      "outputs": [
        {
          "output_type": "execute_result",
          "data": {
            "text/html": [
              "<div>\n",
              "<style scoped>\n",
              "    .dataframe tbody tr th:only-of-type {\n",
              "        vertical-align: middle;\n",
              "    }\n",
              "\n",
              "    .dataframe tbody tr th {\n",
              "        vertical-align: top;\n",
              "    }\n",
              "\n",
              "    .dataframe thead th {\n",
              "        text-align: right;\n",
              "    }\n",
              "</style>\n",
              "<table border=\"1\" class=\"dataframe\">\n",
              "  <thead>\n",
              "    <tr style=\"text-align: right;\">\n",
              "      <th></th>\n",
              "      <th>DAY_OF_WEEK</th>\n",
              "      <th>OP_CARRIER_FL_NUM</th>\n",
              "      <th>ORIGIN_AIRPORT_SEQ_ID</th>\n",
              "      <th>DEST_AIRPORT_SEQ_ID</th>\n",
              "      <th>DEP_DELAY</th>\n",
              "      <th>DISTANCE</th>\n",
              "    </tr>\n",
              "  </thead>\n",
              "  <tbody>\n",
              "    <tr>\n",
              "      <th>DAY_OF_WEEK</th>\n",
              "      <td>1.000000</td>\n",
              "      <td>0.058514</td>\n",
              "      <td>0.005676</td>\n",
              "      <td>0.005284</td>\n",
              "      <td>0.022633</td>\n",
              "      <td>0.018457</td>\n",
              "    </tr>\n",
              "    <tr>\n",
              "      <th>OP_CARRIER_FL_NUM</th>\n",
              "      <td>0.058514</td>\n",
              "      <td>1.000000</td>\n",
              "      <td>-0.055609</td>\n",
              "      <td>-0.060730</td>\n",
              "      <td>0.023933</td>\n",
              "      <td>-0.347112</td>\n",
              "    </tr>\n",
              "    <tr>\n",
              "      <th>ORIGIN_AIRPORT_SEQ_ID</th>\n",
              "      <td>0.005676</td>\n",
              "      <td>-0.055609</td>\n",
              "      <td>1.000000</td>\n",
              "      <td>0.016882</td>\n",
              "      <td>0.002874</td>\n",
              "      <td>0.090792</td>\n",
              "    </tr>\n",
              "    <tr>\n",
              "      <th>DEST_AIRPORT_SEQ_ID</th>\n",
              "      <td>0.005284</td>\n",
              "      <td>-0.060730</td>\n",
              "      <td>0.016882</td>\n",
              "      <td>1.000000</td>\n",
              "      <td>0.009602</td>\n",
              "      <td>0.090469</td>\n",
              "    </tr>\n",
              "    <tr>\n",
              "      <th>DEP_DELAY</th>\n",
              "      <td>0.022633</td>\n",
              "      <td>0.023933</td>\n",
              "      <td>0.002874</td>\n",
              "      <td>0.009602</td>\n",
              "      <td>1.000000</td>\n",
              "      <td>0.012421</td>\n",
              "    </tr>\n",
              "    <tr>\n",
              "      <th>DISTANCE</th>\n",
              "      <td>0.018457</td>\n",
              "      <td>-0.347112</td>\n",
              "      <td>0.090792</td>\n",
              "      <td>0.090469</td>\n",
              "      <td>0.012421</td>\n",
              "      <td>1.000000</td>\n",
              "    </tr>\n",
              "  </tbody>\n",
              "</table>\n",
              "</div>"
            ],
            "text/plain": [
              "                       DAY_OF_WEEK  OP_CARRIER_FL_NUM  ...  DEP_DELAY  DISTANCE\n",
              "DAY_OF_WEEK               1.000000           0.058514  ...   0.022633  0.018457\n",
              "OP_CARRIER_FL_NUM         0.058514           1.000000  ...   0.023933 -0.347112\n",
              "ORIGIN_AIRPORT_SEQ_ID     0.005676          -0.055609  ...   0.002874  0.090792\n",
              "DEST_AIRPORT_SEQ_ID       0.005284          -0.060730  ...   0.009602  0.090469\n",
              "DEP_DELAY                 0.022633           0.023933  ...   1.000000  0.012421\n",
              "DISTANCE                  0.018457          -0.347112  ...   0.012421  1.000000\n",
              "\n",
              "[6 rows x 6 columns]"
            ]
          },
          "metadata": {
            "tags": []
          },
          "execution_count": 71
        }
      ]
    },
    {
      "cell_type": "code",
      "metadata": {
        "id": "MtGt5yMQd1nY",
        "colab_type": "code",
        "colab": {
          "base_uri": "https://localhost:8080/",
          "height": 399
        },
        "outputId": "899e1f01-1eb3-4799-c87c-e4d7f276294e"
      },
      "source": [
        "# Plotting the correaltion data heatmap\n",
        "\n",
        "plt.figure(figsize = (4,4))\n",
        "sns.heatmap(flight.corr())\n",
        "plt.show()"
      ],
      "execution_count": 72,
      "outputs": [
        {
          "output_type": "display_data",
          "data": {
            "image/png": "[encoded data removed]",
            "text/plain": [
              "<Figure size 288x288 with 2 Axes>"
            ]
          },
          "metadata": {
            "tags": []
          }
        }
      ]
    },
    {
      "cell_type": "code",
      "metadata": {
        "id": "oeGFgHnvd1mB",
        "colab_type": "code",
        "colab": {}
      },
      "source": [
        ""
      ],
      "execution_count": 72,
      "outputs": []
    },
    {
      "cell_type": "code",
      "metadata": {
        "id": "GAw5Dftud1hi",
        "colab_type": "code",
        "colab": {}
      },
      "source": [
        "# Model Building :"
      ],
      "execution_count": 73,
      "outputs": []
    },
    {
      "cell_type": "code",
      "metadata": {
        "id": "4dA7SZOGmA94",
        "colab_type": "code",
        "colab": {}
      },
      "source": [
        "# Dropping columns \n",
        "flight = flight.drop(columns = [\"TAIL_NUM\", \"ORIGIN_AIRPORT_SEQ_ID\", \"DEST_AIRPORT_SEQ_ID\"])"
      ],
      "execution_count": 74,
      "outputs": []
    },
    {
      "cell_type": "code",
      "metadata": {
        "id": "qBIG__xQgrg6",
        "colab_type": "code",
        "colab": {
          "base_uri": "https://localhost:8080/",
          "height": 195
        },
        "outputId": "bf5ba075-7cce-4b9a-8d3c-819e283b03de"
      },
      "source": [
        "flight.head()"
      ],
      "execution_count": 75,
      "outputs": [
        {
          "output_type": "execute_result",
          "data": {
            "text/html": [
              "<div>\n",
              "<style scoped>\n",
              "    .dataframe tbody tr th:only-of-type {\n",
              "        vertical-align: middle;\n",
              "    }\n",
              "\n",
              "    .dataframe tbody tr th {\n",
              "        vertical-align: top;\n",
              "    }\n",
              "\n",
              "    .dataframe thead th {\n",
              "        text-align: right;\n",
              "    }\n",
              "</style>\n",
              "<table border=\"1\" class=\"dataframe\">\n",
              "  <thead>\n",
              "    <tr style=\"text-align: right;\">\n",
              "      <th></th>\n",
              "      <th>DAY_OF_WEEK</th>\n",
              "      <th>OP_CARRIER</th>\n",
              "      <th>OP_CARRIER_FL_NUM</th>\n",
              "      <th>ORIGIN</th>\n",
              "      <th>DEST</th>\n",
              "      <th>DEP_TIME</th>\n",
              "      <th>DEP_DELAY</th>\n",
              "      <th>DEP_TIME_BLK</th>\n",
              "      <th>DISTANCE</th>\n",
              "      <th>DATE</th>\n",
              "    </tr>\n",
              "  </thead>\n",
              "  <tbody>\n",
              "    <tr>\n",
              "      <th>0</th>\n",
              "      <td>2</td>\n",
              "      <td>9E</td>\n",
              "      <td>3280</td>\n",
              "      <td>GNV</td>\n",
              "      <td>ATL</td>\n",
              "      <td>06:01:00</td>\n",
              "      <td>0.0</td>\n",
              "      <td>0600-0659</td>\n",
              "      <td>300.0</td>\n",
              "      <td>2019-01-01</td>\n",
              "    </tr>\n",
              "    <tr>\n",
              "      <th>1</th>\n",
              "      <td>2</td>\n",
              "      <td>9E</td>\n",
              "      <td>3281</td>\n",
              "      <td>MSP</td>\n",
              "      <td>CVG</td>\n",
              "      <td>13:59:00</td>\n",
              "      <td>0.0</td>\n",
              "      <td>1400-1459</td>\n",
              "      <td>596.0</td>\n",
              "      <td>2019-01-01</td>\n",
              "    </tr>\n",
              "    <tr>\n",
              "      <th>2</th>\n",
              "      <td>2</td>\n",
              "      <td>9E</td>\n",
              "      <td>3282</td>\n",
              "      <td>DTW</td>\n",
              "      <td>CVG</td>\n",
              "      <td>12:15:00</td>\n",
              "      <td>0.0</td>\n",
              "      <td>1200-1259</td>\n",
              "      <td>229.0</td>\n",
              "      <td>2019-01-01</td>\n",
              "    </tr>\n",
              "    <tr>\n",
              "      <th>3</th>\n",
              "      <td>2</td>\n",
              "      <td>9E</td>\n",
              "      <td>3283</td>\n",
              "      <td>TLH</td>\n",
              "      <td>ATL</td>\n",
              "      <td>15:21:00</td>\n",
              "      <td>0.0</td>\n",
              "      <td>1500-1559</td>\n",
              "      <td>223.0</td>\n",
              "      <td>2019-01-01</td>\n",
              "    </tr>\n",
              "    <tr>\n",
              "      <th>4</th>\n",
              "      <td>2</td>\n",
              "      <td>9E</td>\n",
              "      <td>3284</td>\n",
              "      <td>ATL</td>\n",
              "      <td>FSM</td>\n",
              "      <td>18:47:00</td>\n",
              "      <td>0.0</td>\n",
              "      <td>1900-1959</td>\n",
              "      <td>579.0</td>\n",
              "      <td>2019-01-01</td>\n",
              "    </tr>\n",
              "  </tbody>\n",
              "</table>\n",
              "</div>"
            ],
            "text/plain": [
              "   DAY_OF_WEEK OP_CARRIER  OP_CARRIER_FL_NUM  ... DEP_TIME_BLK DISTANCE       DATE\n",
              "0            2         9E               3280  ...    0600-0659    300.0 2019-01-01\n",
              "1            2         9E               3281  ...    1400-1459    596.0 2019-01-01\n",
              "2            2         9E               3282  ...    1200-1259    229.0 2019-01-01\n",
              "3            2         9E               3283  ...    1500-1559    223.0 2019-01-01\n",
              "4            2         9E               3284  ...    1900-1959    579.0 2019-01-01\n",
              "\n",
              "[5 rows x 10 columns]"
            ]
          },
          "metadata": {
            "tags": []
          },
          "execution_count": 75
        }
      ]
    },
    {
      "cell_type": "code",
      "metadata": {
        "id": "YJ6EtLHAoZ1d",
        "colab_type": "code",
        "colab": {}
      },
      "source": [
        "## We will require the day_of_month column only out of the date column , as year is in two categories only\n",
        "# and month is january \"1\" for all rows hence, that is not a factor\n",
        "\n",
        "flight[\"DAY_OF_MONTH\"] = flight[\"DATE\"].dt.day"
      ],
      "execution_count": 76,
      "outputs": []
    },
    {
      "cell_type": "code",
      "metadata": {
        "id": "PByY_ftPoZaE",
        "colab_type": "code",
        "colab": {}
      },
      "source": [
        "## Drop \"DATE\" feature:\n",
        "flight = flight.drop(columns = \"DATE\")"
      ],
      "execution_count": 77,
      "outputs": []
    },
    {
      "cell_type": "code",
      "metadata": {
        "id": "vJ27DulapGT3",
        "colab_type": "code",
        "colab": {
          "base_uri": "https://localhost:8080/",
          "height": 195
        },
        "outputId": "bfa99aa8-a3bb-40b6-fe58-55008108b9b3"
      },
      "source": [
        "flight.head()"
      ],
      "execution_count": 78,
      "outputs": [
        {
          "output_type": "execute_result",
          "data": {
            "text/html": [
              "<div>\n",
              "<style scoped>\n",
              "    .dataframe tbody tr th:only-of-type {\n",
              "        vertical-align: middle;\n",
              "    }\n",
              "\n",
              "    .dataframe tbody tr th {\n",
              "        vertical-align: top;\n",
              "    }\n",
              "\n",
              "    .dataframe thead th {\n",
              "        text-align: right;\n",
              "    }\n",
              "</style>\n",
              "<table border=\"1\" class=\"dataframe\">\n",
              "  <thead>\n",
              "    <tr style=\"text-align: right;\">\n",
              "      <th></th>\n",
              "      <th>DAY_OF_WEEK</th>\n",
              "      <th>OP_CARRIER</th>\n",
              "      <th>OP_CARRIER_FL_NUM</th>\n",
              "      <th>ORIGIN</th>\n",
              "      <th>DEST</th>\n",
              "      <th>DEP_TIME</th>\n",
              "      <th>DEP_DELAY</th>\n",
              "      <th>DEP_TIME_BLK</th>\n",
              "      <th>DISTANCE</th>\n",
              "      <th>DAY_OF_MONTH</th>\n",
              "    </tr>\n",
              "  </thead>\n",
              "  <tbody>\n",
              "    <tr>\n",
              "      <th>0</th>\n",
              "      <td>2</td>\n",
              "      <td>9E</td>\n",
              "      <td>3280</td>\n",
              "      <td>GNV</td>\n",
              "      <td>ATL</td>\n",
              "      <td>06:01:00</td>\n",
              "      <td>0.0</td>\n",
              "      <td>0600-0659</td>\n",
              "      <td>300.0</td>\n",
              "      <td>1</td>\n",
              "    </tr>\n",
              "    <tr>\n",
              "      <th>1</th>\n",
              "      <td>2</td>\n",
              "      <td>9E</td>\n",
              "      <td>3281</td>\n",
              "      <td>MSP</td>\n",
              "      <td>CVG</td>\n",
              "      <td>13:59:00</td>\n",
              "      <td>0.0</td>\n",
              "      <td>1400-1459</td>\n",
              "      <td>596.0</td>\n",
              "      <td>1</td>\n",
              "    </tr>\n",
              "    <tr>\n",
              "      <th>2</th>\n",
              "      <td>2</td>\n",
              "      <td>9E</td>\n",
              "      <td>3282</td>\n",
              "      <td>DTW</td>\n",
              "      <td>CVG</td>\n",
              "      <td>12:15:00</td>\n",
              "      <td>0.0</td>\n",
              "      <td>1200-1259</td>\n",
              "      <td>229.0</td>\n",
              "      <td>1</td>\n",
              "    </tr>\n",
              "    <tr>\n",
              "      <th>3</th>\n",
              "      <td>2</td>\n",
              "      <td>9E</td>\n",
              "      <td>3283</td>\n",
              "      <td>TLH</td>\n",
              "      <td>ATL</td>\n",
              "      <td>15:21:00</td>\n",
              "      <td>0.0</td>\n",
              "      <td>1500-1559</td>\n",
              "      <td>223.0</td>\n",
              "      <td>1</td>\n",
              "    </tr>\n",
              "    <tr>\n",
              "      <th>4</th>\n",
              "      <td>2</td>\n",
              "      <td>9E</td>\n",
              "      <td>3284</td>\n",
              "      <td>ATL</td>\n",
              "      <td>FSM</td>\n",
              "      <td>18:47:00</td>\n",
              "      <td>0.0</td>\n",
              "      <td>1900-1959</td>\n",
              "      <td>579.0</td>\n",
              "      <td>1</td>\n",
              "    </tr>\n",
              "  </tbody>\n",
              "</table>\n",
              "</div>"
            ],
            "text/plain": [
              "   DAY_OF_WEEK OP_CARRIER  ...  DISTANCE DAY_OF_MONTH\n",
              "0            2         9E  ...     300.0            1\n",
              "1            2         9E  ...     596.0            1\n",
              "2            2         9E  ...     229.0            1\n",
              "3            2         9E  ...     223.0            1\n",
              "4            2         9E  ...     579.0            1\n",
              "\n",
              "[5 rows x 10 columns]"
            ]
          },
          "metadata": {
            "tags": []
          },
          "execution_count": 78
        }
      ]
    },
    {
      "cell_type": "code",
      "metadata": {
        "id": "0ROSsvhUgtsf",
        "colab_type": "code",
        "colab": {}
      },
      "source": [
        "## Moving \"DEP_DELAY\" column and making it the last colunm in the dataset:\n",
        "cols_at_end = [\"DEP_DELAY\"]\n",
        "flight_data = flight[[c for c in flight if c not in cols_at_end] \n",
        "        + [c for c in cols_at_end if c in flight]]"
      ],
      "execution_count": 79,
      "outputs": []
    },
    {
      "cell_type": "code",
      "metadata": {
        "id": "3fhwVODbg_S6",
        "colab_type": "code",
        "colab": {
          "base_uri": "https://localhost:8080/",
          "height": 195
        },
        "outputId": "eb3430b0-e6f9-47b9-fc62-178077d8c826"
      },
      "source": [
        "flight_data.head()"
      ],
      "execution_count": 80,
      "outputs": [
        {
          "output_type": "execute_result",
          "data": {
            "text/html": [
              "<div>\n",
              "<style scoped>\n",
              "    .dataframe tbody tr th:only-of-type {\n",
              "        vertical-align: middle;\n",
              "    }\n",
              "\n",
              "    .dataframe tbody tr th {\n",
              "        vertical-align: top;\n",
              "    }\n",
              "\n",
              "    .dataframe thead th {\n",
              "        text-align: right;\n",
              "    }\n",
              "</style>\n",
              "<table border=\"1\" class=\"dataframe\">\n",
              "  <thead>\n",
              "    <tr style=\"text-align: right;\">\n",
              "      <th></th>\n",
              "      <th>DAY_OF_WEEK</th>\n",
              "      <th>OP_CARRIER</th>\n",
              "      <th>OP_CARRIER_FL_NUM</th>\n",
              "      <th>ORIGIN</th>\n",
              "      <th>DEST</th>\n",
              "      <th>DEP_TIME</th>\n",
              "      <th>DEP_TIME_BLK</th>\n",
              "      <th>DISTANCE</th>\n",
              "      <th>DAY_OF_MONTH</th>\n",
              "      <th>DEP_DELAY</th>\n",
              "    </tr>\n",
              "  </thead>\n",
              "  <tbody>\n",
              "    <tr>\n",
              "      <th>0</th>\n",
              "      <td>2</td>\n",
              "      <td>9E</td>\n",
              "      <td>3280</td>\n",
              "      <td>GNV</td>\n",
              "      <td>ATL</td>\n",
              "      <td>06:01:00</td>\n",
              "      <td>0600-0659</td>\n",
              "      <td>300.0</td>\n",
              "      <td>1</td>\n",
              "      <td>0.0</td>\n",
              "    </tr>\n",
              "    <tr>\n",
              "      <th>1</th>\n",
              "      <td>2</td>\n",
              "      <td>9E</td>\n",
              "      <td>3281</td>\n",
              "      <td>MSP</td>\n",
              "      <td>CVG</td>\n",
              "      <td>13:59:00</td>\n",
              "      <td>1400-1459</td>\n",
              "      <td>596.0</td>\n",
              "      <td>1</td>\n",
              "      <td>0.0</td>\n",
              "    </tr>\n",
              "    <tr>\n",
              "      <th>2</th>\n",
              "      <td>2</td>\n",
              "      <td>9E</td>\n",
              "      <td>3282</td>\n",
              "      <td>DTW</td>\n",
              "      <td>CVG</td>\n",
              "      <td>12:15:00</td>\n",
              "      <td>1200-1259</td>\n",
              "      <td>229.0</td>\n",
              "      <td>1</td>\n",
              "      <td>0.0</td>\n",
              "    </tr>\n",
              "    <tr>\n",
              "      <th>3</th>\n",
              "      <td>2</td>\n",
              "      <td>9E</td>\n",
              "      <td>3283</td>\n",
              "      <td>TLH</td>\n",
              "      <td>ATL</td>\n",
              "      <td>15:21:00</td>\n",
              "      <td>1500-1559</td>\n",
              "      <td>223.0</td>\n",
              "      <td>1</td>\n",
              "      <td>0.0</td>\n",
              "    </tr>\n",
              "    <tr>\n",
              "      <th>4</th>\n",
              "      <td>2</td>\n",
              "      <td>9E</td>\n",
              "      <td>3284</td>\n",
              "      <td>ATL</td>\n",
              "      <td>FSM</td>\n",
              "      <td>18:47:00</td>\n",
              "      <td>1900-1959</td>\n",
              "      <td>579.0</td>\n",
              "      <td>1</td>\n",
              "      <td>0.0</td>\n",
              "    </tr>\n",
              "  </tbody>\n",
              "</table>\n",
              "</div>"
            ],
            "text/plain": [
              "   DAY_OF_WEEK OP_CARRIER  OP_CARRIER_FL_NUM  ... DISTANCE DAY_OF_MONTH DEP_DELAY\n",
              "0            2         9E               3280  ...    300.0            1       0.0\n",
              "1            2         9E               3281  ...    596.0            1       0.0\n",
              "2            2         9E               3282  ...    229.0            1       0.0\n",
              "3            2         9E               3283  ...    223.0            1       0.0\n",
              "4            2         9E               3284  ...    579.0            1       0.0\n",
              "\n",
              "[5 rows x 10 columns]"
            ]
          },
          "metadata": {
            "tags": []
          },
          "execution_count": 80
        }
      ]
    },
    {
      "cell_type": "code",
      "metadata": {
        "id": "Qz5gPH-4jljn",
        "colab_type": "code",
        "colab": {}
      },
      "source": [
        "import warnings\n",
        "warnings.filterwarnings(\"ignore\")"
      ],
      "execution_count": 81,
      "outputs": []
    },
    {
      "cell_type": "code",
      "metadata": {
        "id": "mmtMSCggmkEX",
        "colab_type": "code",
        "colab": {}
      },
      "source": [
        "## Selecting the cyclic features in the datasets: They need to be encoded separately"
      ],
      "execution_count": 82,
      "outputs": []
    },
    {
      "cell_type": "code",
      "metadata": {
        "id": "iBTjS6WYACuk",
        "colab_type": "code",
        "colab": {}
      },
      "source": [
        "def encode(data, col, max_val):\n",
        "    data.loc[:, col + '_SIN'] = np.sin(2 * np.pi * data[col]/max_val)\n",
        "    data.loc[:, col + '_COS'] = np.cos(2 * np.pi * data[col]/max_val)\n",
        "    return data\n"
      ],
      "execution_count": 83,
      "outputs": []
    },
    {
      "cell_type": "code",
      "metadata": {
        "id": "c7dMbaog1fQK",
        "colab_type": "code",
        "colab": {
          "base_uri": "https://localhost:8080/",
          "height": 422
        },
        "outputId": "3142b515-3c36-47bb-9c96-de38d119c8a1"
      },
      "source": [
        "encode( flight_data, \"DAY_OF_WEEK\", 7)\n",
        "encode( flight_data, \"DAY_OF_MONTH\", 30)"
      ],
      "execution_count": 84,
      "outputs": [
        {
          "output_type": "execute_result",
          "data": {
            "text/html": [
              "<div>\n",
              "<style scoped>\n",
              "    .dataframe tbody tr th:only-of-type {\n",
              "        vertical-align: middle;\n",
              "    }\n",
              "\n",
              "    .dataframe tbody tr th {\n",
              "        vertical-align: top;\n",
              "    }\n",
              "\n",
              "    .dataframe thead th {\n",
              "        text-align: right;\n",
              "    }\n",
              "</style>\n",
              "<table border=\"1\" class=\"dataframe\">\n",
              "  <thead>\n",
              "    <tr style=\"text-align: right;\">\n",
              "      <th></th>\n",
              "      <th>DAY_OF_WEEK</th>\n",
              "      <th>OP_CARRIER</th>\n",
              "      <th>OP_CARRIER_FL_NUM</th>\n",
              "      <th>ORIGIN</th>\n",
              "      <th>DEST</th>\n",
              "      <th>DEP_TIME</th>\n",
              "      <th>DEP_TIME_BLK</th>\n",
              "      <th>DISTANCE</th>\n",
              "      <th>DAY_OF_MONTH</th>\n",
              "      <th>DEP_DELAY</th>\n",
              "      <th>DAY_OF_WEEK_SIN</th>\n",
              "      <th>DAY_OF_WEEK_COS</th>\n",
              "      <th>DAY_OF_MONTH_SIN</th>\n",
              "      <th>DAY_OF_MONTH_COS</th>\n",
              "    </tr>\n",
              "  </thead>\n",
              "  <tbody>\n",
              "    <tr>\n",
              "      <th>0</th>\n",
              "      <td>2</td>\n",
              "      <td>9E</td>\n",
              "      <td>3280</td>\n",
              "      <td>GNV</td>\n",
              "      <td>ATL</td>\n",
              "      <td>06:01:00</td>\n",
              "      <td>0600-0659</td>\n",
              "      <td>300.0</td>\n",
              "      <td>1</td>\n",
              "      <td>0.0</td>\n",
              "      <td>0.974928</td>\n",
              "      <td>-0.222521</td>\n",
              "      <td>0.207912</td>\n",
              "      <td>0.978148</td>\n",
              "    </tr>\n",
              "    <tr>\n",
              "      <th>1</th>\n",
              "      <td>2</td>\n",
              "      <td>9E</td>\n",
              "      <td>3281</td>\n",
              "      <td>MSP</td>\n",
              "      <td>CVG</td>\n",
              "      <td>13:59:00</td>\n",
              "      <td>1400-1459</td>\n",
              "      <td>596.0</td>\n",
              "      <td>1</td>\n",
              "      <td>0.0</td>\n",
              "      <td>0.974928</td>\n",
              "      <td>-0.222521</td>\n",
              "      <td>0.207912</td>\n",
              "      <td>0.978148</td>\n",
              "    </tr>\n",
              "    <tr>\n",
              "      <th>2</th>\n",
              "      <td>2</td>\n",
              "      <td>9E</td>\n",
              "      <td>3282</td>\n",
              "      <td>DTW</td>\n",
              "      <td>CVG</td>\n",
              "      <td>12:15:00</td>\n",
              "      <td>1200-1259</td>\n",
              "      <td>229.0</td>\n",
              "      <td>1</td>\n",
              "      <td>0.0</td>\n",
              "      <td>0.974928</td>\n",
              "      <td>-0.222521</td>\n",
              "      <td>0.207912</td>\n",
              "      <td>0.978148</td>\n",
              "    </tr>\n",
              "    <tr>\n",
              "      <th>3</th>\n",
              "      <td>2</td>\n",
              "      <td>9E</td>\n",
              "      <td>3283</td>\n",
              "      <td>TLH</td>\n",
              "      <td>ATL</td>\n",
              "      <td>15:21:00</td>\n",
              "      <td>1500-1559</td>\n",
              "      <td>223.0</td>\n",
              "      <td>1</td>\n",
              "      <td>0.0</td>\n",
              "      <td>0.974928</td>\n",
              "      <td>-0.222521</td>\n",
              "      <td>0.207912</td>\n",
              "      <td>0.978148</td>\n",
              "    </tr>\n",
              "    <tr>\n",
              "      <th>4</th>\n",
              "      <td>2</td>\n",
              "      <td>9E</td>\n",
              "      <td>3284</td>\n",
              "      <td>ATL</td>\n",
              "      <td>FSM</td>\n",
              "      <td>18:47:00</td>\n",
              "      <td>1900-1959</td>\n",
              "      <td>579.0</td>\n",
              "      <td>1</td>\n",
              "      <td>0.0</td>\n",
              "      <td>0.974928</td>\n",
              "      <td>-0.222521</td>\n",
              "      <td>0.207912</td>\n",
              "      <td>0.978148</td>\n",
              "    </tr>\n",
              "    <tr>\n",
              "      <th>...</th>\n",
              "      <td>...</td>\n",
              "      <td>...</td>\n",
              "      <td>...</td>\n",
              "      <td>...</td>\n",
              "      <td>...</td>\n",
              "      <td>...</td>\n",
              "      <td>...</td>\n",
              "      <td>...</td>\n",
              "      <td>...</td>\n",
              "      <td>...</td>\n",
              "      <td>...</td>\n",
              "      <td>...</td>\n",
              "      <td>...</td>\n",
              "      <td>...</td>\n",
              "    </tr>\n",
              "    <tr>\n",
              "      <th>607341</th>\n",
              "      <td>5</td>\n",
              "      <td>9E</td>\n",
              "      <td>4812</td>\n",
              "      <td>TYS</td>\n",
              "      <td>DTW</td>\n",
              "      <td>10:02:00</td>\n",
              "      <td>0700-0759</td>\n",
              "      <td>443.0</td>\n",
              "      <td>31</td>\n",
              "      <td>1.0</td>\n",
              "      <td>-0.974928</td>\n",
              "      <td>-0.222521</td>\n",
              "      <td>0.207912</td>\n",
              "      <td>0.978148</td>\n",
              "    </tr>\n",
              "    <tr>\n",
              "      <th>607342</th>\n",
              "      <td>5</td>\n",
              "      <td>9E</td>\n",
              "      <td>4813</td>\n",
              "      <td>DTW</td>\n",
              "      <td>JFK</td>\n",
              "      <td>17:47:00</td>\n",
              "      <td>1700-1759</td>\n",
              "      <td>509.0</td>\n",
              "      <td>31</td>\n",
              "      <td>0.0</td>\n",
              "      <td>-0.974928</td>\n",
              "      <td>-0.222521</td>\n",
              "      <td>0.207912</td>\n",
              "      <td>0.978148</td>\n",
              "    </tr>\n",
              "    <tr>\n",
              "      <th>607343</th>\n",
              "      <td>5</td>\n",
              "      <td>9E</td>\n",
              "      <td>4814</td>\n",
              "      <td>GSP</td>\n",
              "      <td>LGA</td>\n",
              "      <td>05:54:00</td>\n",
              "      <td>0600-0659</td>\n",
              "      <td>610.0</td>\n",
              "      <td>31</td>\n",
              "      <td>0.0</td>\n",
              "      <td>-0.974928</td>\n",
              "      <td>-0.222521</td>\n",
              "      <td>0.207912</td>\n",
              "      <td>0.978148</td>\n",
              "    </tr>\n",
              "    <tr>\n",
              "      <th>607344</th>\n",
              "      <td>5</td>\n",
              "      <td>9E</td>\n",
              "      <td>4815</td>\n",
              "      <td>ATL</td>\n",
              "      <td>XNA</td>\n",
              "      <td>17:14:00</td>\n",
              "      <td>1700-1759</td>\n",
              "      <td>589.0</td>\n",
              "      <td>31</td>\n",
              "      <td>0.0</td>\n",
              "      <td>-0.974928</td>\n",
              "      <td>-0.222521</td>\n",
              "      <td>0.207912</td>\n",
              "      <td>0.978148</td>\n",
              "    </tr>\n",
              "    <tr>\n",
              "      <th>607345</th>\n",
              "      <td>5</td>\n",
              "      <td>9E</td>\n",
              "      <td>4815</td>\n",
              "      <td>XNA</td>\n",
              "      <td>ATL</td>\n",
              "      <td>18:41:00</td>\n",
              "      <td>1800-1859</td>\n",
              "      <td>589.0</td>\n",
              "      <td>31</td>\n",
              "      <td>0.0</td>\n",
              "      <td>-0.974928</td>\n",
              "      <td>-0.222521</td>\n",
              "      <td>0.207912</td>\n",
              "      <td>0.978148</td>\n",
              "    </tr>\n",
              "  </tbody>\n",
              "</table>\n",
              "<p>1165231 rows × 14 columns</p>\n",
              "</div>"
            ],
            "text/plain": [
              "        DAY_OF_WEEK OP_CARRIER  ...  DAY_OF_MONTH_SIN DAY_OF_MONTH_COS\n",
              "0                 2         9E  ...          0.207912         0.978148\n",
              "1                 2         9E  ...          0.207912         0.978148\n",
              "2                 2         9E  ...          0.207912         0.978148\n",
              "3                 2         9E  ...          0.207912         0.978148\n",
              "4                 2         9E  ...          0.207912         0.978148\n",
              "...             ...        ...  ...               ...              ...\n",
              "607341            5         9E  ...          0.207912         0.978148\n",
              "607342            5         9E  ...          0.207912         0.978148\n",
              "607343            5         9E  ...          0.207912         0.978148\n",
              "607344            5         9E  ...          0.207912         0.978148\n",
              "607345            5         9E  ...          0.207912         0.978148\n",
              "\n",
              "[1165231 rows x 14 columns]"
            ]
          },
          "metadata": {
            "tags": []
          },
          "execution_count": 84
        }
      ]
    },
    {
      "cell_type": "code",
      "metadata": {
        "id": "_GLq8V1Y1fOZ",
        "colab_type": "code",
        "colab": {
          "base_uri": "https://localhost:8080/",
          "height": 101
        },
        "outputId": "96040472-110b-43be-c75a-5cd76948ec5c"
      },
      "source": [
        "flight_data.columns"
      ],
      "execution_count": 85,
      "outputs": [
        {
          "output_type": "execute_result",
          "data": {
            "text/plain": [
              "Index(['DAY_OF_WEEK', 'OP_CARRIER', 'OP_CARRIER_FL_NUM', 'ORIGIN', 'DEST',\n",
              "       'DEP_TIME', 'DEP_TIME_BLK', 'DISTANCE', 'DAY_OF_MONTH', 'DEP_DELAY',\n",
              "       'DAY_OF_WEEK_SIN', 'DAY_OF_WEEK_COS', 'DAY_OF_MONTH_SIN',\n",
              "       'DAY_OF_MONTH_COS'],\n",
              "      dtype='object')"
            ]
          },
          "metadata": {
            "tags": []
          },
          "execution_count": 85
        }
      ]
    },
    {
      "cell_type": "code",
      "metadata": {
        "id": "05NW3PWVmi_6",
        "colab_type": "code",
        "colab": {}
      },
      "source": [
        "## Now, we can drop the original \"DAY_OF_WEEK\" and \"DAY_OF_MONTH\" columns from the dataset\n",
        "flight_data = flight_data.drop(columns = [\"DAY_OF_WEEK\", \"DAY_OF_MONTH\"])"
      ],
      "execution_count": 86,
      "outputs": []
    },
    {
      "cell_type": "code",
      "metadata": {
        "id": "2EvlKx536ZVi",
        "colab_type": "code",
        "colab": {
          "base_uri": "https://localhost:8080/",
          "height": 235
        },
        "outputId": "0ddc4a8d-66ff-425e-c6e9-b092a19b2fd2"
      },
      "source": [
        "flight_data.dtypes"
      ],
      "execution_count": 87,
      "outputs": [
        {
          "output_type": "execute_result",
          "data": {
            "text/plain": [
              "OP_CARRIER            object\n",
              "OP_CARRIER_FL_NUM      int64\n",
              "ORIGIN                object\n",
              "DEST                  object\n",
              "DEP_TIME              object\n",
              "DEP_TIME_BLK          object\n",
              "DISTANCE             float64\n",
              "DEP_DELAY            float64\n",
              "DAY_OF_WEEK_SIN      float64\n",
              "DAY_OF_WEEK_COS      float64\n",
              "DAY_OF_MONTH_SIN     float64\n",
              "DAY_OF_MONTH_COS     float64\n",
              "dtype: object"
            ]
          },
          "metadata": {
            "tags": []
          },
          "execution_count": 87
        }
      ]
    },
    {
      "cell_type": "code",
      "metadata": {
        "id": "NHbbqNbn6ZJm",
        "colab_type": "code",
        "colab": {
          "base_uri": "https://localhost:8080/",
          "height": 218
        },
        "outputId": "44ad97ac-f667-47b6-c946-372237b60ad5"
      },
      "source": [
        "flight_data[\"DEP_TIME\"]"
      ],
      "execution_count": 88,
      "outputs": [
        {
          "output_type": "execute_result",
          "data": {
            "text/plain": [
              "0         06:01:00\n",
              "1         13:59:00\n",
              "2         12:15:00\n",
              "3         15:21:00\n",
              "4         18:47:00\n",
              "            ...   \n",
              "607341    10:02:00\n",
              "607342    17:47:00\n",
              "607343    05:54:00\n",
              "607344    17:14:00\n",
              "607345    18:41:00\n",
              "Name: DEP_TIME, Length: 1165231, dtype: object"
            ]
          },
          "metadata": {
            "tags": []
          },
          "execution_count": 88
        }
      ]
    },
    {
      "cell_type": "code",
      "metadata": {
        "id": "Z8fLWD1h5nDK",
        "colab_type": "code",
        "colab": {}
      },
      "source": [
        "## We have departure time in 24 hour format \n",
        "## -- In order to apply cyclic encoding , we will have to convert it into minutes past midnight\n",
        "## -- and then apply cyclic encoding to the dataset"
      ],
      "execution_count": 89,
      "outputs": []
    },
    {
      "cell_type": "code",
      "metadata": {
        "id": "5T_kgCIhFtbC",
        "colab_type": "code",
        "colab": {
          "base_uri": "https://localhost:8080/",
          "height": 218
        },
        "outputId": "c83d5ece-fcda-498f-efe9-bfbda69edbaf"
      },
      "source": [
        "# Extract hour from the \"DEP_TIME\" using str\n",
        "flight_data[\"DEP_TIME\"].astype(str).str[0:2]"
      ],
      "execution_count": 90,
      "outputs": [
        {
          "output_type": "execute_result",
          "data": {
            "text/plain": [
              "0         06\n",
              "1         13\n",
              "2         12\n",
              "3         15\n",
              "4         18\n",
              "          ..\n",
              "607341    10\n",
              "607342    17\n",
              "607343    05\n",
              "607344    17\n",
              "607345    18\n",
              "Name: DEP_TIME, Length: 1165231, dtype: object"
            ]
          },
          "metadata": {
            "tags": []
          },
          "execution_count": 90
        }
      ]
    },
    {
      "cell_type": "code",
      "metadata": {
        "id": "-06Zf0TtF_pi",
        "colab_type": "code",
        "colab": {
          "base_uri": "https://localhost:8080/",
          "height": 218
        },
        "outputId": "6c88deac-f67f-499e-a722-3e4214c5d08d"
      },
      "source": [
        "# Extract minutes from the \"DEP_TIME\" using str\n",
        "flight_data[\"DEP_TIME\"].astype(str).str[3:5]"
      ],
      "execution_count": 91,
      "outputs": [
        {
          "output_type": "execute_result",
          "data": {
            "text/plain": [
              "0         01\n",
              "1         59\n",
              "2         15\n",
              "3         21\n",
              "4         47\n",
              "          ..\n",
              "607341    02\n",
              "607342    47\n",
              "607343    54\n",
              "607344    14\n",
              "607345    41\n",
              "Name: DEP_TIME, Length: 1165231, dtype: object"
            ]
          },
          "metadata": {
            "tags": []
          },
          "execution_count": 91
        }
      ]
    },
    {
      "cell_type": "code",
      "metadata": {
        "id": "ReHnAQTGGH5G",
        "colab_type": "code",
        "colab": {
          "base_uri": "https://localhost:8080/",
          "height": 218
        },
        "outputId": "930d8b85-04b6-4543-b32a-675d482ac650"
      },
      "source": [
        "# \"DEP_TIME\" converted into minutes past midnight\n",
        "\n",
        "((flight_data[\"DEP_TIME\"].astype(str).str[0:2]).astype(int))*60 + (flight_data[\"DEP_TIME\"].astype(str).str[3:5].astype(int))"
      ],
      "execution_count": 92,
      "outputs": [
        {
          "output_type": "execute_result",
          "data": {
            "text/plain": [
              "0          361\n",
              "1          839\n",
              "2          735\n",
              "3          921\n",
              "4         1127\n",
              "          ... \n",
              "607341     602\n",
              "607342    1067\n",
              "607343     354\n",
              "607344    1034\n",
              "607345    1121\n",
              "Name: DEP_TIME, Length: 1165231, dtype: int64"
            ]
          },
          "metadata": {
            "tags": []
          },
          "execution_count": 92
        }
      ]
    },
    {
      "cell_type": "code",
      "metadata": {
        "id": "EykTIV7xHT0J",
        "colab_type": "code",
        "colab": {}
      },
      "source": [
        "dep_time_in_minutes = ((flight_data[\"DEP_TIME\"].astype(str).str[0:2]).astype(int))*60 + (flight_data[\"DEP_TIME\"].astype(str).str[3:5].astype(int))"
      ],
      "execution_count": 93,
      "outputs": []
    },
    {
      "cell_type": "code",
      "metadata": {
        "id": "stZ6zhzAHukp",
        "colab_type": "code",
        "colab": {}
      },
      "source": [
        "def add_new_col(data, col, new_col):\n",
        "    data.loc[:, col + '_MINUTES'] = new_col\n",
        "    return data"
      ],
      "execution_count": 94,
      "outputs": []
    },
    {
      "cell_type": "code",
      "metadata": {
        "id": "d-24SlmA5pWJ",
        "colab_type": "code",
        "colab": {
          "base_uri": "https://localhost:8080/",
          "height": 422
        },
        "outputId": "f9d6d845-06d3-45a9-cf0c-19482af4c1a1"
      },
      "source": [
        "## Creating \"DEP_TIME_MINUTES\" in terms of minutes_data:\n",
        "add_new_col(flight_data, \"DEP_TIME\", dep_time_in_minutes)"
      ],
      "execution_count": 95,
      "outputs": [
        {
          "output_type": "execute_result",
          "data": {
            "text/html": [
              "<div>\n",
              "<style scoped>\n",
              "    .dataframe tbody tr th:only-of-type {\n",
              "        vertical-align: middle;\n",
              "    }\n",
              "\n",
              "    .dataframe tbody tr th {\n",
              "        vertical-align: top;\n",
              "    }\n",
              "\n",
              "    .dataframe thead th {\n",
              "        text-align: right;\n",
              "    }\n",
              "</style>\n",
              "<table border=\"1\" class=\"dataframe\">\n",
              "  <thead>\n",
              "    <tr style=\"text-align: right;\">\n",
              "      <th></th>\n",
              "      <th>OP_CARRIER</th>\n",
              "      <th>OP_CARRIER_FL_NUM</th>\n",
              "      <th>ORIGIN</th>\n",
              "      <th>DEST</th>\n",
              "      <th>DEP_TIME</th>\n",
              "      <th>DEP_TIME_BLK</th>\n",
              "      <th>DISTANCE</th>\n",
              "      <th>DEP_DELAY</th>\n",
              "      <th>DAY_OF_WEEK_SIN</th>\n",
              "      <th>DAY_OF_WEEK_COS</th>\n",
              "      <th>DAY_OF_MONTH_SIN</th>\n",
              "      <th>DAY_OF_MONTH_COS</th>\n",
              "      <th>DEP_TIME_MINUTES</th>\n",
              "    </tr>\n",
              "  </thead>\n",
              "  <tbody>\n",
              "    <tr>\n",
              "      <th>0</th>\n",
              "      <td>9E</td>\n",
              "      <td>3280</td>\n",
              "      <td>GNV</td>\n",
              "      <td>ATL</td>\n",
              "      <td>06:01:00</td>\n",
              "      <td>0600-0659</td>\n",
              "      <td>300.0</td>\n",
              "      <td>0.0</td>\n",
              "      <td>0.974928</td>\n",
              "      <td>-0.222521</td>\n",
              "      <td>0.207912</td>\n",
              "      <td>0.978148</td>\n",
              "      <td>361</td>\n",
              "    </tr>\n",
              "    <tr>\n",
              "      <th>1</th>\n",
              "      <td>9E</td>\n",
              "      <td>3281</td>\n",
              "      <td>MSP</td>\n",
              "      <td>CVG</td>\n",
              "      <td>13:59:00</td>\n",
              "      <td>1400-1459</td>\n",
              "      <td>596.0</td>\n",
              "      <td>0.0</td>\n",
              "      <td>0.974928</td>\n",
              "      <td>-0.222521</td>\n",
              "      <td>0.207912</td>\n",
              "      <td>0.978148</td>\n",
              "      <td>839</td>\n",
              "    </tr>\n",
              "    <tr>\n",
              "      <th>2</th>\n",
              "      <td>9E</td>\n",
              "      <td>3282</td>\n",
              "      <td>DTW</td>\n",
              "      <td>CVG</td>\n",
              "      <td>12:15:00</td>\n",
              "      <td>1200-1259</td>\n",
              "      <td>229.0</td>\n",
              "      <td>0.0</td>\n",
              "      <td>0.974928</td>\n",
              "      <td>-0.222521</td>\n",
              "      <td>0.207912</td>\n",
              "      <td>0.978148</td>\n",
              "      <td>735</td>\n",
              "    </tr>\n",
              "    <tr>\n",
              "      <th>3</th>\n",
              "      <td>9E</td>\n",
              "      <td>3283</td>\n",
              "      <td>TLH</td>\n",
              "      <td>ATL</td>\n",
              "      <td>15:21:00</td>\n",
              "      <td>1500-1559</td>\n",
              "      <td>223.0</td>\n",
              "      <td>0.0</td>\n",
              "      <td>0.974928</td>\n",
              "      <td>-0.222521</td>\n",
              "      <td>0.207912</td>\n",
              "      <td>0.978148</td>\n",
              "      <td>921</td>\n",
              "    </tr>\n",
              "    <tr>\n",
              "      <th>4</th>\n",
              "      <td>9E</td>\n",
              "      <td>3284</td>\n",
              "      <td>ATL</td>\n",
              "      <td>FSM</td>\n",
              "      <td>18:47:00</td>\n",
              "      <td>1900-1959</td>\n",
              "      <td>579.0</td>\n",
              "      <td>0.0</td>\n",
              "      <td>0.974928</td>\n",
              "      <td>-0.222521</td>\n",
              "      <td>0.207912</td>\n",
              "      <td>0.978148</td>\n",
              "      <td>1127</td>\n",
              "    </tr>\n",
              "    <tr>\n",
              "      <th>...</th>\n",
              "      <td>...</td>\n",
              "      <td>...</td>\n",
              "      <td>...</td>\n",
              "      <td>...</td>\n",
              "      <td>...</td>\n",
              "      <td>...</td>\n",
              "      <td>...</td>\n",
              "      <td>...</td>\n",
              "      <td>...</td>\n",
              "      <td>...</td>\n",
              "      <td>...</td>\n",
              "      <td>...</td>\n",
              "      <td>...</td>\n",
              "    </tr>\n",
              "    <tr>\n",
              "      <th>607341</th>\n",
              "      <td>9E</td>\n",
              "      <td>4812</td>\n",
              "      <td>TYS</td>\n",
              "      <td>DTW</td>\n",
              "      <td>10:02:00</td>\n",
              "      <td>0700-0759</td>\n",
              "      <td>443.0</td>\n",
              "      <td>1.0</td>\n",
              "      <td>-0.974928</td>\n",
              "      <td>-0.222521</td>\n",
              "      <td>0.207912</td>\n",
              "      <td>0.978148</td>\n",
              "      <td>602</td>\n",
              "    </tr>\n",
              "    <tr>\n",
              "      <th>607342</th>\n",
              "      <td>9E</td>\n",
              "      <td>4813</td>\n",
              "      <td>DTW</td>\n",
              "      <td>JFK</td>\n",
              "      <td>17:47:00</td>\n",
              "      <td>1700-1759</td>\n",
              "      <td>509.0</td>\n",
              "      <td>0.0</td>\n",
              "      <td>-0.974928</td>\n",
              "      <td>-0.222521</td>\n",
              "      <td>0.207912</td>\n",
              "      <td>0.978148</td>\n",
              "      <td>1067</td>\n",
              "    </tr>\n",
              "    <tr>\n",
              "      <th>607343</th>\n",
              "      <td>9E</td>\n",
              "      <td>4814</td>\n",
              "      <td>GSP</td>\n",
              "      <td>LGA</td>\n",
              "      <td>05:54:00</td>\n",
              "      <td>0600-0659</td>\n",
              "      <td>610.0</td>\n",
              "      <td>0.0</td>\n",
              "      <td>-0.974928</td>\n",
              "      <td>-0.222521</td>\n",
              "      <td>0.207912</td>\n",
              "      <td>0.978148</td>\n",
              "      <td>354</td>\n",
              "    </tr>\n",
              "    <tr>\n",
              "      <th>607344</th>\n",
              "      <td>9E</td>\n",
              "      <td>4815</td>\n",
              "      <td>ATL</td>\n",
              "      <td>XNA</td>\n",
              "      <td>17:14:00</td>\n",
              "      <td>1700-1759</td>\n",
              "      <td>589.0</td>\n",
              "      <td>0.0</td>\n",
              "      <td>-0.974928</td>\n",
              "      <td>-0.222521</td>\n",
              "      <td>0.207912</td>\n",
              "      <td>0.978148</td>\n",
              "      <td>1034</td>\n",
              "    </tr>\n",
              "    <tr>\n",
              "      <th>607345</th>\n",
              "      <td>9E</td>\n",
              "      <td>4815</td>\n",
              "      <td>XNA</td>\n",
              "      <td>ATL</td>\n",
              "      <td>18:41:00</td>\n",
              "      <td>1800-1859</td>\n",
              "      <td>589.0</td>\n",
              "      <td>0.0</td>\n",
              "      <td>-0.974928</td>\n",
              "      <td>-0.222521</td>\n",
              "      <td>0.207912</td>\n",
              "      <td>0.978148</td>\n",
              "      <td>1121</td>\n",
              "    </tr>\n",
              "  </tbody>\n",
              "</table>\n",
              "<p>1165231 rows × 13 columns</p>\n",
              "</div>"
            ],
            "text/plain": [
              "       OP_CARRIER  OP_CARRIER_FL_NUM  ... DAY_OF_MONTH_COS DEP_TIME_MINUTES\n",
              "0              9E               3280  ...         0.978148              361\n",
              "1              9E               3281  ...         0.978148              839\n",
              "2              9E               3282  ...         0.978148              735\n",
              "3              9E               3283  ...         0.978148              921\n",
              "4              9E               3284  ...         0.978148             1127\n",
              "...           ...                ...  ...              ...              ...\n",
              "607341         9E               4812  ...         0.978148              602\n",
              "607342         9E               4813  ...         0.978148             1067\n",
              "607343         9E               4814  ...         0.978148              354\n",
              "607344         9E               4815  ...         0.978148             1034\n",
              "607345         9E               4815  ...         0.978148             1121\n",
              "\n",
              "[1165231 rows x 13 columns]"
            ]
          },
          "metadata": {
            "tags": []
          },
          "execution_count": 95
        }
      ]
    },
    {
      "cell_type": "code",
      "metadata": {
        "id": "HORejth4I1jT",
        "colab_type": "code",
        "colab": {
          "base_uri": "https://localhost:8080/",
          "height": 422
        },
        "outputId": "db46e8e6-6469-4fef-ae56-e467529324a8"
      },
      "source": [
        "max_time_in_a_day = 24*60\n",
        "\n",
        "encode( flight_data, \"DEP_TIME_MINUTES\", max_time_in_a_day)\n"
      ],
      "execution_count": 96,
      "outputs": [
        {
          "output_type": "execute_result",
          "data": {
            "text/html": [
              "<div>\n",
              "<style scoped>\n",
              "    .dataframe tbody tr th:only-of-type {\n",
              "        vertical-align: middle;\n",
              "    }\n",
              "\n",
              "    .dataframe tbody tr th {\n",
              "        vertical-align: top;\n",
              "    }\n",
              "\n",
              "    .dataframe thead th {\n",
              "        text-align: right;\n",
              "    }\n",
              "</style>\n",
              "<table border=\"1\" class=\"dataframe\">\n",
              "  <thead>\n",
              "    <tr style=\"text-align: right;\">\n",
              "      <th></th>\n",
              "      <th>OP_CARRIER</th>\n",
              "      <th>OP_CARRIER_FL_NUM</th>\n",
              "      <th>ORIGIN</th>\n",
              "      <th>DEST</th>\n",
              "      <th>DEP_TIME</th>\n",
              "      <th>DEP_TIME_BLK</th>\n",
              "      <th>DISTANCE</th>\n",
              "      <th>DEP_DELAY</th>\n",
              "      <th>DAY_OF_WEEK_SIN</th>\n",
              "      <th>DAY_OF_WEEK_COS</th>\n",
              "      <th>DAY_OF_MONTH_SIN</th>\n",
              "      <th>DAY_OF_MONTH_COS</th>\n",
              "      <th>DEP_TIME_MINUTES</th>\n",
              "      <th>DEP_TIME_MINUTES_SIN</th>\n",
              "      <th>DEP_TIME_MINUTES_COS</th>\n",
              "    </tr>\n",
              "  </thead>\n",
              "  <tbody>\n",
              "    <tr>\n",
              "      <th>0</th>\n",
              "      <td>9E</td>\n",
              "      <td>3280</td>\n",
              "      <td>GNV</td>\n",
              "      <td>ATL</td>\n",
              "      <td>06:01:00</td>\n",
              "      <td>0600-0659</td>\n",
              "      <td>300.0</td>\n",
              "      <td>0.0</td>\n",
              "      <td>0.974928</td>\n",
              "      <td>-0.222521</td>\n",
              "      <td>0.207912</td>\n",
              "      <td>0.978148</td>\n",
              "      <td>361</td>\n",
              "      <td>0.999990</td>\n",
              "      <td>-0.004363</td>\n",
              "    </tr>\n",
              "    <tr>\n",
              "      <th>1</th>\n",
              "      <td>9E</td>\n",
              "      <td>3281</td>\n",
              "      <td>MSP</td>\n",
              "      <td>CVG</td>\n",
              "      <td>13:59:00</td>\n",
              "      <td>1400-1459</td>\n",
              "      <td>596.0</td>\n",
              "      <td>0.0</td>\n",
              "      <td>0.974928</td>\n",
              "      <td>-0.222521</td>\n",
              "      <td>0.207912</td>\n",
              "      <td>0.978148</td>\n",
              "      <td>839</td>\n",
              "      <td>-0.496217</td>\n",
              "      <td>-0.868199</td>\n",
              "    </tr>\n",
              "    <tr>\n",
              "      <th>2</th>\n",
              "      <td>9E</td>\n",
              "      <td>3282</td>\n",
              "      <td>DTW</td>\n",
              "      <td>CVG</td>\n",
              "      <td>12:15:00</td>\n",
              "      <td>1200-1259</td>\n",
              "      <td>229.0</td>\n",
              "      <td>0.0</td>\n",
              "      <td>0.974928</td>\n",
              "      <td>-0.222521</td>\n",
              "      <td>0.207912</td>\n",
              "      <td>0.978148</td>\n",
              "      <td>735</td>\n",
              "      <td>-0.065403</td>\n",
              "      <td>-0.997859</td>\n",
              "    </tr>\n",
              "    <tr>\n",
              "      <th>3</th>\n",
              "      <td>9E</td>\n",
              "      <td>3283</td>\n",
              "      <td>TLH</td>\n",
              "      <td>ATL</td>\n",
              "      <td>15:21:00</td>\n",
              "      <td>1500-1559</td>\n",
              "      <td>223.0</td>\n",
              "      <td>0.0</td>\n",
              "      <td>0.974928</td>\n",
              "      <td>-0.222521</td>\n",
              "      <td>0.207912</td>\n",
              "      <td>0.978148</td>\n",
              "      <td>921</td>\n",
              "      <td>-0.768842</td>\n",
              "      <td>-0.639439</td>\n",
              "    </tr>\n",
              "    <tr>\n",
              "      <th>4</th>\n",
              "      <td>9E</td>\n",
              "      <td>3284</td>\n",
              "      <td>ATL</td>\n",
              "      <td>FSM</td>\n",
              "      <td>18:47:00</td>\n",
              "      <td>1900-1959</td>\n",
              "      <td>579.0</td>\n",
              "      <td>0.0</td>\n",
              "      <td>0.974928</td>\n",
              "      <td>-0.222521</td>\n",
              "      <td>0.207912</td>\n",
              "      <td>0.978148</td>\n",
              "      <td>1127</td>\n",
              "      <td>-0.979045</td>\n",
              "      <td>0.203642</td>\n",
              "    </tr>\n",
              "    <tr>\n",
              "      <th>...</th>\n",
              "      <td>...</td>\n",
              "      <td>...</td>\n",
              "      <td>...</td>\n",
              "      <td>...</td>\n",
              "      <td>...</td>\n",
              "      <td>...</td>\n",
              "      <td>...</td>\n",
              "      <td>...</td>\n",
              "      <td>...</td>\n",
              "      <td>...</td>\n",
              "      <td>...</td>\n",
              "      <td>...</td>\n",
              "      <td>...</td>\n",
              "      <td>...</td>\n",
              "      <td>...</td>\n",
              "    </tr>\n",
              "    <tr>\n",
              "      <th>607341</th>\n",
              "      <td>9E</td>\n",
              "      <td>4812</td>\n",
              "      <td>TYS</td>\n",
              "      <td>DTW</td>\n",
              "      <td>10:02:00</td>\n",
              "      <td>0700-0759</td>\n",
              "      <td>443.0</td>\n",
              "      <td>1.0</td>\n",
              "      <td>-0.974928</td>\n",
              "      <td>-0.222521</td>\n",
              "      <td>0.207912</td>\n",
              "      <td>0.978148</td>\n",
              "      <td>602</td>\n",
              "      <td>0.492424</td>\n",
              "      <td>-0.870356</td>\n",
              "    </tr>\n",
              "    <tr>\n",
              "      <th>607342</th>\n",
              "      <td>9E</td>\n",
              "      <td>4813</td>\n",
              "      <td>DTW</td>\n",
              "      <td>JFK</td>\n",
              "      <td>17:47:00</td>\n",
              "      <td>1700-1759</td>\n",
              "      <td>509.0</td>\n",
              "      <td>0.0</td>\n",
              "      <td>-0.974928</td>\n",
              "      <td>-0.222521</td>\n",
              "      <td>0.207912</td>\n",
              "      <td>0.978148</td>\n",
              "      <td>1067</td>\n",
              "      <td>-0.998392</td>\n",
              "      <td>-0.056693</td>\n",
              "    </tr>\n",
              "    <tr>\n",
              "      <th>607343</th>\n",
              "      <td>9E</td>\n",
              "      <td>4814</td>\n",
              "      <td>GSP</td>\n",
              "      <td>LGA</td>\n",
              "      <td>05:54:00</td>\n",
              "      <td>0600-0659</td>\n",
              "      <td>610.0</td>\n",
              "      <td>0.0</td>\n",
              "      <td>-0.974928</td>\n",
              "      <td>-0.222521</td>\n",
              "      <td>0.207912</td>\n",
              "      <td>0.978148</td>\n",
              "      <td>354</td>\n",
              "      <td>0.999657</td>\n",
              "      <td>0.026177</td>\n",
              "    </tr>\n",
              "    <tr>\n",
              "      <th>607344</th>\n",
              "      <td>9E</td>\n",
              "      <td>4815</td>\n",
              "      <td>ATL</td>\n",
              "      <td>XNA</td>\n",
              "      <td>17:14:00</td>\n",
              "      <td>1700-1759</td>\n",
              "      <td>589.0</td>\n",
              "      <td>0.0</td>\n",
              "      <td>-0.974928</td>\n",
              "      <td>-0.222521</td>\n",
              "      <td>0.207912</td>\n",
              "      <td>0.978148</td>\n",
              "      <td>1034</td>\n",
              "      <td>-0.979925</td>\n",
              "      <td>-0.199368</td>\n",
              "    </tr>\n",
              "    <tr>\n",
              "      <th>607345</th>\n",
              "      <td>9E</td>\n",
              "      <td>4815</td>\n",
              "      <td>XNA</td>\n",
              "      <td>ATL</td>\n",
              "      <td>18:41:00</td>\n",
              "      <td>1800-1859</td>\n",
              "      <td>589.0</td>\n",
              "      <td>0.0</td>\n",
              "      <td>-0.974928</td>\n",
              "      <td>-0.222521</td>\n",
              "      <td>0.207912</td>\n",
              "      <td>0.978148</td>\n",
              "      <td>1121</td>\n",
              "      <td>-0.984041</td>\n",
              "      <td>0.177944</td>\n",
              "    </tr>\n",
              "  </tbody>\n",
              "</table>\n",
              "<p>1165231 rows × 15 columns</p>\n",
              "</div>"
            ],
            "text/plain": [
              "       OP_CARRIER  ...  DEP_TIME_MINUTES_COS\n",
              "0              9E  ...             -0.004363\n",
              "1              9E  ...             -0.868199\n",
              "2              9E  ...             -0.997859\n",
              "3              9E  ...             -0.639439\n",
              "4              9E  ...              0.203642\n",
              "...           ...  ...                   ...\n",
              "607341         9E  ...             -0.870356\n",
              "607342         9E  ...             -0.056693\n",
              "607343         9E  ...              0.026177\n",
              "607344         9E  ...             -0.199368\n",
              "607345         9E  ...              0.177944\n",
              "\n",
              "[1165231 rows x 15 columns]"
            ]
          },
          "metadata": {
            "tags": []
          },
          "execution_count": 96
        }
      ]
    },
    {
      "cell_type": "code",
      "metadata": {
        "id": "LA-6Wh-1I1VA",
        "colab_type": "code",
        "colab": {
          "base_uri": "https://localhost:8080/",
          "height": 101
        },
        "outputId": "649e720d-fd40-4fce-f5f8-ac1f5f0d4e64"
      },
      "source": [
        "flight_data.columns"
      ],
      "execution_count": 97,
      "outputs": [
        {
          "output_type": "execute_result",
          "data": {
            "text/plain": [
              "Index(['OP_CARRIER', 'OP_CARRIER_FL_NUM', 'ORIGIN', 'DEST', 'DEP_TIME',\n",
              "       'DEP_TIME_BLK', 'DISTANCE', 'DEP_DELAY', 'DAY_OF_WEEK_SIN',\n",
              "       'DAY_OF_WEEK_COS', 'DAY_OF_MONTH_SIN', 'DAY_OF_MONTH_COS',\n",
              "       'DEP_TIME_MINUTES', 'DEP_TIME_MINUTES_SIN', 'DEP_TIME_MINUTES_COS'],\n",
              "      dtype='object')"
            ]
          },
          "metadata": {
            "tags": []
          },
          "execution_count": 97
        }
      ]
    },
    {
      "cell_type": "code",
      "metadata": {
        "id": "X7_eX9vUI1JI",
        "colab_type": "code",
        "colab": {}
      },
      "source": [
        "## Columns added with sin and cos parameters w.r.t \"DEP_TIME_MINUTES\" column"
      ],
      "execution_count": 98,
      "outputs": []
    },
    {
      "cell_type": "code",
      "metadata": {
        "id": "x0P_uWZSI08G",
        "colab_type": "code",
        "colab": {}
      },
      "source": [
        "## Now, we can drop \"DEP_TIME\" column and \"DEP_TIME_MINUTES\"\n",
        "flight_data = flight_data.drop(columns = [\"DEP_TIME\", \"DEP_TIME_MINUTES\"])"
      ],
      "execution_count": 99,
      "outputs": []
    },
    {
      "cell_type": "code",
      "metadata": {
        "id": "jp1tvugR5o56",
        "colab_type": "code",
        "colab": {
          "base_uri": "https://localhost:8080/",
          "height": 252
        },
        "outputId": "954bd9ba-0de9-46b2-a4e3-68b9a73c0e9f"
      },
      "source": [
        "## Dtypes of columns present in the dataset at this point\n",
        "flight_data.dtypes"
      ],
      "execution_count": 100,
      "outputs": [
        {
          "output_type": "execute_result",
          "data": {
            "text/plain": [
              "OP_CARRIER               object\n",
              "OP_CARRIER_FL_NUM         int64\n",
              "ORIGIN                   object\n",
              "DEST                     object\n",
              "DEP_TIME_BLK             object\n",
              "DISTANCE                float64\n",
              "DEP_DELAY               float64\n",
              "DAY_OF_WEEK_SIN         float64\n",
              "DAY_OF_WEEK_COS         float64\n",
              "DAY_OF_MONTH_SIN        float64\n",
              "DAY_OF_MONTH_COS        float64\n",
              "DEP_TIME_MINUTES_SIN    float64\n",
              "DEP_TIME_MINUTES_COS    float64\n",
              "dtype: object"
            ]
          },
          "metadata": {
            "tags": []
          },
          "execution_count": 100
        }
      ]
    },
    {
      "cell_type": "code",
      "metadata": {
        "id": "ttHwnXm65ovb",
        "colab_type": "code",
        "colab": {}
      },
      "source": [
        "## Applying LabelEncoding on \"ORIGIN\" and \"DEST\" columns:\n",
        "\n",
        "flight_data[\"ORIGIN\"] = flight_data[\"ORIGIN\"].astype('category')\n",
        "flight_data[\"DEST\"] = flight_data[\"DEST\"].astype('category')\n",
        "\n",
        "flight_data[\"ORIGIN_ENCODE\"] = flight_data[\"ORIGIN\"].cat.codes\n",
        "flight_data[\"DEST_ENCODE\"] = flight_data[\"DEST\"].cat.codes\n",
        "\n",
        "## Drop \"ORIGIN\" and \"DEST\" columns \n",
        "flight_data = flight_data.drop(columns = [\"ORIGIN\", \"DEST\"])"
      ],
      "execution_count": 101,
      "outputs": []
    },
    {
      "cell_type": "code",
      "metadata": {
        "id": "JmyGFxps-PNh",
        "colab_type": "code",
        "colab": {
          "base_uri": "https://localhost:8080/",
          "height": 232
        },
        "outputId": "3fdc63ce-a6c9-49aa-9ef0-3db8c9b8e34a"
      },
      "source": [
        "# One Hot encoding\n",
        "flight_data = pd.get_dummies(data = flight_data, columns = [\"OP_CARRIER\", \"DEP_TIME_BLK\"], drop_first = True)\n",
        "flight_data.head()"
      ],
      "execution_count": 102,
      "outputs": [
        {
          "output_type": "execute_result",
          "data": {
            "text/html": [
              "<div>\n",
              "<style scoped>\n",
              "    .dataframe tbody tr th:only-of-type {\n",
              "        vertical-align: middle;\n",
              "    }\n",
              "\n",
              "    .dataframe tbody tr th {\n",
              "        vertical-align: top;\n",
              "    }\n",
              "\n",
              "    .dataframe thead th {\n",
              "        text-align: right;\n",
              "    }\n",
              "</style>\n",
              "<table border=\"1\" class=\"dataframe\">\n",
              "  <thead>\n",
              "    <tr style=\"text-align: right;\">\n",
              "      <th></th>\n",
              "      <th>OP_CARRIER_FL_NUM</th>\n",
              "      <th>DISTANCE</th>\n",
              "      <th>DEP_DELAY</th>\n",
              "      <th>DAY_OF_WEEK_SIN</th>\n",
              "      <th>DAY_OF_WEEK_COS</th>\n",
              "      <th>DAY_OF_MONTH_SIN</th>\n",
              "      <th>DAY_OF_MONTH_COS</th>\n",
              "      <th>DEP_TIME_MINUTES_SIN</th>\n",
              "      <th>DEP_TIME_MINUTES_COS</th>\n",
              "      <th>ORIGIN_ENCODE</th>\n",
              "      <th>DEST_ENCODE</th>\n",
              "      <th>OP_CARRIER_AA</th>\n",
              "      <th>OP_CARRIER_AS</th>\n",
              "      <th>OP_CARRIER_B6</th>\n",
              "      <th>OP_CARRIER_DL</th>\n",
              "      <th>OP_CARRIER_EV</th>\n",
              "      <th>OP_CARRIER_F9</th>\n",
              "      <th>OP_CARRIER_G4</th>\n",
              "      <th>OP_CARRIER_HA</th>\n",
              "      <th>OP_CARRIER_MQ</th>\n",
              "      <th>OP_CARRIER_NK</th>\n",
              "      <th>OP_CARRIER_OH</th>\n",
              "      <th>OP_CARRIER_OO</th>\n",
              "      <th>OP_CARRIER_UA</th>\n",
              "      <th>OP_CARRIER_WN</th>\n",
              "      <th>OP_CARRIER_YV</th>\n",
              "      <th>OP_CARRIER_YX</th>\n",
              "      <th>DEP_TIME_BLK_0600-0659</th>\n",
              "      <th>DEP_TIME_BLK_0700-0759</th>\n",
              "      <th>DEP_TIME_BLK_0800-0859</th>\n",
              "      <th>DEP_TIME_BLK_0900-0959</th>\n",
              "      <th>DEP_TIME_BLK_1000-1059</th>\n",
              "      <th>DEP_TIME_BLK_1100-1159</th>\n",
              "      <th>DEP_TIME_BLK_1200-1259</th>\n",
              "      <th>DEP_TIME_BLK_1300-1359</th>\n",
              "      <th>DEP_TIME_BLK_1400-1459</th>\n",
              "      <th>DEP_TIME_BLK_1500-1559</th>\n",
              "      <th>DEP_TIME_BLK_1600-1659</th>\n",
              "      <th>DEP_TIME_BLK_1700-1759</th>\n",
              "      <th>DEP_TIME_BLK_1800-1859</th>\n",
              "      <th>DEP_TIME_BLK_1900-1959</th>\n",
              "      <th>DEP_TIME_BLK_2000-2059</th>\n",
              "      <th>DEP_TIME_BLK_2100-2159</th>\n",
              "      <th>DEP_TIME_BLK_2200-2259</th>\n",
              "      <th>DEP_TIME_BLK_2300-2359</th>\n",
              "    </tr>\n",
              "  </thead>\n",
              "  <tbody>\n",
              "    <tr>\n",
              "      <th>0</th>\n",
              "      <td>3280</td>\n",
              "      <td>300.0</td>\n",
              "      <td>0.0</td>\n",
              "      <td>0.974928</td>\n",
              "      <td>-0.222521</td>\n",
              "      <td>0.207912</td>\n",
              "      <td>0.978148</td>\n",
              "      <td>0.999990</td>\n",
              "      <td>-0.004363</td>\n",
              "      <td>130</td>\n",
              "      <td>19</td>\n",
              "      <td>0</td>\n",
              "      <td>0</td>\n",
              "      <td>0</td>\n",
              "      <td>0</td>\n",
              "      <td>0</td>\n",
              "      <td>0</td>\n",
              "      <td>0</td>\n",
              "      <td>0</td>\n",
              "      <td>0</td>\n",
              "      <td>0</td>\n",
              "      <td>0</td>\n",
              "      <td>0</td>\n",
              "      <td>0</td>\n",
              "      <td>0</td>\n",
              "      <td>0</td>\n",
              "      <td>0</td>\n",
              "      <td>1</td>\n",
              "      <td>0</td>\n",
              "      <td>0</td>\n",
              "      <td>0</td>\n",
              "      <td>0</td>\n",
              "      <td>0</td>\n",
              "      <td>0</td>\n",
              "      <td>0</td>\n",
              "      <td>0</td>\n",
              "      <td>0</td>\n",
              "      <td>0</td>\n",
              "      <td>0</td>\n",
              "      <td>0</td>\n",
              "      <td>0</td>\n",
              "      <td>0</td>\n",
              "      <td>0</td>\n",
              "      <td>0</td>\n",
              "      <td>0</td>\n",
              "    </tr>\n",
              "    <tr>\n",
              "      <th>1</th>\n",
              "      <td>3281</td>\n",
              "      <td>596.0</td>\n",
              "      <td>0.0</td>\n",
              "      <td>0.974928</td>\n",
              "      <td>-0.222521</td>\n",
              "      <td>0.207912</td>\n",
              "      <td>0.978148</td>\n",
              "      <td>-0.496217</td>\n",
              "      <td>-0.868199</td>\n",
              "      <td>227</td>\n",
              "      <td>82</td>\n",
              "      <td>0</td>\n",
              "      <td>0</td>\n",
              "      <td>0</td>\n",
              "      <td>0</td>\n",
              "      <td>0</td>\n",
              "      <td>0</td>\n",
              "      <td>0</td>\n",
              "      <td>0</td>\n",
              "      <td>0</td>\n",
              "      <td>0</td>\n",
              "      <td>0</td>\n",
              "      <td>0</td>\n",
              "      <td>0</td>\n",
              "      <td>0</td>\n",
              "      <td>0</td>\n",
              "      <td>0</td>\n",
              "      <td>0</td>\n",
              "      <td>0</td>\n",
              "      <td>0</td>\n",
              "      <td>0</td>\n",
              "      <td>0</td>\n",
              "      <td>0</td>\n",
              "      <td>0</td>\n",
              "      <td>0</td>\n",
              "      <td>1</td>\n",
              "      <td>0</td>\n",
              "      <td>0</td>\n",
              "      <td>0</td>\n",
              "      <td>0</td>\n",
              "      <td>0</td>\n",
              "      <td>0</td>\n",
              "      <td>0</td>\n",
              "      <td>0</td>\n",
              "      <td>0</td>\n",
              "    </tr>\n",
              "    <tr>\n",
              "      <th>2</th>\n",
              "      <td>3282</td>\n",
              "      <td>229.0</td>\n",
              "      <td>0.0</td>\n",
              "      <td>0.974928</td>\n",
              "      <td>-0.222521</td>\n",
              "      <td>0.207912</td>\n",
              "      <td>0.978148</td>\n",
              "      <td>-0.065403</td>\n",
              "      <td>-0.997859</td>\n",
              "      <td>97</td>\n",
              "      <td>82</td>\n",
              "      <td>0</td>\n",
              "      <td>0</td>\n",
              "      <td>0</td>\n",
              "      <td>0</td>\n",
              "      <td>0</td>\n",
              "      <td>0</td>\n",
              "      <td>0</td>\n",
              "      <td>0</td>\n",
              "      <td>0</td>\n",
              "      <td>0</td>\n",
              "      <td>0</td>\n",
              "      <td>0</td>\n",
              "      <td>0</td>\n",
              "      <td>0</td>\n",
              "      <td>0</td>\n",
              "      <td>0</td>\n",
              "      <td>0</td>\n",
              "      <td>0</td>\n",
              "      <td>0</td>\n",
              "      <td>0</td>\n",
              "      <td>0</td>\n",
              "      <td>0</td>\n",
              "      <td>1</td>\n",
              "      <td>0</td>\n",
              "      <td>0</td>\n",
              "      <td>0</td>\n",
              "      <td>0</td>\n",
              "      <td>0</td>\n",
              "      <td>0</td>\n",
              "      <td>0</td>\n",
              "      <td>0</td>\n",
              "      <td>0</td>\n",
              "      <td>0</td>\n",
              "      <td>0</td>\n",
              "    </tr>\n",
              "    <tr>\n",
              "      <th>3</th>\n",
              "      <td>3283</td>\n",
              "      <td>223.0</td>\n",
              "      <td>0.0</td>\n",
              "      <td>0.974928</td>\n",
              "      <td>-0.222521</td>\n",
              "      <td>0.207912</td>\n",
              "      <td>0.978148</td>\n",
              "      <td>-0.768842</td>\n",
              "      <td>-0.639439</td>\n",
              "      <td>331</td>\n",
              "      <td>19</td>\n",
              "      <td>0</td>\n",
              "      <td>0</td>\n",
              "      <td>0</td>\n",
              "      <td>0</td>\n",
              "      <td>0</td>\n",
              "      <td>0</td>\n",
              "      <td>0</td>\n",
              "      <td>0</td>\n",
              "      <td>0</td>\n",
              "      <td>0</td>\n",
              "      <td>0</td>\n",
              "      <td>0</td>\n",
              "      <td>0</td>\n",
              "      <td>0</td>\n",
              "      <td>0</td>\n",
              "      <td>0</td>\n",
              "      <td>0</td>\n",
              "      <td>0</td>\n",
              "      <td>0</td>\n",
              "      <td>0</td>\n",
              "      <td>0</td>\n",
              "      <td>0</td>\n",
              "      <td>0</td>\n",
              "      <td>0</td>\n",
              "      <td>0</td>\n",
              "      <td>1</td>\n",
              "      <td>0</td>\n",
              "      <td>0</td>\n",
              "      <td>0</td>\n",
              "      <td>0</td>\n",
              "      <td>0</td>\n",
              "      <td>0</td>\n",
              "      <td>0</td>\n",
              "      <td>0</td>\n",
              "    </tr>\n",
              "    <tr>\n",
              "      <th>4</th>\n",
              "      <td>3284</td>\n",
              "      <td>579.0</td>\n",
              "      <td>0.0</td>\n",
              "      <td>0.974928</td>\n",
              "      <td>-0.222521</td>\n",
              "      <td>0.207912</td>\n",
              "      <td>0.978148</td>\n",
              "      <td>-0.979045</td>\n",
              "      <td>0.203642</td>\n",
              "      <td>19</td>\n",
              "      <td>122</td>\n",
              "      <td>0</td>\n",
              "      <td>0</td>\n",
              "      <td>0</td>\n",
              "      <td>0</td>\n",
              "      <td>0</td>\n",
              "      <td>0</td>\n",
              "      <td>0</td>\n",
              "      <td>0</td>\n",
              "      <td>0</td>\n",
              "      <td>0</td>\n",
              "      <td>0</td>\n",
              "      <td>0</td>\n",
              "      <td>0</td>\n",
              "      <td>0</td>\n",
              "      <td>0</td>\n",
              "      <td>0</td>\n",
              "      <td>0</td>\n",
              "      <td>0</td>\n",
              "      <td>0</td>\n",
              "      <td>0</td>\n",
              "      <td>0</td>\n",
              "      <td>0</td>\n",
              "      <td>0</td>\n",
              "      <td>0</td>\n",
              "      <td>0</td>\n",
              "      <td>0</td>\n",
              "      <td>0</td>\n",
              "      <td>0</td>\n",
              "      <td>0</td>\n",
              "      <td>1</td>\n",
              "      <td>0</td>\n",
              "      <td>0</td>\n",
              "      <td>0</td>\n",
              "      <td>0</td>\n",
              "    </tr>\n",
              "  </tbody>\n",
              "</table>\n",
              "</div>"
            ],
            "text/plain": [
              "   OP_CARRIER_FL_NUM  DISTANCE  ...  DEP_TIME_BLK_2200-2259  DEP_TIME_BLK_2300-2359\n",
              "0               3280     300.0  ...                       0                       0\n",
              "1               3281     596.0  ...                       0                       0\n",
              "2               3282     229.0  ...                       0                       0\n",
              "3               3283     223.0  ...                       0                       0\n",
              "4               3284     579.0  ...                       0                       0\n",
              "\n",
              "[5 rows x 45 columns]"
            ]
          },
          "metadata": {
            "tags": []
          },
          "execution_count": 102
        }
      ]
    },
    {
      "cell_type": "code",
      "metadata": {
        "id": "9sOPHArS5MTq",
        "colab_type": "code",
        "colab": {}
      },
      "source": [
        "# Moving \"DEP_DELAY\" column and making it the last colunm in the dataset:\n",
        "cols_at_end = [\"DEP_DELAY\"]\n",
        "flight_data = flight_data[[c for c in flight_data if c not in cols_at_end] \n",
        "        + [c for c in cols_at_end if c in flight_data]]"
      ],
      "execution_count": 103,
      "outputs": []
    },
    {
      "cell_type": "code",
      "metadata": {
        "id": "VlWuqWrn5olF",
        "colab_type": "code",
        "colab": {
          "base_uri": "https://localhost:8080/",
          "height": 790
        },
        "outputId": "897cbe7d-e785-47df-b721-60822d783054"
      },
      "source": [
        "flight_data.dtypes"
      ],
      "execution_count": 104,
      "outputs": [
        {
          "output_type": "execute_result",
          "data": {
            "text/plain": [
              "OP_CARRIER_FL_NUM           int64\n",
              "DISTANCE                  float64\n",
              "DAY_OF_WEEK_SIN           float64\n",
              "DAY_OF_WEEK_COS           float64\n",
              "DAY_OF_MONTH_SIN          float64\n",
              "DAY_OF_MONTH_COS          float64\n",
              "DEP_TIME_MINUTES_SIN      float64\n",
              "DEP_TIME_MINUTES_COS      float64\n",
              "ORIGIN_ENCODE               int16\n",
              "DEST_ENCODE                 int16\n",
              "OP_CARRIER_AA               uint8\n",
              "OP_CARRIER_AS               uint8\n",
              "OP_CARRIER_B6               uint8\n",
              "OP_CARRIER_DL               uint8\n",
              "OP_CARRIER_EV               uint8\n",
              "OP_CARRIER_F9               uint8\n",
              "OP_CARRIER_G4               uint8\n",
              "OP_CARRIER_HA               uint8\n",
              "OP_CARRIER_MQ               uint8\n",
              "OP_CARRIER_NK               uint8\n",
              "OP_CARRIER_OH               uint8\n",
              "OP_CARRIER_OO               uint8\n",
              "OP_CARRIER_UA               uint8\n",
              "OP_CARRIER_WN               uint8\n",
              "OP_CARRIER_YV               uint8\n",
              "OP_CARRIER_YX               uint8\n",
              "DEP_TIME_BLK_0600-0659      uint8\n",
              "DEP_TIME_BLK_0700-0759      uint8\n",
              "DEP_TIME_BLK_0800-0859      uint8\n",
              "DEP_TIME_BLK_0900-0959      uint8\n",
              "DEP_TIME_BLK_1000-1059      uint8\n",
              "DEP_TIME_BLK_1100-1159      uint8\n",
              "DEP_TIME_BLK_1200-1259      uint8\n",
              "DEP_TIME_BLK_1300-1359      uint8\n",
              "DEP_TIME_BLK_1400-1459      uint8\n",
              "DEP_TIME_BLK_1500-1559      uint8\n",
              "DEP_TIME_BLK_1600-1659      uint8\n",
              "DEP_TIME_BLK_1700-1759      uint8\n",
              "DEP_TIME_BLK_1800-1859      uint8\n",
              "DEP_TIME_BLK_1900-1959      uint8\n",
              "DEP_TIME_BLK_2000-2059      uint8\n",
              "DEP_TIME_BLK_2100-2159      uint8\n",
              "DEP_TIME_BLK_2200-2259      uint8\n",
              "DEP_TIME_BLK_2300-2359      uint8\n",
              "DEP_DELAY                 float64\n",
              "dtype: object"
            ]
          },
          "metadata": {
            "tags": []
          },
          "execution_count": 104
        }
      ]
    },
    {
      "cell_type": "code",
      "metadata": {
        "id": "tWzoZyt65oXy",
        "colab_type": "code",
        "colab": {}
      },
      "source": [
        "# Loading X and y parameters for our model building\n",
        "\n",
        "X = flight_data.iloc[:, :-1].values\n",
        "y = flight_data.iloc[:, -1].values"
      ],
      "execution_count": 105,
      "outputs": []
    },
    {
      "cell_type": "code",
      "metadata": {
        "id": "ms1DVepkN1dY",
        "colab_type": "code",
        "colab": {}
      },
      "source": [
        "# Split data \n",
        "from sklearn.model_selection import train_test_split\n",
        "\n",
        "X_train, X_test, y_train, y_test = train_test_split(X, y, test_size = 0.2)"
      ],
      "execution_count": 106,
      "outputs": []
    },
    {
      "cell_type": "code",
      "metadata": {
        "id": "MO50pvJYAVZ1",
        "colab_type": "code",
        "colab": {
          "base_uri": "https://localhost:8080/",
          "height": 84
        },
        "outputId": "556f7d8e-b42f-4141-8efe-381355d20700"
      },
      "source": [
        "# find index of columns to be scaled \n",
        "print(flight_data.columns.get_loc(\"OP_CARRIER_FL_NUM\"))\n",
        "print(flight_data.columns.get_loc(\"DISTANCE\"))\n",
        "print(flight_data.columns.get_loc(\"ORIGIN_ENCODE\"))\n",
        "print(flight_data.columns.get_loc(\"DEST_ENCODE\"))\n"
      ],
      "execution_count": 107,
      "outputs": [
        {
          "output_type": "stream",
          "text": [
            "0\n",
            "1\n",
            "8\n",
            "9\n"
          ],
          "name": "stdout"
        }
      ]
    },
    {
      "cell_type": "code",
      "metadata": {
        "id": "x3vvoumZPNgr",
        "colab_type": "code",
        "colab": {}
      },
      "source": [
        "# Applying Feature Scaling \n",
        "\n",
        "from sklearn.preprocessing import StandardScaler\n",
        "sc = StandardScaler()\n",
        "X_train[:, [0, 1, 8, 9]] = sc.fit_transform(X_train[:, [0, 1, 8, 9]])\n",
        "X_test[:, [0, 1, 8, 9]] = sc.transform(X_test[:, [0, 1, 8, 9]])\n"
      ],
      "execution_count": 108,
      "outputs": []
    },
    {
      "cell_type": "code",
      "metadata": {
        "id": "rHF9bcqjN1HF",
        "colab_type": "code",
        "colab": {
          "base_uri": "https://localhost:8080/",
          "height": 101
        },
        "outputId": "3102ce5e-d99c-4d82-e0d7-7f7010ff99b3"
      },
      "source": [
        "# Model 1: Logistic Regression\n",
        "\n",
        "from sklearn.linear_model import LogisticRegression\n",
        "\n",
        "log_classifier = LogisticRegression(random_state = 0)\n",
        "log_classifier.fit(X_train, y_train)"
      ],
      "execution_count": 109,
      "outputs": [
        {
          "output_type": "execute_result",
          "data": {
            "text/plain": [
              "LogisticRegression(C=1.0, class_weight=None, dual=False, fit_intercept=True,\n",
              "                   intercept_scaling=1, l1_ratio=None, max_iter=100,\n",
              "                   multi_class='auto', n_jobs=None, penalty='l2',\n",
              "                   random_state=0, solver='lbfgs', tol=0.0001, verbose=0,\n",
              "                   warm_start=False)"
            ]
          },
          "metadata": {
            "tags": []
          },
          "execution_count": 109
        }
      ]
    },
    {
      "cell_type": "code",
      "metadata": {
        "id": "QCtda9BvN06T",
        "colab_type": "code",
        "colab": {}
      },
      "source": [
        "# Predicting the test set result : Logistic Classifier\n",
        "\n",
        "y_pred = log_classifier.predict(X_test)"
      ],
      "execution_count": 110,
      "outputs": []
    },
    {
      "cell_type": "code",
      "metadata": {
        "id": "JWYEKBdQN0qH",
        "colab_type": "code",
        "colab": {
          "base_uri": "https://localhost:8080/",
          "height": 118
        },
        "outputId": "c0849ed3-1511-43bf-fd1a-a634c4668349"
      },
      "source": [
        "# Making the confusion matrix \n",
        "\n",
        "from sklearn.metrics import confusion_matrix, accuracy_score\n",
        "cm = confusion_matrix(y_test, y_pred)\n",
        "print(\"Confusion Matrix : Logistic Regression\")\n",
        "print(cm)\n",
        "print()\n",
        "print(\"Accuracy Score : Logistic Regression\")\n",
        "print( accuracy_score(y_test, y_pred))\n"
      ],
      "execution_count": 111,
      "outputs": [
        {
          "output_type": "stream",
          "text": [
            "Confusion Matrix : Logistic Regression\n",
            "[[196795    555]\n",
            " [ 27578   8119]]\n",
            "\n",
            "Accuracy Score : Logistic Regression\n",
            "0.8792818615987333\n"
          ],
          "name": "stdout"
        }
      ]
    },
    {
      "cell_type": "code",
      "metadata": {
        "id": "yKDsBQuaHrET",
        "colab_type": "code",
        "colab": {
          "base_uri": "https://localhost:8080/",
          "height": 168
        },
        "outputId": "e5d33353-e383-4a95-ace9-acc0a1d4ce46"
      },
      "source": [
        "from sklearn.metrics import classification_report\n",
        "\n",
        "print(classification_report(y_test, y_pred))"
      ],
      "execution_count": 112,
      "outputs": [
        {
          "output_type": "stream",
          "text": [
            "              precision    recall  f1-score   support\n",
            "\n",
            "         0.0       0.88      1.00      0.93    197350\n",
            "         1.0       0.94      0.23      0.37     35697\n",
            "\n",
            "    accuracy                           0.88    233047\n",
            "   macro avg       0.91      0.61      0.65    233047\n",
            "weighted avg       0.89      0.88      0.85    233047\n",
            "\n"
          ],
          "name": "stdout"
        }
      ]
    },
    {
      "cell_type": "code",
      "metadata": {
        "id": "3JUnHTa1P2kR",
        "colab_type": "code",
        "colab": {}
      },
      "source": [
        "# Model 2: Naive Bayes Algorithm"
      ],
      "execution_count": 113,
      "outputs": []
    },
    {
      "cell_type": "code",
      "metadata": {
        "id": "Z1Wy7PYsP2cM",
        "colab_type": "code",
        "colab": {
          "base_uri": "https://localhost:8080/",
          "height": 34
        },
        "outputId": "43ba7903-d155-4af9-c191-01c88df7b63f"
      },
      "source": [
        "from sklearn.naive_bayes import GaussianNB\n",
        "nb_classifier = GaussianNB()\n",
        "nb_classifier.fit(X_train, y_train)"
      ],
      "execution_count": 115,
      "outputs": [
        {
          "output_type": "execute_result",
          "data": {
            "text/plain": [
              "GaussianNB(priors=None, var_smoothing=1e-09)"
            ]
          },
          "metadata": {
            "tags": []
          },
          "execution_count": 115
        }
      ]
    },
    {
      "cell_type": "code",
      "metadata": {
        "id": "NMeIw3ulQKcO",
        "colab_type": "code",
        "colab": {}
      },
      "source": [
        "# Predicting the test set result : Naive Bayes\n",
        "\n",
        "y_pred_nb = nb_classifier.predict(X_test)"
      ],
      "execution_count": 116,
      "outputs": []
    },
    {
      "cell_type": "code",
      "metadata": {
        "id": "RrWNOXUlQKTT",
        "colab_type": "code",
        "colab": {
          "base_uri": "https://localhost:8080/",
          "height": 118
        },
        "outputId": "dffc8b5e-0cb0-4f31-93aa-fd57dfd3d94d"
      },
      "source": [
        "# Making the confusion matrix : Naive Bayes\n",
        "\n",
        "from sklearn.metrics import confusion_matrix, accuracy_score\n",
        "cm = confusion_matrix(y_test, y_pred_nb)\n",
        "print(\"Confusion Matrix : Naive Bayes \")\n",
        "print(cm)\n",
        "print()\n",
        "print(\"Accuracy Score : Naive Bayes \")\n",
        "print( accuracy_score(y_test, y_pred_nb))"
      ],
      "execution_count": 117,
      "outputs": [
        {
          "output_type": "stream",
          "text": [
            "Confusion Matrix : Naive Bayes \n",
            "[[123967  73383]\n",
            " [ 16418  19279]]\n",
            "\n",
            "Accuracy Score : Naive Bayes \n",
            "0.6146657112084687\n"
          ],
          "name": "stdout"
        }
      ]
    },
    {
      "cell_type": "code",
      "metadata": {
        "id": "J9nAYE7dRZzF",
        "colab_type": "code",
        "colab": {
          "base_uri": "https://localhost:8080/",
          "height": 168
        },
        "outputId": "24c1cc8e-a9a1-426a-ed50-8a95da3d4d57"
      },
      "source": [
        "from sklearn.metrics import classification_report\n",
        "\n",
        "print(classification_report(y_test, y_pred_nb))"
      ],
      "execution_count": 118,
      "outputs": [
        {
          "output_type": "stream",
          "text": [
            "              precision    recall  f1-score   support\n",
            "\n",
            "         0.0       0.88      0.63      0.73    197350\n",
            "         1.0       0.21      0.54      0.30     35697\n",
            "\n",
            "    accuracy                           0.61    233047\n",
            "   macro avg       0.55      0.58      0.52    233047\n",
            "weighted avg       0.78      0.61      0.67    233047\n",
            "\n"
          ],
          "name": "stdout"
        }
      ]
    },
    {
      "cell_type": "code",
      "metadata": {
        "id": "xe8tSCutRZwH",
        "colab_type": "code",
        "colab": {}
      },
      "source": [
        "# Model 3: DecisionTreeClassifier"
      ],
      "execution_count": 119,
      "outputs": []
    },
    {
      "cell_type": "code",
      "metadata": {
        "id": "f3yHGfYCUghg",
        "colab_type": "code",
        "colab": {
          "base_uri": "https://localhost:8080/",
          "height": 118
        },
        "outputId": "88761d1f-621a-4b32-95e2-c10c67477437"
      },
      "source": [
        "from sklearn.tree import DecisionTreeClassifier\n",
        "dt_classifier = DecisionTreeClassifier(criterion = 'entropy', random_state = 0)\n",
        "dt_classifier.fit(X_train, y_train)"
      ],
      "execution_count": 120,
      "outputs": [
        {
          "output_type": "execute_result",
          "data": {
            "text/plain": [
              "DecisionTreeClassifier(ccp_alpha=0.0, class_weight=None, criterion='entropy',\n",
              "                       max_depth=None, max_features=None, max_leaf_nodes=None,\n",
              "                       min_impurity_decrease=0.0, min_impurity_split=None,\n",
              "                       min_samples_leaf=1, min_samples_split=2,\n",
              "                       min_weight_fraction_leaf=0.0, presort='deprecated',\n",
              "                       random_state=0, splitter='best')"
            ]
          },
          "metadata": {
            "tags": []
          },
          "execution_count": 120
        }
      ]
    },
    {
      "cell_type": "code",
      "metadata": {
        "id": "B4mO-OtjUgS7",
        "colab_type": "code",
        "colab": {}
      },
      "source": [
        "# Predicting the test set result : Decision Tree Classifier\n",
        "\n",
        "y_pred_dt = dt_classifier.predict(X_test)"
      ],
      "execution_count": 121,
      "outputs": []
    },
    {
      "cell_type": "code",
      "metadata": {
        "id": "wzGZAFVqUf8f",
        "colab_type": "code",
        "colab": {
          "base_uri": "https://localhost:8080/",
          "height": 118
        },
        "outputId": "4b994ff6-72b9-4d40-8a98-96f3e1404acb"
      },
      "source": [
        "# Making the confusion matrix : Decision Tree Classifier\n",
        "\n",
        "cm = confusion_matrix(y_test, y_pred_dt)\n",
        "print(\"Confusion Matrix : Decision Tree Classifier \")\n",
        "print(cm)\n",
        "print()\n",
        "print(\"Accuracy Score : Decision Tree Classifier \")\n",
        "print( accuracy_score(y_test, y_pred_dt))"
      ],
      "execution_count": 122,
      "outputs": [
        {
          "output_type": "stream",
          "text": [
            "Confusion Matrix : Decision Tree Classifier \n",
            "[[189835   7515]\n",
            " [  8623  27074]]\n",
            "\n",
            "Accuracy Score : Decision Tree Classifier \n",
            "0.9307521658721202\n"
          ],
          "name": "stdout"
        }
      ]
    },
    {
      "cell_type": "code",
      "metadata": {
        "id": "zV5_WbBOoRvX",
        "colab_type": "code",
        "colab": {
          "base_uri": "https://localhost:8080/",
          "height": 168
        },
        "outputId": "c840ed1c-a788-47a2-bdfb-32425c5bb5d0"
      },
      "source": [
        "from sklearn.metrics import classification_report\n",
        "\n",
        "print(classification_report(y_test, y_pred_dt))"
      ],
      "execution_count": 123,
      "outputs": [
        {
          "output_type": "stream",
          "text": [
            "              precision    recall  f1-score   support\n",
            "\n",
            "         0.0       0.96      0.96      0.96    197350\n",
            "         1.0       0.78      0.76      0.77     35697\n",
            "\n",
            "    accuracy                           0.93    233047\n",
            "   macro avg       0.87      0.86      0.86    233047\n",
            "weighted avg       0.93      0.93      0.93    233047\n",
            "\n"
          ],
          "name": "stdout"
        }
      ]
    },
    {
      "cell_type": "code",
      "metadata": {
        "id": "gDa0u215IYHl",
        "colab_type": "code",
        "colab": {}
      },
      "source": [
        ""
      ],
      "execution_count": 123,
      "outputs": []
    },
    {
      "cell_type": "code",
      "metadata": {
        "id": "4ukrsfKKoRtF",
        "colab_type": "code",
        "colab": {
          "base_uri": "https://localhost:8080/",
          "height": 101
        },
        "outputId": "09eb815b-10f6-424e-8622-7067725839a0"
      },
      "source": [
        "## Applying K-fold Cross Validation\n",
        "from sklearn.model_selection import cross_val_score\n",
        "accuracies_decision_tree = cross_val_score(estimator = dt_classifier, X = X_train, y = y_train, cv = 10)\n",
        "print(\"Accuracies mean for Decision tree is : \")\n",
        "print(accuracies_decision_tree.mean())\n",
        "print()\n",
        "print(\"Standard Deviation for Decision Tree accuracies is :\")\n",
        "print(accuracies_decision_tree.std())"
      ],
      "execution_count": 124,
      "outputs": [
        {
          "output_type": "stream",
          "text": [
            "Accuracies mean for Decision tree is : \n",
            "0.928356417912765\n",
            "\n",
            "Standard Deviation for Decision Tree accuracies is :\n",
            "0.0006631523314456069\n"
          ],
          "name": "stdout"
        }
      ]
    },
    {
      "cell_type": "code",
      "metadata": {
        "id": "b9RuUS11VP89",
        "colab_type": "code",
        "colab": {}
      },
      "source": [
        "# Model 4: Random Forest Classification"
      ],
      "execution_count": 125,
      "outputs": []
    },
    {
      "cell_type": "code",
      "metadata": {
        "id": "nB1QG8dCVPu2",
        "colab_type": "code",
        "colab": {
          "base_uri": "https://localhost:8080/",
          "height": 151
        },
        "outputId": "a1ed970b-08eb-4a8c-9a19-5afb6da513f1"
      },
      "source": [
        "from sklearn.ensemble import RandomForestClassifier\n",
        "rf_classifier = RandomForestClassifier(n_estimators = 10, criterion = 'entropy', random_state = 0)\n",
        "rf_classifier.fit(X_train, y_train)"
      ],
      "execution_count": 126,
      "outputs": [
        {
          "output_type": "execute_result",
          "data": {
            "text/plain": [
              "RandomForestClassifier(bootstrap=True, ccp_alpha=0.0, class_weight=None,\n",
              "                       criterion='entropy', max_depth=None, max_features='auto',\n",
              "                       max_leaf_nodes=None, max_samples=None,\n",
              "                       min_impurity_decrease=0.0, min_impurity_split=None,\n",
              "                       min_samples_leaf=1, min_samples_split=2,\n",
              "                       min_weight_fraction_leaf=0.0, n_estimators=10,\n",
              "                       n_jobs=None, oob_score=False, random_state=0, verbose=0,\n",
              "                       warm_start=False)"
            ]
          },
          "metadata": {
            "tags": []
          },
          "execution_count": 126
        }
      ]
    },
    {
      "cell_type": "code",
      "metadata": {
        "id": "sLF4Ecp4VPha",
        "colab_type": "code",
        "colab": {}
      },
      "source": [
        "# Predicting the test set result : Random Forest Classifier\n",
        "\n",
        "y_pred_rf = rf_classifier.predict(X_test)"
      ],
      "execution_count": 127,
      "outputs": []
    },
    {
      "cell_type": "code",
      "metadata": {
        "id": "Dscw7M-7RZtD",
        "colab_type": "code",
        "colab": {
          "base_uri": "https://localhost:8080/",
          "height": 118
        },
        "outputId": "ab763d1d-5962-4126-e753-ef6b385a84ba"
      },
      "source": [
        "# Making the confusion matrix : Random Forest Classifier\n",
        "\n",
        "cm = confusion_matrix(y_test, y_pred_rf)\n",
        "print(\"Confusion Matrix : Random Forest Classifier \")\n",
        "print(cm)\n",
        "print()\n",
        "print(\"Accuracy Score : Random Forest Classifier \")\n",
        "print( accuracy_score(y_test, y_pred_rf))"
      ],
      "execution_count": 128,
      "outputs": [
        {
          "output_type": "stream",
          "text": [
            "Confusion Matrix : Random Forest Classifier \n",
            "[[195683   1667]\n",
            " [ 13215  22482]]\n",
            "\n",
            "Accuracy Score : Random Forest Classifier \n",
            "0.9361416366655653\n"
          ],
          "name": "stdout"
        }
      ]
    },
    {
      "cell_type": "code",
      "metadata": {
        "id": "sojc9zF6Ilyx",
        "colab_type": "code",
        "colab": {
          "base_uri": "https://localhost:8080/",
          "height": 168
        },
        "outputId": "af87db43-01f0-4739-9040-a575a9426b40"
      },
      "source": [
        "from sklearn.metrics import classification_report\n",
        "\n",
        "print(classification_report(y_test, y_pred_rf))"
      ],
      "execution_count": 129,
      "outputs": [
        {
          "output_type": "stream",
          "text": [
            "              precision    recall  f1-score   support\n",
            "\n",
            "         0.0       0.94      0.99      0.96    197350\n",
            "         1.0       0.93      0.63      0.75     35697\n",
            "\n",
            "    accuracy                           0.94    233047\n",
            "   macro avg       0.93      0.81      0.86    233047\n",
            "weighted avg       0.94      0.94      0.93    233047\n",
            "\n"
          ],
          "name": "stdout"
        }
      ]
    },
    {
      "cell_type": "code",
      "metadata": {
        "id": "fDjzzg0hRYxU",
        "colab_type": "code",
        "colab": {
          "base_uri": "https://localhost:8080/",
          "height": 101
        },
        "outputId": "d60ebb5f-f204-44b4-d890-edf9378cbd20"
      },
      "source": [
        "## Applying K-fold Cross Validation\n",
        "from sklearn.model_selection import cross_val_score\n",
        "accuracies_random_forest = cross_val_score(estimator = rf_classifier, X = X_train, y = y_train, cv = 10)\n",
        "print(\"Accuracies mean for Random Forest is : \")\n",
        "print(accuracies_random_forest.mean())\n",
        "print()\n",
        "print(\"Standard Deviation for Random Forest accuracies is :\")\n",
        "print(accuracies_random_forest.std())"
      ],
      "execution_count": 130,
      "outputs": [
        {
          "output_type": "stream",
          "text": [
            "Accuracies mean for Random Forest is : \n",
            "0.93432412351646\n",
            "\n",
            "Standard Deviation for Random Forest accuracies is :\n",
            "0.0007487995375804332\n"
          ],
          "name": "stdout"
        }
      ]
    },
    {
      "cell_type": "code",
      "metadata": {
        "id": "bgKaqrdVNpZY",
        "colab_type": "code",
        "colab": {}
      },
      "source": [
        ""
      ],
      "execution_count": 130,
      "outputs": []
    }
  ]
}